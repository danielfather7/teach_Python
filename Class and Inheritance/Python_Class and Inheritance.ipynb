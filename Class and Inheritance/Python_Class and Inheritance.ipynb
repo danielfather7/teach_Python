{
 "cells": [
  {
   "cell_type": "markdown",
   "metadata": {},
   "source": [
    "# Class and  Inheritance"
   ]
  },
  {
   "cell_type": "markdown",
   "metadata": {},
   "source": [
    "### Explanation in a easy way:\n",
    "* class: a *__structure__* for more complicated data that contain arbitrary content (just a structure, doesn't actually fill in the content)\n",
    "* instance: a specific copy of the class that does contain all of the content\n",
    "* For example, I have a class called Pokemon, and it contains some basic information that is needed to be filled in,  like Pokemon's name, attack, defense, etc. Now I fill in some data, `Pokemon('Pikachu', 100, 50)`, and then a Pikachu instance is just created."
   ]
  },
  {
   "cell_type": "code",
   "execution_count": 2,
   "metadata": {
    "collapsed": true
   },
   "outputs": [],
   "source": [
    "# Define a class named Pokemon\n",
    "class Pokemon():\n",
    "    def __init__(self, name, attack, defence):\n",
    "        self.name = name\n",
    "        self.attack = attack\n",
    "        self.defence = defence\n",
    "        print('Hello world')\n",
    "    \n",
    "    def poko_name(self):\n",
    "        return self.name\n",
    "    \n",
    "    def poko_state(self):\n",
    "        return self.attack, self.defence\n",
    "    \n",
    "    def __str__(self):\n",
    "        return 'My name is %s, and my attack is %d, defence is %d.' %(self.name, self.attack, self.defence)"
   ]
  },
  {
   "cell_type": "code",
   "execution_count": 3,
   "metadata": {},
   "outputs": [
    {
     "name": "stdout",
     "output_type": "stream",
     "text": [
      "Hello world\n"
     ]
    }
   ],
   "source": [
    "Pikachu = Pokemon('Pikachu', 100, 50)"
   ]
  },
  {
   "cell_type": "code",
   "execution_count": 7,
   "metadata": {},
   "outputs": [
    {
     "data": {
      "text/plain": [
       "'Pikachu'"
      ]
     },
     "execution_count": 7,
     "metadata": {},
     "output_type": "execute_result"
    }
   ],
   "source": [
    "Pikachu.poko_name()"
   ]
  },
  {
   "cell_type": "code",
   "execution_count": 6,
   "metadata": {
    "scrolled": true
   },
   "outputs": [
    {
     "data": {
      "text/plain": [
       "(100, 50)"
      ]
     },
     "execution_count": 6,
     "metadata": {},
     "output_type": "execute_result"
    }
   ],
   "source": [
    "Pikachu.poko_state()"
   ]
  },
  {
   "cell_type": "code",
   "execution_count": 23,
   "metadata": {},
   "outputs": [
    {
     "data": {
      "text/plain": [
       "'Pikachu'"
      ]
     },
     "execution_count": 23,
     "metadata": {},
     "output_type": "execute_result"
    }
   ],
   "source": [
    "Pikachu.name"
   ]
  },
  {
   "cell_type": "markdown",
   "metadata": {},
   "source": [
    "* notice that a function in a class is called **_method_**"
   ]
  },
  {
   "cell_type": "markdown",
   "metadata": {},
   "source": [
    "### What is `__init__`?\n",
    "* When we create a Pokemon, we need to initialize with its basic information as mentioned. The `__init__` method is a special Python function that is called when an instance of a class is first created.\n",
    "* When running the code `Pikachu = Pokemon('Pikachu', 100, 50)`, the `__init__` method is called with values Pikachu, \"Pikachu\", 100, and 50 for the variables self, name, attack and defence, respectively.\n",
    "\n",
    "### What is `self`?\n",
    "* `self` is the instance. In this case, `self` represents the Pikachu instance itself.\n",
    "\n",
    "### But there are 4 variables in `__init__` method (self, name, attack, defence), why we only need to fill in 3 (e.g. `Pikachu = Pokemon('Pikachu', 100, 50)`) ?\n",
    "* This is a special behavior of Python: when you call a method of an instance, Python automatically figures out what self should be (from the instance) and passes it to the function."
   ]
  },
  {
   "cell_type": "code",
   "execution_count": 45,
   "metadata": {},
   "outputs": [
    {
     "ename": "TypeError",
     "evalue": "__init__() takes 4 positional arguments but 5 were given",
     "output_type": "error",
     "traceback": [
      "\u001b[0;31m---------------------------------------------------------------------------\u001b[0m",
      "\u001b[0;31mTypeError\u001b[0m                                 Traceback (most recent call last)",
      "\u001b[0;32m<ipython-input-45-88ce65354210>\u001b[0m in \u001b[0;36m<module>\u001b[0;34m()\u001b[0m\n\u001b[0;32m----> 1\u001b[0;31m \u001b[0mPikachu\u001b[0m \u001b[0;34m=\u001b[0m \u001b[0mPokemon\u001b[0m\u001b[0;34m(\u001b[0m\u001b[0mPikachu\u001b[0m\u001b[0;34m,\u001b[0m \u001b[0;34m'Pikachu'\u001b[0m\u001b[0;34m,\u001b[0m \u001b[0;36m100\u001b[0m\u001b[0;34m,\u001b[0m \u001b[0;36m50\u001b[0m\u001b[0;34m)\u001b[0m\u001b[0;34m\u001b[0m\u001b[0m\n\u001b[0m",
      "\u001b[0;31mTypeError\u001b[0m: __init__() takes 4 positional arguments but 5 were given"
     ]
    }
   ],
   "source": [
    "Pikachu = Pokemon(Pikachu, 'Pikachu', 100, 50)"
   ]
  },
  {
   "cell_type": "markdown",
   "metadata": {},
   "source": [
    "### So a method in a class always have `self` as its first variable, which means getting the contents of the instance."
   ]
  },
  {
   "cell_type": "code",
   "execution_count": 8,
   "metadata": {},
   "outputs": [
    {
     "data": {
      "text/plain": [
       "'Pikachu'"
      ]
     },
     "execution_count": 8,
     "metadata": {},
     "output_type": "execute_result"
    }
   ],
   "source": [
    "### To make it clear, here's an example.\n",
    "### Standard way of calling `poko_name`:\n",
    "Pikachu.poko_name()\n",
    "### In the case, `self` represents the Pikachu instance itself, and is automatically passed into the function by Python."
   ]
  },
  {
   "cell_type": "code",
   "execution_count": 9,
   "metadata": {},
   "outputs": [
    {
     "data": {
      "text/plain": [
       "'Pikachu'"
      ]
     },
     "execution_count": 9,
     "metadata": {},
     "output_type": "execute_result"
    }
   ],
   "source": [
    "### Inconventional way:\n",
    "Pokemon.poko_name(Pikachu)"
   ]
  },
  {
   "cell_type": "code",
   "execution_count": 10,
   "metadata": {},
   "outputs": [
    {
     "ename": "TypeError",
     "evalue": "poko_name() missing 1 required positional argument: 'self'",
     "output_type": "error",
     "traceback": [
      "\u001b[0;31m---------------------------------------------------------------------------\u001b[0m",
      "\u001b[0;31mTypeError\u001b[0m                                 Traceback (most recent call last)",
      "\u001b[0;32m<ipython-input-10-79d11dfba256>\u001b[0m in \u001b[0;36m<module>\u001b[0;34m()\u001b[0m\n\u001b[1;32m      1\u001b[0m \u001b[0;31m### if we didn't do that\u001b[0m\u001b[0;34m\u001b[0m\u001b[0;34m\u001b[0m\u001b[0m\n\u001b[0;32m----> 2\u001b[0;31m \u001b[0mPokemon\u001b[0m\u001b[0;34m.\u001b[0m\u001b[0mpoko_name\u001b[0m\u001b[0;34m(\u001b[0m\u001b[0;34m)\u001b[0m\u001b[0;34m\u001b[0m\u001b[0m\n\u001b[0m\u001b[1;32m      3\u001b[0m \u001b[0;31m### then there is a variable missed.\u001b[0m\u001b[0;34m\u001b[0m\u001b[0;34m\u001b[0m\u001b[0m\n",
      "\u001b[0;31mTypeError\u001b[0m: poko_name() missing 1 required positional argument: 'self'"
     ]
    }
   ],
   "source": [
    "### if we didn't do that\n",
    "Pokemon.poko_name()\n",
    "### then there is a variable missed."
   ]
  },
  {
   "cell_type": "markdown",
   "metadata": {},
   "source": [
    "### What is `__str__`?\n",
    "* It's also a special method like `__init__`. (Actually, you will find that something in double underscores always has special function in Python.)\n",
    "* This method defines the format if `print` out."
   ]
  },
  {
   "cell_type": "code",
   "execution_count": 11,
   "metadata": {},
   "outputs": [
    {
     "name": "stdout",
     "output_type": "stream",
     "text": [
      "My name is Pikachu, and my attack is 100, defence is 50.\n"
     ]
    }
   ],
   "source": [
    "### what __str__ does.\n",
    "print(Pikachu)"
   ]
  },
  {
   "cell_type": "markdown",
   "metadata": {},
   "source": [
    "### Subclass\n",
    "* Sometimes a single class is not enough. For example, there are 18 types of the Pokemon, like grass, fire, water, etc.\n",
    "* We can make another class that is a Pokemon but is also specifically a electric type Pokemon. This gives us the structure from Pokemon but also any structure we want to specify for Electric type."
   ]
  },
  {
   "cell_type": "code",
   "execution_count": 12,
   "metadata": {
    "collapsed": true
   },
   "outputs": [],
   "source": [
    "class Electric(Pokemon):\n",
    "    def __init__(self, name, attack, defence):\n",
    "        Pokemon.__init__(self, name, attack, defence)"
   ]
  },
  {
   "cell_type": "code",
   "execution_count": 13,
   "metadata": {},
   "outputs": [
    {
     "name": "stdout",
     "output_type": "stream",
     "text": [
      "Hello world\n",
      "My name is Raichu, and my attack is 200, defence is 100.\n"
     ]
    }
   ],
   "source": [
    "Raichu = Electric('Raichu', 200, 100)\n",
    "print(Raichu)"
   ]
  },
  {
   "cell_type": "markdown",
   "metadata": {},
   "source": [
    "* In the case, Electric use the structure from Pokemon. Methods from Pokemon can be directly used. We can also define  specfic methods:"
   ]
  },
  {
   "cell_type": "code",
   "execution_count": 14,
   "metadata": {
    "collapsed": true
   },
   "outputs": [],
   "source": [
    "class Electric(Pokemon):\n",
    "    def __init__(self, name, attack, defence):\n",
    "        Pokemon.__init__(self, name, attack, defence)\n",
    "        \n",
    "    def __str__(self):\n",
    "        return 'My name is %s, and my attack is %d, defence is %d. I am electric type.' %(self.name, self.attack, self.defence)"
   ]
  },
  {
   "cell_type": "code",
   "execution_count": 15,
   "metadata": {},
   "outputs": [
    {
     "name": "stdout",
     "output_type": "stream",
     "text": [
      "Hello world\n"
     ]
    },
    {
     "data": {
      "text/plain": [
       "(200, 100)"
      ]
     },
     "execution_count": 15,
     "metadata": {},
     "output_type": "execute_result"
    }
   ],
   "source": [
    "Raichu = Electric('Raichu', 200, 100)\n",
    "Raichu.poko_state()"
   ]
  },
  {
   "cell_type": "code",
   "execution_count": 16,
   "metadata": {},
   "outputs": [
    {
     "name": "stdout",
     "output_type": "stream",
     "text": [
      "My name is Raichu, and my attack is 200, defence is 100. I am electric type.\n"
     ]
    }
   ],
   "source": [
    "### __str__ method from Pokemon is replaced in Electric.\n",
    "print(Raichu)"
   ]
  },
  {
   "cell_type": "markdown",
   "metadata": {},
   "source": [
    "### Inheritance\n",
    "* In previous example, we already know that `class Electric(Pokemon)` means Electric class inherits from Pokemon class. (Electric is a subclass of Pokemon.)\n",
    "* Actually, if we remian blank in parenthesis, Python will make it inherit form `object`.\n",
    "* To be clear, in first example, `class Pokemon()` is totally same as `class Pokemon(object)`."
   ]
  },
  {
   "cell_type": "code",
   "execution_count": 17,
   "metadata": {},
   "outputs": [
    {
     "data": {
      "text/plain": [
       "True"
      ]
     },
     "execution_count": 17,
     "metadata": {},
     "output_type": "execute_result"
    }
   ],
   "source": [
    "### check instance\n",
    "isinstance(Raichu, Electric)"
   ]
  },
  {
   "cell_type": "code",
   "execution_count": 18,
   "metadata": {},
   "outputs": [
    {
     "data": {
      "text/plain": [
       "True"
      ]
     },
     "execution_count": 18,
     "metadata": {},
     "output_type": "execute_result"
    }
   ],
   "source": [
    "isinstance(Raichu, Pokemon)"
   ]
  },
  {
   "cell_type": "code",
   "execution_count": 19,
   "metadata": {},
   "outputs": [
    {
     "data": {
      "text/plain": [
       "False"
      ]
     },
     "execution_count": 19,
     "metadata": {},
     "output_type": "execute_result"
    }
   ],
   "source": [
    "isinstance(Pikachu, Electric)"
   ]
  },
  {
   "cell_type": "code",
   "execution_count": 20,
   "metadata": {},
   "outputs": [
    {
     "data": {
      "text/plain": [
       "True"
      ]
     },
     "execution_count": 20,
     "metadata": {},
     "output_type": "execute_result"
    }
   ],
   "source": [
    "isinstance(Pikachu, Pokemon)"
   ]
  },
  {
   "cell_type": "markdown",
   "metadata": {},
   "source": [
    "### Multiple Inheritance"
   ]
  },
  {
   "cell_type": "code",
   "execution_count": 21,
   "metadata": {
    "collapsed": true
   },
   "outputs": [],
   "source": [
    "# An example for multiple inheritance:\n",
    "class Base():\n",
    "    def __init__(self, value):\n",
    "        self.value = value\n",
    "\n",
    "\n",
    "class Times(Base):\n",
    "    def __init__(self, value):\n",
    "        Base.__init__(self, value)\n",
    "        self.value *= 10\n",
    "\n",
    "\n",
    "class Plus(Base):\n",
    "    def __init__(self, value):\n",
    "        Base.__init__(self, value)\n",
    "        self.value += 5\n",
    "\n",
    "\n",
    "class MultInher(Times, Plus):\n",
    "    def __init__(self, value):\n",
    "        Times.__init__(self, value)\n",
    "        Plus.__init__(self, value)"
   ]
  },
  {
   "cell_type": "code",
   "execution_count": 22,
   "metadata": {},
   "outputs": [],
   "source": [
    "result = MultInher(8)"
   ]
  },
  {
   "cell_type": "markdown",
   "metadata": {},
   "source": [
    "### Now take a guess what is the value of result.value?"
   ]
  },
  {
   "cell_type": "code",
   "execution_count": 24,
   "metadata": {},
   "outputs": [
    {
     "data": {
      "text/plain": [
       "'\\n\\n\\n\\n\\n\\n\\n\\n\\n\\n\\n\\n\\n\\n\\n\\n\\n\\n\\n\\n\\n\\n\\n\\n\\n\\n\\n\\n\\n\\n\\n\\n\\n\\n\\n\\n\\n\\n\\n\\n\\n\\n'"
      ]
     },
     "execution_count": 24,
     "metadata": {},
     "output_type": "execute_result"
    }
   ],
   "source": [
    "\"\"\"\n",
    "\n",
    "\n",
    "\n",
    "\n",
    "\n",
    "\n",
    "\n",
    "\n",
    "\n",
    "\n",
    "\n",
    "\n",
    "\n",
    "\n",
    "\n",
    "\n",
    "\n",
    "\n",
    "\n",
    "\n",
    "\n",
    "\n",
    "\n",
    "\n",
    "\n",
    "\n",
    "\n",
    "\n",
    "\n",
    "\n",
    "\n",
    "\n",
    "\n",
    "\n",
    "\n",
    "\n",
    "\n",
    "\n",
    "\n",
    "\n",
    "\n",
    "\"\"\""
   ]
  },
  {
   "cell_type": "markdown",
   "metadata": {},
   "source": [
    "### Someone's answer is 85?"
   ]
  },
  {
   "cell_type": "code",
   "execution_count": 26,
   "metadata": {
    "scrolled": true
   },
   "outputs": [
    {
     "data": {
      "text/plain": [
       "13"
      ]
     },
     "execution_count": 26,
     "metadata": {},
     "output_type": "execute_result"
    }
   ],
   "source": [
    "# Let's check.\n",
    "result = MultInher(8)\n",
    "result.value"
   ]
  },
  {
   "cell_type": "markdown",
   "metadata": {},
   "source": [
    "### Why is 13?\n",
    "<img src=\"multinher_example1.jpeg\">"
   ]
  },
  {
   "cell_type": "markdown",
   "metadata": {},
   "source": [
    "* You might notice that in this case, `__init__` method in the base class is executed twice.  However, most of time, we want it to execute for only one time."
   ]
  },
  {
   "cell_type": "markdown",
   "metadata": {},
   "source": [
    "### Super()\n",
    "* When you have multiple inheritance, the super() helps to ensure that the proper method resolution order (MRO) is followed when moving up the inheritance tree.\n",
    "* Super() is to find **_next class_** in MRO.\n",
    "* It is also a shortcut to allow you to access the base class of a derived class, without having to know or type the base class name."
   ]
  },
  {
   "cell_type": "code",
   "execution_count": 27,
   "metadata": {
    "collapsed": true
   },
   "outputs": [],
   "source": [
    "# Define a simple class named A\n",
    "class A():\n",
    "    def __init__(self, a):\n",
    "        print('enter A')\n",
    "        self.a = a\n",
    "        print(self.a)\n",
    "        print('leave A')\n",
    "    \n",
    "    def method(self):\n",
    "        print()\n",
    "        print('method from A')\n",
    "        print(self.a)"
   ]
  },
  {
   "cell_type": "code",
   "execution_count": 30,
   "metadata": {},
   "outputs": [
    {
     "name": "stdout",
     "output_type": "stream",
     "text": [
      "enter A\n",
      "3\n",
      "leave A\n",
      "\n",
      "method from A\n",
      "3\n"
     ]
    }
   ],
   "source": [
    "# Try \n",
    "instance = A(3)\n",
    "instance.method()"
   ]
  },
  {
   "cell_type": "code",
   "execution_count": 34,
   "metadata": {
    "collapsed": true
   },
   "outputs": [],
   "source": [
    "# Define a class named B which is inherited from A.\n",
    "class A():\n",
    "    def __init__(self, a):\n",
    "        print('enter A')\n",
    "        self.a = a\n",
    "        print(self.a)\n",
    "        print('leave A')\n",
    "    \n",
    "    def method(self):\n",
    "        print()\n",
    "        print('method from A')\n",
    "        print(self.a)\n",
    "\n",
    "class B(A):\n",
    "    def __init__(self, b):\n",
    "        print('enter B')\n",
    "        super(B, self).__init__('I give from B')\n",
    "        self.a = 'self.a is changed from B'\n",
    "        print(self.a)\n",
    "        print('leave B')"
   ]
  },
  {
   "cell_type": "code",
   "execution_count": 35,
   "metadata": {},
   "outputs": [
    {
     "name": "stdout",
     "output_type": "stream",
     "text": [
      "enter B\n",
      "enter A\n",
      "I give from B\n",
      "leave A\n",
      "self.a is changed from B\n",
      "leave B\n",
      "\n",
      "method from A\n",
      "self.a is changed from B\n"
     ]
    }
   ],
   "source": [
    "instance = B(1)\n",
    "instance.method()"
   ]
  },
  {
   "cell_type": "code",
   "execution_count": 38,
   "metadata": {
    "collapsed": true
   },
   "outputs": [],
   "source": [
    "# Another example using super()\n",
    "class B(A):\n",
    "    def __init__(self, b):\n",
    "        print('enter B')\n",
    "        super().__init__('I give from B')\n",
    "        self.a = 'self.a is changed from B'\n",
    "        print(self.a)\n",
    "        print('leave B')"
   ]
  },
  {
   "cell_type": "code",
   "execution_count": 39,
   "metadata": {},
   "outputs": [
    {
     "name": "stdout",
     "output_type": "stream",
     "text": [
      "enter B\n",
      "enter A\n",
      "I give from B\n",
      "leave A\n",
      "self.a is changed from B\n",
      "leave B\n",
      "\n",
      "method from A\n",
      "self.a is changed from B\n"
     ]
    }
   ],
   "source": [
    "instance = B(1)\n",
    "instance.method()"
   ]
  },
  {
   "cell_type": "code",
   "execution_count": 40,
   "metadata": {
    "collapsed": true
   },
   "outputs": [],
   "source": [
    "# Use inheritance method I mentioned at beginning.\n",
    "class B(A):\n",
    "    def __init__(self, b):\n",
    "        print('enter B')\n",
    "        A.__init__(self, 'I give from B')\n",
    "        self.a = 'self.a is changed from B'\n",
    "        print(self.a)\n",
    "        print('leave B')"
   ]
  },
  {
   "cell_type": "code",
   "execution_count": 41,
   "metadata": {},
   "outputs": [
    {
     "name": "stdout",
     "output_type": "stream",
     "text": [
      "enter B\n",
      "enter A\n",
      "I give from B\n",
      "leave A\n",
      "self.a is changed from B\n",
      "leave B\n",
      "\n",
      "method from A\n",
      "self.a is changed from B\n"
     ]
    }
   ],
   "source": [
    "instance = B(1)\n",
    "instance.method()"
   ]
  },
  {
   "cell_type": "markdown",
   "metadata": {},
   "source": [
    "* In this case, the results are same.\n",
    "* `super(B, self)` is totally same as `super()`.\n",
    "* In multiple inheritance case, results would be different by using `super()` and `A.__init__(self)`"
   ]
  },
  {
   "cell_type": "code",
   "execution_count": 49,
   "metadata": {
    "collapsed": true
   },
   "outputs": [],
   "source": [
    "class A():\n",
    "    def __init__(self, a):\n",
    "        print('enter A')\n",
    "        super().__init__()\n",
    "        self.a = a\n",
    "        print(self.a)\n",
    "        print('leave A')\n",
    "    \n",
    "    def method(self):\n",
    "        print()\n",
    "        print('method from A')\n",
    "        print(self.a)\n",
    "\n",
    "        \n",
    "class B(A):\n",
    "    def __init__(self, b1):\n",
    "        print('enter B')\n",
    "        super().__init__('I give from B')\n",
    "        self.a = 'self.a is changed from B'\n",
    "        print(self.a)\n",
    "        print('leave B')\n",
    "        \n",
    "\n",
    "class C(A):\n",
    "    def __init__(self, c1):\n",
    "        print('enter C')\n",
    "        super().__init__('I give from C')\n",
    "        print('leave C')\n",
    "    \n",
    "    def method(self):\n",
    "        print()\n",
    "        print('method from C')\n",
    "        print(self.a)\n",
    "        \n",
    "        \n",
    "class D(B, C):\n",
    "    def __init__(self, d):\n",
    "        print('enter D')\n",
    "        self.a = d\n",
    "        print('initial value of self.a:', self.a)\n",
    "        super().__init__('I give from D')\n",
    "        print(self.a)\n",
    "        print('leave D')"
   ]
  },
  {
   "cell_type": "code",
   "execution_count": 54,
   "metadata": {},
   "outputs": [
    {
     "data": {
      "text/plain": [
       "[__main__.D, __main__.B, __main__.C, __main__.A, object]"
      ]
     },
     "execution_count": 54,
     "metadata": {},
     "output_type": "execute_result"
    }
   ],
   "source": [
    "D.mro()"
   ]
  },
  {
   "cell_type": "code",
   "execution_count": 55,
   "metadata": {},
   "outputs": [
    {
     "name": "stdout",
     "output_type": "stream",
     "text": [
      "enter D\n",
      "initial value of self.a: 3\n",
      "enter B\n",
      "enter C\n",
      "enter A\n",
      "I give from C\n",
      "leave A\n",
      "leave C\n",
      "self.a is changed from B\n",
      "leave B\n",
      "self.a is changed from B\n",
      "leave D\n",
      "\n",
      "method from C\n",
      "self.a is changed from B\n"
     ]
    }
   ],
   "source": [
    "instance = D(3)\n",
    "instance.method()"
   ]
  },
  {
   "cell_type": "code",
   "execution_count": 60,
   "metadata": {},
   "outputs": [],
   "source": [
    "class D(C, B):\n",
    "    def __init__(self, d):\n",
    "        print('enter D')\n",
    "        self.a = d\n",
    "        print('initial value of self.a:', self.a)\n",
    "        super().__init__('I give from D')\n",
    "        print(self.a)\n",
    "        print('leave D')"
   ]
  },
  {
   "cell_type": "code",
   "execution_count": 62,
   "metadata": {},
   "outputs": [
    {
     "data": {
      "text/plain": [
       "[__main__.D, __main__.C, __main__.B, __main__.A, object]"
      ]
     },
     "execution_count": 62,
     "metadata": {},
     "output_type": "execute_result"
    }
   ],
   "source": [
    "D.mro()"
   ]
  },
  {
   "cell_type": "code",
   "execution_count": 63,
   "metadata": {},
   "outputs": [
    {
     "ename": "TypeError",
     "evalue": "Cannot create a consistent method resolution\norder (MRO) for bases B, A",
     "output_type": "error",
     "traceback": [
      "\u001b[0;31m---------------------------------------------------------------------------\u001b[0m",
      "\u001b[0;31mTypeError\u001b[0m                                 Traceback (most recent call last)",
      "\u001b[0;32m<ipython-input-63-082d39164cc6>\u001b[0m in \u001b[0;36m<module>\u001b[0;34m()\u001b[0m\n\u001b[0;32m----> 1\u001b[0;31m \u001b[0;32mclass\u001b[0m \u001b[0mD\u001b[0m\u001b[0;34m(\u001b[0m\u001b[0mA\u001b[0m\u001b[0;34m,\u001b[0m \u001b[0mB\u001b[0m\u001b[0;34m)\u001b[0m\u001b[0;34m:\u001b[0m\u001b[0;34m\u001b[0m\u001b[0m\n\u001b[0m\u001b[1;32m      2\u001b[0m     \u001b[0;32mdef\u001b[0m \u001b[0m__init__\u001b[0m\u001b[0;34m(\u001b[0m\u001b[0mself\u001b[0m\u001b[0;34m,\u001b[0m \u001b[0md\u001b[0m\u001b[0;34m)\u001b[0m\u001b[0;34m:\u001b[0m\u001b[0;34m\u001b[0m\u001b[0m\n\u001b[1;32m      3\u001b[0m         \u001b[0mprint\u001b[0m\u001b[0;34m(\u001b[0m\u001b[0;34m'enter D'\u001b[0m\u001b[0;34m)\u001b[0m\u001b[0;34m\u001b[0m\u001b[0m\n\u001b[1;32m      4\u001b[0m         \u001b[0mself\u001b[0m\u001b[0;34m.\u001b[0m\u001b[0ma\u001b[0m \u001b[0;34m=\u001b[0m \u001b[0md\u001b[0m\u001b[0;34m\u001b[0m\u001b[0m\n\u001b[1;32m      5\u001b[0m         \u001b[0mprint\u001b[0m\u001b[0;34m(\u001b[0m\u001b[0;34m'initial value of self.a:'\u001b[0m\u001b[0;34m,\u001b[0m \u001b[0mself\u001b[0m\u001b[0;34m.\u001b[0m\u001b[0ma\u001b[0m\u001b[0;34m)\u001b[0m\u001b[0;34m\u001b[0m\u001b[0m\n",
      "\u001b[0;31mTypeError\u001b[0m: Cannot create a consistent method resolution\norder (MRO) for bases B, A"
     ]
    }
   ],
   "source": [
    "class D(A, B):\n",
    "    def __init__(self, d):\n",
    "        print('enter D')\n",
    "        self.a = d\n",
    "        print('initial value of self.a:', self.a)\n",
    "        super().__init__('I give from D')\n",
    "        print(self.a)\n",
    "        print('leave D')"
   ]
  },
  {
   "cell_type": "code",
   "execution_count": 64,
   "metadata": {
    "collapsed": true
   },
   "outputs": [],
   "source": [
    "class A():\n",
    "    def __init__(self, a):\n",
    "        print('enter A')\n",
    "        super().__init__()\n",
    "        self.a = a\n",
    "        print(self.a)\n",
    "        print('leave A')\n",
    "    \n",
    "    def method(self):\n",
    "        print()\n",
    "        print('method from A')\n",
    "        print(self.a)\n",
    "\n",
    "        \n",
    "class B(A):\n",
    "    def __init__(self, b1):\n",
    "        print('enter B')\n",
    "        super().__init__('I give from B')\n",
    "        self.a = 'self.a is changed from B'\n",
    "        print(self.a)\n",
    "        print('leave B')\n",
    "    \n",
    "    def method(self):\n",
    "        print()\n",
    "        print('method from B')\n",
    "        print(self.a)\n",
    "        \n",
    "\n",
    "class C(A):\n",
    "    def __init__(self, c1):\n",
    "        print('enter C')\n",
    "        super().__init__('I give from C')\n",
    "        print('leave C')\n",
    "    \n",
    "    def method(self):\n",
    "        print()\n",
    "        print('method from C')\n",
    "        print(self.a)\n",
    "        \n",
    "        \n",
    "class D(B, C):\n",
    "    def __init__(self, d):\n",
    "        print('enter D')\n",
    "        self.a = d\n",
    "        print('initial value of self.a:', self.a)\n",
    "        super().__init__('I give from D')\n",
    "        print(self.a)\n",
    "        print('leave D')\n",
    "        \n",
    "    def method(self):\n",
    "        print()\n",
    "        print('method from D')\n",
    "        print(self.a)"
   ]
  },
  {
   "cell_type": "code",
   "execution_count": 66,
   "metadata": {},
   "outputs": [
    {
     "name": "stdout",
     "output_type": "stream",
     "text": [
      "enter D\n",
      "initial value of self.a: 3\n",
      "enter B\n",
      "enter C\n",
      "enter A\n",
      "I give from C\n",
      "leave A\n",
      "leave C\n",
      "self.a is changed from B\n",
      "leave B\n",
      "self.a is changed from B\n",
      "leave D\n",
      "enter D\n",
      "initial value of self.a: 3\n",
      "enter B\n",
      "enter C\n",
      "enter A\n",
      "I give from C\n",
      "leave A\n",
      "leave C\n",
      "self.a is changed from B\n",
      "leave B\n",
      "self.a is changed from B\n",
      "leave D\n",
      "\n",
      "method from D\n",
      "self.a is changed from B\n"
     ]
    }
   ],
   "source": [
    "intsance = D(3)\n",
    "D(3).method()"
   ]
  },
  {
   "cell_type": "code",
   "execution_count": 68,
   "metadata": {},
   "outputs": [],
   "source": [
    "class A():\n",
    "    def __init__(self, a):\n",
    "        print('enter A')\n",
    "        print('value of self.a:', self.a)\n",
    "        super().__init__('I give from A')\n",
    "        print(self.a)\n",
    "        print('leave A')\n",
    "    \n",
    "    def method(self):\n",
    "        print()\n",
    "        print('method from A')\n",
    "        print(self.a)\n",
    "\n",
    "        \n",
    "class B():\n",
    "    def __init__(self, b1):\n",
    "        print('enter B')\n",
    "        print('value of self.a:', self.a)\n",
    "        super().__init__()\n",
    "        self.a = 'self.a is changed from B'\n",
    "        print(self.a)\n",
    "        print('leave B')\n",
    "    \n",
    "    def method(self):\n",
    "        print()\n",
    "        print('method from B')\n",
    "        print(self.a)\n",
    "        \n",
    "\n",
    "class C(A):\n",
    "    def __init__(self, c1):\n",
    "        print('enter C')\n",
    "        print('value of self.a:', self.a)\n",
    "        super().__init__('I give from C')\n",
    "        print('leave C')\n",
    "    \n",
    "    def method(self):\n",
    "        print()\n",
    "        print('method from C')\n",
    "        print(self.a)\n",
    "        \n",
    "        \n",
    "class D(B):\n",
    "    def __init__(self, d):\n",
    "        print('enter D')\n",
    "        self.a = d\n",
    "        print('value of self.a:', self.a)\n",
    "        super().__init__('I give from D')\n",
    "        print(self.a)\n",
    "        print('leave D')\n",
    "        \n",
    "    def method(self):\n",
    "        print()\n",
    "        print('method from D')\n",
    "        print(self.a)\n",
    "\n",
    "class E(C, D):\n",
    "    def __init__(self, e):\n",
    "        print('enter E')\n",
    "        self.a = e\n",
    "        print('value of self.a:', self.a)\n",
    "        super().__init__('I give from E')\n",
    "        print(self.a)\n",
    "        print('leave E')\n",
    "        \n",
    "    def method(self):\n",
    "        print()\n",
    "        print('method from E')\n",
    "        print(self.a)"
   ]
  },
  {
   "cell_type": "code",
   "execution_count": 70,
   "metadata": {},
   "outputs": [
    {
     "data": {
      "text/plain": [
       "(__main__.E, __main__.C, __main__.A, __main__.D, __main__.B, object)"
      ]
     },
     "execution_count": 70,
     "metadata": {},
     "output_type": "execute_result"
    }
   ],
   "source": [
    "e.__class__.__mro__"
   ]
  },
  {
   "cell_type": "code",
   "execution_count": 69,
   "metadata": {},
   "outputs": [
    {
     "name": "stdout",
     "output_type": "stream",
     "text": [
      "enter E\n",
      "value of self.a: 3\n",
      "enter C\n",
      "value of self.a: 3\n",
      "enter A\n",
      "value of self.a: 3\n",
      "enter D\n",
      "value of self.a: I give from A\n",
      "enter B\n",
      "value of self.a: I give from A\n",
      "self.a is changed from B\n",
      "leave B\n",
      "self.a is changed from B\n",
      "leave D\n",
      "self.a is changed from B\n",
      "leave A\n",
      "leave C\n",
      "self.a is changed from B\n",
      "leave E\n",
      "\n",
      "method from E\n",
      "self.a is changed from B\n"
     ]
    }
   ],
   "source": [
    "e = E(3)\n",
    "e.method()"
   ]
  },
  {
   "cell_type": "code",
   "execution_count": 71,
   "metadata": {},
   "outputs": [],
   "source": [
    "class F(E, C):\n",
    "    def __init__(self, f):\n",
    "        print('enter F')"
   ]
  },
  {
   "cell_type": "code",
   "execution_count": 72,
   "metadata": {},
   "outputs": [
    {
     "name": "stdout",
     "output_type": "stream",
     "text": [
      "enter F\n"
     ]
    },
    {
     "data": {
      "text/plain": [
       "(__main__.F,\n",
       " __main__.E,\n",
       " __main__.C,\n",
       " __main__.A,\n",
       " __main__.D,\n",
       " __main__.B,\n",
       " object)"
      ]
     },
     "execution_count": 72,
     "metadata": {},
     "output_type": "execute_result"
    }
   ],
   "source": [
    "F(3).__class__.__mro__"
   ]
  },
  {
   "cell_type": "code",
   "execution_count": 73,
   "metadata": {
    "collapsed": true
   },
   "outputs": [],
   "source": [
    "class F(E, C):\n",
    "    def __init__(self, f):\n",
    "        print('enter F')\n",
    "        super(F, self).__init__('I give from F')"
   ]
  },
  {
   "cell_type": "code",
   "execution_count": 74,
   "metadata": {},
   "outputs": [
    {
     "name": "stdout",
     "output_type": "stream",
     "text": [
      "enter F\n",
      "enter E\n",
      "value of self.a: I give from F\n",
      "enter C\n",
      "value of self.a: I give from F\n",
      "enter A\n",
      "value of self.a: I give from F\n",
      "enter D\n",
      "value of self.a: I give from A\n",
      "enter B\n",
      "value of self.a: I give from A\n",
      "self.a is changed from B\n",
      "leave B\n",
      "self.a is changed from B\n",
      "leave D\n",
      "self.a is changed from B\n",
      "leave A\n",
      "leave C\n",
      "self.a is changed from B\n",
      "leave E\n"
     ]
    },
    {
     "data": {
      "text/plain": [
       "(__main__.F,\n",
       " __main__.E,\n",
       " __main__.C,\n",
       " __main__.A,\n",
       " __main__.D,\n",
       " __main__.B,\n",
       " object)"
      ]
     },
     "execution_count": 74,
     "metadata": {},
     "output_type": "execute_result"
    }
   ],
   "source": [
    "F(3).__class__.__mro__"
   ]
  },
  {
   "cell_type": "code",
   "execution_count": 75,
   "metadata": {},
   "outputs": [],
   "source": [
    "class F(E, C, B):\n",
    "    def __init__(self, f):\n",
    "        print('enter F')\n",
    "        super(F, self).__init__('I give from F')"
   ]
  },
  {
   "cell_type": "code",
   "execution_count": 76,
   "metadata": {},
   "outputs": [
    {
     "data": {
      "text/plain": [
       "[__main__.F,\n",
       " __main__.E,\n",
       " __main__.C,\n",
       " __main__.A,\n",
       " __main__.D,\n",
       " __main__.B,\n",
       " object]"
      ]
     },
     "execution_count": 76,
     "metadata": {},
     "output_type": "execute_result"
    }
   ],
   "source": [
    "F.mro()"
   ]
  },
  {
   "cell_type": "code",
   "execution_count": 77,
   "metadata": {
    "collapsed": true
   },
   "outputs": [],
   "source": [
    "class Base(object):\n",
    "    def __init__(self, value):\n",
    "        self.value = value\n",
    "        \n",
    "\n",
    "class TimesFive(Base):\n",
    "    def __init__(self, value):\n",
    "        super(TimesFive, self).__init__(value)\n",
    "        self.value *= 5\n",
    "\n",
    "\n",
    "class PlusTwo(Base):\n",
    "    def __init__(self, value):\n",
    "        super(PlusTwo, self).__init__(value)\n",
    "        self.value += 2\n",
    "\n",
    "\n",
    "class TestOne(TimesFive, PlusTwo):\n",
    "    def __init__(self, value):\n",
    "        super(TestOne, self).__init__(value)"
   ]
  },
  {
   "cell_type": "code",
   "execution_count": 80,
   "metadata": {
    "collapsed": true
   },
   "outputs": [],
   "source": [
    "test = TestOne(4)"
   ]
  },
  {
   "cell_type": "code",
   "execution_count": 81,
   "metadata": {},
   "outputs": [
    {
     "data": {
      "text/plain": [
       "'\\n\\n\\n\\n\\n\\n\\n\\n\\n\\n\\n\\n\\n\\n\\n\\n\\n\\n\\n\\n\\n\\n\\n\\n\\n\\n\\n\\n\\n\\n\\n\\n\\n\\n\\n\\n\\n\\n\\n\\n\\n\\n'"
      ]
     },
     "execution_count": 81,
     "metadata": {},
     "output_type": "execute_result"
    }
   ],
   "source": [
    "# test.value???\n",
    "\"\"\"\n",
    "\n",
    "\n",
    "\n",
    "\n",
    "\n",
    "\n",
    "\n",
    "\n",
    "\n",
    "\n",
    "\n",
    "\n",
    "\n",
    "\n",
    "\n",
    "\n",
    "\n",
    "\n",
    "\n",
    "\n",
    "\n",
    "\n",
    "\n",
    "\n",
    "\n",
    "\n",
    "\n",
    "\n",
    "\n",
    "\n",
    "\n",
    "\n",
    "\n",
    "\n",
    "\n",
    "\n",
    "\n",
    "\n",
    "\n",
    "\n",
    "\n",
    "\"\"\""
   ]
  },
  {
   "cell_type": "code",
   "execution_count": 82,
   "metadata": {},
   "outputs": [
    {
     "data": {
      "text/plain": [
       "30"
      ]
     },
     "execution_count": 82,
     "metadata": {},
     "output_type": "execute_result"
    }
   ],
   "source": [
    "test.value"
   ]
  }
 ],
 "metadata": {
  "anaconda-cloud": {},
  "kernelspec": {
   "display_name": "Python [default]",
   "language": "python",
   "name": "python3"
  },
  "language_info": {
   "codemirror_mode": {
    "name": "ipython",
    "version": 3
   },
   "file_extension": ".py",
   "mimetype": "text/x-python",
   "name": "python",
   "nbconvert_exporter": "python",
   "pygments_lexer": "ipython3",
   "version": "3.5.3"
  }
 },
 "nbformat": 4,
 "nbformat_minor": 2
}
