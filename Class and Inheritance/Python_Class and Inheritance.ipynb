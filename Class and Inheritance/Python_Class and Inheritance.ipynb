{
 "cells": [
  {
   "cell_type": "markdown",
   "metadata": {},
   "source": [
    "# Class and  Inheritance"
   ]
  },
  {
   "cell_type": "markdown",
   "metadata": {},
   "source": [
    "### Explanation in a easy way:\n",
    "* class: a *__structure__* for more complicated data that contain arbitrary content (just a structure, doesn't actually fill in the content)\n",
    "* instance: a specific copy of the class that does contain all of the content\n",
    "* For example, I have a class called Pokemon, and it contains some basic information that is needed to be filled in,  like Pokemon's name, attack, defense, etc. Now I fill in some data, `Pokemon('Pikachu', 100, 50)`, and then a Pikachu instance is just created."
   ]
  },
  {
   "cell_type": "code",
   "execution_count": 206,
   "metadata": {
    "collapsed": true
   },
   "outputs": [],
   "source": [
    "# Define a class named Pokemon\n",
    "class Pokemon():\n",
    "    def __init__(self, name, attack, defence):\n",
    "        self.name = name\n",
    "        self.attack = attack\n",
    "        self.defence = defence\n",
    "    \n",
    "    def poko_name(self):\n",
    "        return self.name\n",
    "    \n",
    "    def poko_state(self):\n",
    "        return self.attack, self.defence\n",
    "    \n",
    "    def __str__(self):\n",
    "        return 'My name is %s, and my attack is %d, defence is %d.' %(self.name, self.attack, self.defence)"
   ]
  },
  {
   "cell_type": "code",
   "execution_count": 207,
   "metadata": {
    "collapsed": false
   },
   "outputs": [
    {
     "data": {
      "text/plain": [
       "('Pikachu', (100, 50))"
      ]
     },
     "execution_count": 207,
     "metadata": {},
     "output_type": "execute_result"
    }
   ],
   "source": [
    "Pikachu = Pokemon('Pikachu', 100, 50)\n",
    "Pikachu.poko_name(), Pikachu.poko_state()"
   ]
  },
  {
   "cell_type": "markdown",
   "metadata": {},
   "source": [
    "* notice that a function in a class is called **_method_**"
   ]
  },
  {
   "cell_type": "markdown",
   "metadata": {},
   "source": [
    "### What is `__init__`?\n",
    "* When we create a Pokemon, we need to initialize with its basic information as mentioned. The `__init__` method is a special Python function that is called when an instance of a class is first created.\n",
    "* When running the code `Pikachu = Pokemon('Pikachu', 100, 50)`, the `__init__` method is called with values Pikachu, \"Pikachu\", 100, and 50 for the variables self, name, attack and defence, respectively.\n",
    "\n",
    "### What is `self`?\n",
    "* `self` is the instance. In this case, `self` represents the Pikachu instance itself.\n",
    "\n",
    "### But there are 4 variables in `__init__` method (self, name, attack, defence), why we only need to fill in 3 (e.g. `Pikachu = Pokemon('Pikachu', 100, 50)`) ?\n",
    "* This is a special behavior of Python: when you call a method of an instance, Python automatically figures out what self should be (from the instance) and passes it to the function.\n",
    "\n",
    "### So a method in a class always have `self` as its first variable, which means getting the contents of the instance."
   ]
  },
  {
   "cell_type": "code",
   "execution_count": 210,
   "metadata": {
    "collapsed": false
   },
   "outputs": [
    {
     "data": {
      "text/plain": [
       "'Pikachu'"
      ]
     },
     "execution_count": 210,
     "metadata": {},
     "output_type": "execute_result"
    }
   ],
   "source": [
    "### To make it clear, here's an example.\n",
    "### Standard way of calling `poko_name`:\n",
    "Pikachu.poko_name()\n",
    "### In the case, `self` represents the Pikachu instance itself, and is automatically passed into the function by Python."
   ]
  },
  {
   "cell_type": "code",
   "execution_count": 211,
   "metadata": {
    "collapsed": false
   },
   "outputs": [
    {
     "data": {
      "text/plain": [
       "'Pikachu'"
      ]
     },
     "execution_count": 211,
     "metadata": {},
     "output_type": "execute_result"
    }
   ],
   "source": [
    "### Inconventional way:\n",
    "Pokemon.poko_name(Pikachu)"
   ]
  },
  {
   "cell_type": "code",
   "execution_count": 212,
   "metadata": {
    "collapsed": false
   },
   "outputs": [
    {
     "ename": "TypeError",
     "evalue": "poko_name() missing 1 required positional argument: 'self'",
     "output_type": "error",
     "traceback": [
      "\u001b[0;31m---------------------------------------------------------------------------\u001b[0m",
      "\u001b[0;31mTypeError\u001b[0m                                 Traceback (most recent call last)",
      "\u001b[0;32m<ipython-input-212-7bc4e6751ecc>\u001b[0m in \u001b[0;36m<module>\u001b[0;34m()\u001b[0m\n\u001b[0;32m----> 1\u001b[0;31m \u001b[0mPokemon\u001b[0m\u001b[0;34m.\u001b[0m\u001b[0mpoko_name\u001b[0m\u001b[0;34m(\u001b[0m\u001b[0;34m)\u001b[0m\u001b[0;34m\u001b[0m\u001b[0m\n\u001b[0m",
      "\u001b[0;31mTypeError\u001b[0m: poko_name() missing 1 required positional argument: 'self'"
     ]
    }
   ],
   "source": [
    "### if we didn't do that\n",
    "Pokemon.poko_name()\n",
    "### then there is a variable missed."
   ]
  },
  {
   "cell_type": "markdown",
   "metadata": {},
   "source": [
    "### What is `__str__`?\n",
    "* It's also a special method like `__init__`. (Actually, you will find that something in double underscores always has special function in Python.)\n",
    "* This method defines the format if `print` out."
   ]
  },
  {
   "cell_type": "code",
   "execution_count": 213,
   "metadata": {
    "collapsed": false
   },
   "outputs": [
    {
     "name": "stdout",
     "output_type": "stream",
     "text": [
      "My name is Pikachu, and my attack is 100, defence is 50.\n"
     ]
    }
   ],
   "source": [
    "### what __str__ does.\n",
    "print(Pikachu)"
   ]
  },
  {
   "cell_type": "markdown",
   "metadata": {},
   "source": [
    "### Subclass\n",
    "* Sometimes a single class is not enough. For example, there are 18 types of the Pokemon, like grass, fire, water, etc.\n",
    "* We can make another class that is a Pokemon but is also specifically a electric type Pokemon. This gives us the structure from Pokemon but also any structure we want to specify for Electric type."
   ]
  },
  {
   "cell_type": "code",
   "execution_count": 216,
   "metadata": {
    "collapsed": true
   },
   "outputs": [],
   "source": [
    "class Electric(Pokemon):\n",
    "    def __init__(self, name, attack, defence):\n",
    "        Pokemon.__init__(self, name, attack, defence)"
   ]
  },
  {
   "cell_type": "code",
   "execution_count": 219,
   "metadata": {
    "collapsed": false
   },
   "outputs": [
    {
     "name": "stdout",
     "output_type": "stream",
     "text": [
      "My name is Raichu, and my attack is 200, defence is 100.\n"
     ]
    }
   ],
   "source": [
    "Raichu = Electric('Raichu', 200, 100)\n",
    "print(Raichu)"
   ]
  },
  {
   "cell_type": "markdown",
   "metadata": {},
   "source": [
    "* In the case, Electric use the structure from Pokemon. Methods from Pokemon can be directly used. We can also define  specfic methods:"
   ]
  },
  {
   "cell_type": "code",
   "execution_count": 220,
   "metadata": {
    "collapsed": true
   },
   "outputs": [],
   "source": [
    "class Electric(Pokemon):\n",
    "    def __init__(self, name, attack, defence):\n",
    "        Pokemon.__init__(self, name, attack, defence)\n",
    "        \n",
    "    def __str__(self):\n",
    "        return 'My name is %s, and my attack is %d, defence is %d. I am electric type.' %(self.name, self.attack, self.defence)"
   ]
  },
  {
   "cell_type": "code",
   "execution_count": 221,
   "metadata": {
    "collapsed": false
   },
   "outputs": [
    {
     "data": {
      "text/plain": [
       "(200, 100)"
      ]
     },
     "execution_count": 221,
     "metadata": {},
     "output_type": "execute_result"
    }
   ],
   "source": [
    "Raichu = Electric('Raichu', 200, 100)\n",
    "Raichu.poko_state()"
   ]
  },
  {
   "cell_type": "code",
   "execution_count": 223,
   "metadata": {
    "collapsed": false
   },
   "outputs": [
    {
     "name": "stdout",
     "output_type": "stream",
     "text": [
      "My name is Raichu, and my attack is 200, defence is 100. I am electric type.\n"
     ]
    }
   ],
   "source": [
    "### __str__ method from Pokemon is replaced in Electric.\n",
    "print(Raichu)"
   ]
  },
  {
   "cell_type": "markdown",
   "metadata": {},
   "source": [
    "### Inheritance\n",
    "* In previous example, we already know that `class Electric(Pokemon)` means Electric class inherits from Pokemon class. (Electric is a subclass of Pokemon.)\n",
    "* Actually, if we remian blank in parenthesis, Python will make it inherit form `object`.\n",
    "* To be clear, in first example, `class Pokemon()` is totally same as `class Pokemon(object)`."
   ]
  },
  {
   "cell_type": "code",
   "execution_count": 224,
   "metadata": {
    "collapsed": false
   },
   "outputs": [
    {
     "data": {
      "text/plain": [
       "True"
      ]
     },
     "execution_count": 224,
     "metadata": {},
     "output_type": "execute_result"
    }
   ],
   "source": [
    "### check instance\n",
    "isinstance(Raichu, Electric)"
   ]
  },
  {
   "cell_type": "code",
   "execution_count": 225,
   "metadata": {
    "collapsed": false
   },
   "outputs": [
    {
     "data": {
      "text/plain": [
       "True"
      ]
     },
     "execution_count": 225,
     "metadata": {},
     "output_type": "execute_result"
    }
   ],
   "source": [
    "isinstance(Raichu, Pokemon)"
   ]
  },
  {
   "cell_type": "code",
   "execution_count": 228,
   "metadata": {
    "collapsed": false
   },
   "outputs": [
    {
     "data": {
      "text/plain": [
       "False"
      ]
     },
     "execution_count": 228,
     "metadata": {},
     "output_type": "execute_result"
    }
   ],
   "source": [
    "isinstance(Pikachu, Electric)"
   ]
  },
  {
   "cell_type": "code",
   "execution_count": 229,
   "metadata": {
    "collapsed": false
   },
   "outputs": [
    {
     "data": {
      "text/plain": [
       "True"
      ]
     },
     "execution_count": 229,
     "metadata": {},
     "output_type": "execute_result"
    }
   ],
   "source": [
    "isinstance(Pikachu, Pokemon)"
   ]
  },
  {
   "cell_type": "markdown",
   "metadata": {},
   "source": [
    "### Multiple Inheritance"
   ]
  },
  {
   "cell_type": "code",
   "execution_count": 230,
   "metadata": {
    "collapsed": true
   },
   "outputs": [],
   "source": [
    "# An example for multiple inheritance:\n",
    "class Base():\n",
    "    def __init__(self, value):\n",
    "        self.value = value\n",
    "\n",
    "\n",
    "class Times(Base):\n",
    "    def __init__(self, value):\n",
    "        Base.__init__(self, value)\n",
    "        self.value *= 10\n",
    "\n",
    "\n",
    "class Plus(Base):\n",
    "    def __init__(self, value):\n",
    "        Base.__init__(self, value)\n",
    "        self.value += 5\n",
    "\n",
    "\n",
    "class MultInher(Times, Plus):\n",
    "    def __init__(self, value):\n",
    "        Times.__init__(self, value)\n",
    "        Plus.__init__(self, value)"
   ]
  },
  {
   "cell_type": "code",
   "execution_count": 233,
   "metadata": {
    "collapsed": false
   },
   "outputs": [],
   "source": [
    "result = MultInher(8)"
   ]
  },
  {
   "cell_type": "markdown",
   "metadata": {},
   "source": [
    "### Now take a guess what is the value of result.value?"
   ]
  },
  {
   "cell_type": "code",
   "execution_count": 234,
   "metadata": {
    "collapsed": false
   },
   "outputs": [
    {
     "data": {
      "text/plain": [
       "'\\n\\n\\n\\n\\n\\n\\n\\n\\n\\n\\n\\n\\n\\n\\n\\n\\n\\n\\n\\n\\n\\n\\n\\n\\n\\n\\n\\n\\n\\n\\n\\n\\n\\n\\n\\n\\n\\n\\n\\n\\n\\n'"
      ]
     },
     "execution_count": 234,
     "metadata": {},
     "output_type": "execute_result"
    }
   ],
   "source": [
    "\"\"\"\n",
    "\n",
    "\n",
    "\n",
    "\n",
    "\n",
    "\n",
    "\n",
    "\n",
    "\n",
    "\n",
    "\n",
    "\n",
    "\n",
    "\n",
    "\n",
    "\n",
    "\n",
    "\n",
    "\n",
    "\n",
    "\n",
    "\n",
    "\n",
    "\n",
    "\n",
    "\n",
    "\n",
    "\n",
    "\n",
    "\n",
    "\n",
    "\n",
    "\n",
    "\n",
    "\n",
    "\n",
    "\n",
    "\n",
    "\n",
    "\n",
    "\n",
    "\"\"\""
   ]
  },
  {
   "cell_type": "markdown",
   "metadata": {},
   "source": [
    "### Someone's answer is 85?"
   ]
  },
  {
   "cell_type": "code",
   "execution_count": 236,
   "metadata": {
    "collapsed": false,
    "scrolled": true
   },
   "outputs": [
    {
     "data": {
      "text/plain": [
       "13"
      ]
     },
     "execution_count": 236,
     "metadata": {},
     "output_type": "execute_result"
    }
   ],
   "source": [
    "# Let's check.\n",
    "result.value"
   ]
  },
  {
   "cell_type": "markdown",
   "metadata": {},
   "source": [
    "### Why is 13?"
   ]
  },
  {
   "cell_type": "code",
   "execution_count": 197,
   "metadata": {
    "collapsed": true
   },
   "outputs": [],
   "source": [
    "# Define a simple class named A\n",
    "class A():\n",
    "    def __init__(self, a):\n",
    "        print('enter A')\n",
    "        super().__init__()\n",
    "        self.a = a\n",
    "        print(self.a)\n",
    "        print('leave A')\n",
    "    \n",
    "    def method(self):\n",
    "        print()\n",
    "        print('method from A')\n",
    "        print(self.a)"
   ]
  },
  {
   "cell_type": "code",
   "execution_count": 190,
   "metadata": {
    "collapsed": false
   },
   "outputs": [
    {
     "name": "stdout",
     "output_type": "stream",
     "text": [
      "enter A\n",
      "3\n",
      "leave A\n",
      "\n",
      "method from A\n",
      "3\n"
     ]
    }
   ],
   "source": [
    "# Try \n",
    "A(3).method()"
   ]
  },
  {
   "cell_type": "code",
   "execution_count": 191,
   "metadata": {
    "collapsed": true
   },
   "outputs": [],
   "source": [
    "class B(A):\n",
    "    def __init__(self, b1):\n",
    "        print('enter B')\n",
    "        super().__init__('I give from B')\n",
    "        self.a = 'self.a is changed from B'\n",
    "        print(self.a)\n",
    "        print('leave B')"
   ]
  },
  {
   "cell_type": "code",
   "execution_count": 192,
   "metadata": {
    "collapsed": false
   },
   "outputs": [
    {
     "name": "stdout",
     "output_type": "stream",
     "text": [
      "enter B\n",
      "enter A\n",
      "I give from B\n",
      "leave A\n",
      "self.a is changed from B\n",
      "leave B\n",
      "\n",
      "method from A\n",
      "self.a is changed from B\n"
     ]
    }
   ],
   "source": [
    "B(1).method()"
   ]
  },
  {
   "cell_type": "code",
   "execution_count": 193,
   "metadata": {
    "collapsed": true
   },
   "outputs": [],
   "source": [
    "class C(A):\n",
    "    def __init__(self, c1):\n",
    "        print('enter C')\n",
    "        super().__init__('I give from C')\n",
    "        print('leave C')\n",
    "    def method(self):\n",
    "        print()\n",
    "        print('method from C')\n",
    "        print(self.a)"
   ]
  },
  {
   "cell_type": "code",
   "execution_count": 194,
   "metadata": {
    "collapsed": false
   },
   "outputs": [
    {
     "ename": "TypeError",
     "evalue": "__init__() takes 2 positional arguments but 3 were given",
     "output_type": "error",
     "traceback": [
      "\u001b[0;31m---------------------------------------------------------------------------\u001b[0m",
      "\u001b[0;31mTypeError\u001b[0m                                 Traceback (most recent call last)",
      "\u001b[0;32m<ipython-input-194-0fb19f012da1>\u001b[0m in \u001b[0;36m<module>\u001b[0;34m()\u001b[0m\n\u001b[0;32m----> 1\u001b[0;31m \u001b[0mC\u001b[0m\u001b[0;34m(\u001b[0m\u001b[0;36m3\u001b[0m\u001b[0;34m,\u001b[0m \u001b[0;36m4\u001b[0m\u001b[0;34m)\u001b[0m\u001b[0;34m.\u001b[0m\u001b[0mmethod\u001b[0m\u001b[0;34m(\u001b[0m\u001b[0;34m)\u001b[0m\u001b[0;34m\u001b[0m\u001b[0m\n\u001b[0m",
      "\u001b[0;31mTypeError\u001b[0m: __init__() takes 2 positional arguments but 3 were given"
     ]
    }
   ],
   "source": [
    "C(3, 4).method()"
   ]
  },
  {
   "cell_type": "code",
   "execution_count": null,
   "metadata": {
    "collapsed": false
   },
   "outputs": [],
   "source": [
    "class D(B, C):\n",
    "    def __init__(self, d):\n",
    "        print('enter D')\n",
    "        self.a = d\n",
    "        print('initial value of self.a:', self.a)\n",
    "        super().__init__('I give from D')\n",
    "        print(self.a)\n",
    "        print('leave D')"
   ]
  },
  {
   "cell_type": "code",
   "execution_count": null,
   "metadata": {
    "collapsed": false
   },
   "outputs": [],
   "source": [
    "D(3)"
   ]
  },
  {
   "cell_type": "code",
   "execution_count": null,
   "metadata": {
    "collapsed": true
   },
   "outputs": [],
   "source": [
    "class A():\n",
    "    def __init__(self, a):\n",
    "        print('enter A')\n",
    "        super().__init__()\n",
    "        self.a = a\n",
    "        print(self.a)\n",
    "        print('leave A')\n",
    "    \n",
    "    def method(self):\n",
    "        print()\n",
    "        print('method from A')\n",
    "        print(self.a)\n",
    "\n",
    "        \n",
    "class B(A):\n",
    "    def __init__(self, b1):\n",
    "        print('enter B')\n",
    "        super().__init__('I give from B')\n",
    "        self.a = 'self.a is changed from B'\n",
    "        print(self.a)\n",
    "        print('leave B')\n",
    "        \n",
    "\n",
    "class C(A):\n",
    "    def __init__(self, c1):\n",
    "        print('enter C')\n",
    "        super().__init__('I give from C')\n",
    "        print('leave C')\n",
    "    \n",
    "    def method(self):\n",
    "        print()\n",
    "        print('method from C')\n",
    "        print(self.a)\n",
    "        \n",
    "        \n",
    "class D(B, C):\n",
    "    def __init__(self, d):\n",
    "        print('enter D')\n",
    "        self.a = d\n",
    "        print('initial value of self.a:', self.a)\n",
    "        super().__init__('I give from D')\n",
    "        print(self.a)\n",
    "        print('leave D')"
   ]
  },
  {
   "cell_type": "code",
   "execution_count": null,
   "metadata": {
    "collapsed": false
   },
   "outputs": [],
   "source": [
    "D(3).method()"
   ]
  },
  {
   "cell_type": "code",
   "execution_count": null,
   "metadata": {
    "collapsed": true
   },
   "outputs": [],
   "source": [
    "class A():\n",
    "    def __init__(self, a):\n",
    "        print('enter A')\n",
    "        super().__init__()\n",
    "        self.a = a\n",
    "        print(self.a)\n",
    "        print('leave A')\n",
    "    \n",
    "    def method(self):\n",
    "        print()\n",
    "        print('method from A')\n",
    "        print(self.a)\n",
    "\n",
    "        \n",
    "class B(A):\n",
    "    def __init__(self, b1):\n",
    "        print('enter B')\n",
    "        super().__init__('I give from B')\n",
    "        self.a = 'self.a is changed from B'\n",
    "        print(self.a)\n",
    "        print('leave B')\n",
    "    \n",
    "    def method(self):\n",
    "        print()\n",
    "        print('method from B')\n",
    "        print(self.a)\n",
    "        \n",
    "\n",
    "class C(A):\n",
    "    def __init__(self, c1):\n",
    "        print('enter C')\n",
    "        super().__init__('I give from C')\n",
    "        print('leave C')\n",
    "    \n",
    "    def method(self):\n",
    "        print()\n",
    "        print('method from C')\n",
    "        print(self.a)\n",
    "        \n",
    "        \n",
    "class D(B, C):\n",
    "    def __init__(self, d):\n",
    "        print('enter D')\n",
    "        self.a = d\n",
    "        print('initial value of self.a:', self.a)\n",
    "        super().__init__('I give from D')\n",
    "        print(self.a)\n",
    "        print('leave D')"
   ]
  },
  {
   "cell_type": "code",
   "execution_count": null,
   "metadata": {
    "collapsed": false
   },
   "outputs": [],
   "source": [
    "D(3).method()"
   ]
  },
  {
   "cell_type": "code",
   "execution_count": null,
   "metadata": {
    "collapsed": true
   },
   "outputs": [],
   "source": [
    "class A():\n",
    "    def __init__(self, a):\n",
    "        print('enter A')\n",
    "        super().__init__()\n",
    "        self.a = a\n",
    "        print(self.a)\n",
    "        print('leave A')\n",
    "    \n",
    "    def method(self):\n",
    "        print()\n",
    "        print('method from A')\n",
    "        print(self.a)\n",
    "\n",
    "        \n",
    "class B(A):\n",
    "    def __init__(self, b1):\n",
    "        print('enter B')\n",
    "        super().__init__('I give from B')\n",
    "        self.a = 'self.a is changed from B'\n",
    "        print(self.a)\n",
    "        print('leave B')\n",
    "    \n",
    "    def method(self):\n",
    "        print()\n",
    "        print('method from B')\n",
    "        print(self.a)\n",
    "        \n",
    "\n",
    "class C(A):\n",
    "    def __init__(self, c1):\n",
    "        print('enter C')\n",
    "        super().__init__('I give from C')\n",
    "        print('leave C')\n",
    "    \n",
    "    def method(self):\n",
    "        print()\n",
    "        print('method from C')\n",
    "        print(self.a)\n",
    "        \n",
    "        \n",
    "class D(B, C):\n",
    "    def __init__(self, d):\n",
    "        print('enter D')\n",
    "        self.a = d\n",
    "        print('initial value of self.a:', self.a)\n",
    "        super().__init__('I give from D')\n",
    "        print(self.a)\n",
    "        print('leave D')\n",
    "        \n",
    "    def method(self):\n",
    "        print()\n",
    "        print('method from D')\n",
    "        print(self.a)"
   ]
  },
  {
   "cell_type": "code",
   "execution_count": null,
   "metadata": {
    "collapsed": false
   },
   "outputs": [],
   "source": [
    "D(3).method()"
   ]
  },
  {
   "cell_type": "code",
   "execution_count": null,
   "metadata": {
    "collapsed": false
   },
   "outputs": [],
   "source": [
    "class A():\n",
    "    def __init__(self, a):\n",
    "        print('enter A')\n",
    "        print('value of self.a:', self.a)\n",
    "        super().__init__('I give from A')\n",
    "        print(self.a)\n",
    "        print('leave A')\n",
    "    \n",
    "    def method(self):\n",
    "        print()\n",
    "        print('method from A')\n",
    "        print(self.a)\n",
    "\n",
    "        \n",
    "class B():\n",
    "    def __init__(self, b1):\n",
    "        print('enter B')\n",
    "        print('value of self.a:', self.a)\n",
    "        super().__init__()\n",
    "        self.a = 'self.a is changed from B'\n",
    "        print(self.a)\n",
    "        print('leave B')\n",
    "    \n",
    "    def method(self):\n",
    "        print()\n",
    "        print('method from B')\n",
    "        print(self.a)\n",
    "        \n",
    "\n",
    "class C(A):\n",
    "    def __init__(self, c1):\n",
    "        print('enter C')\n",
    "        print('value of self.a:', self.a)\n",
    "        super().__init__('I give from C')\n",
    "        print('leave C')\n",
    "    \n",
    "    def method(self):\n",
    "        print()\n",
    "        print('method from C')\n",
    "        print(self.a)\n",
    "        \n",
    "        \n",
    "class D(B):\n",
    "    def __init__(self, d):\n",
    "        print('enter D')\n",
    "        self.a = d\n",
    "        print('value of self.a:', self.a)\n",
    "        super().__init__('I give from D')\n",
    "        print(self.a)\n",
    "        print('leave D')\n",
    "        \n",
    "    def method(self):\n",
    "        print()\n",
    "        print('method from D')\n",
    "        print(self.a)\n",
    "\n",
    "class E(C, D):\n",
    "    def __init__(self, e):\n",
    "        print('enter E')\n",
    "        self.a = e\n",
    "        print('value of self.a:', self.a)\n",
    "        super().__init__('I give from E')\n",
    "        print(self.a)\n",
    "        print('leave E')\n",
    "        \n",
    "    def method(self):\n",
    "        print()\n",
    "        print('method from E')\n",
    "        print(self.a)"
   ]
  },
  {
   "cell_type": "code",
   "execution_count": null,
   "metadata": {
    "collapsed": false
   },
   "outputs": [],
   "source": [
    "e = E(3)\n",
    "e.method()"
   ]
  },
  {
   "cell_type": "code",
   "execution_count": null,
   "metadata": {
    "collapsed": false
   },
   "outputs": [],
   "source": [
    "e.__class__.__mro__"
   ]
  },
  {
   "cell_type": "code",
   "execution_count": null,
   "metadata": {
    "collapsed": false
   },
   "outputs": [],
   "source": [
    "class F(C, E):\n",
    "    def __init__(self, f):\n",
    "        print('enter F')"
   ]
  },
  {
   "cell_type": "code",
   "execution_count": null,
   "metadata": {
    "collapsed": false
   },
   "outputs": [],
   "source": [
    "class F(E, C):\n",
    "    def __init__(self, f):\n",
    "        print('enter F')"
   ]
  },
  {
   "cell_type": "code",
   "execution_count": null,
   "metadata": {
    "collapsed": false
   },
   "outputs": [],
   "source": [
    "F(3).__class__.__mro__"
   ]
  },
  {
   "cell_type": "code",
   "execution_count": null,
   "metadata": {
    "collapsed": true
   },
   "outputs": [],
   "source": [
    "class F(E, C):\n",
    "    def __init__(self, f):\n",
    "        print('enter F')\n",
    "        super(F, self).__init__('I give from F')"
   ]
  },
  {
   "cell_type": "code",
   "execution_count": null,
   "metadata": {
    "collapsed": false
   },
   "outputs": [],
   "source": [
    "F(3).__class__.__mro__"
   ]
  },
  {
   "cell_type": "code",
   "execution_count": null,
   "metadata": {
    "collapsed": false
   },
   "outputs": [],
   "source": [
    "class F(E, C, B):\n",
    "    def __init__(self, f):\n",
    "        print('enter F')\n",
    "        super(F, self).__init__('I give from F')"
   ]
  },
  {
   "cell_type": "code",
   "execution_count": null,
   "metadata": {
    "collapsed": false
   },
   "outputs": [],
   "source": [
    "F.mro()"
   ]
  },
  {
   "cell_type": "code",
   "execution_count": null,
   "metadata": {
    "collapsed": true
   },
   "outputs": [],
   "source": [
    "class G():\n",
    "    def __init__(self, value):\n",
    "#        self.value = value\n",
    "        print('Hello World')"
   ]
  },
  {
   "cell_type": "code",
   "execution_count": null,
   "metadata": {
    "collapsed": false,
    "scrolled": true
   },
   "outputs": [],
   "source": [
    "G(3).value"
   ]
  },
  {
   "cell_type": "code",
   "execution_count": null,
   "metadata": {
    "collapsed": true
   },
   "outputs": [],
   "source": [
    "class G():\n",
    "    def __init__(self, value):\n",
    "        self.value = value\n",
    "        print('Hello World')"
   ]
  },
  {
   "cell_type": "code",
   "execution_count": null,
   "metadata": {
    "collapsed": false
   },
   "outputs": [],
   "source": [
    "G(3).value"
   ]
  },
  {
   "cell_type": "code",
   "execution_count": null,
   "metadata": {
    "collapsed": true
   },
   "outputs": [],
   "source": [
    "class Base(object):\n",
    "    def __init__(self, value):\n",
    "        self.value = value\n",
    "        \n",
    "\n",
    "class TimesFive(Base):\n",
    "    def __init__(self, value):\n",
    "        super(TimesFive, self).__init__(value)\n",
    "        self.value *= 5\n",
    "\n",
    "\n",
    "class PlusTwo(Base):\n",
    "    def __init__(self, value):\n",
    "        super(PlusTwo, self).__init__(value)\n",
    "        self.value += 2\n",
    "\n",
    "\n",
    "class TestOne(TimesFive, PlusTwo):\n",
    "    def __init__(self, value):\n",
    "        super(TestOne, self).__init__(value)"
   ]
  },
  {
   "cell_type": "code",
   "execution_count": null,
   "metadata": {
    "collapsed": false
   },
   "outputs": [],
   "source": [
    "test = TestOne(4)\n",
    "test.value"
   ]
  },
  {
   "cell_type": "code",
   "execution_count": null,
   "metadata": {
    "collapsed": true
   },
   "outputs": [],
   "source": []
  }
 ],
 "metadata": {
  "anaconda-cloud": {},
  "kernelspec": {
   "display_name": "Python [default]",
   "language": "python",
   "name": "python3"
  },
  "language_info": {
   "codemirror_mode": {
    "name": "ipython",
    "version": 3
   },
   "file_extension": ".py",
   "mimetype": "text/x-python",
   "name": "python",
   "nbconvert_exporter": "python",
   "pygments_lexer": "ipython3",
   "version": "3.5.2"
  }
 },
 "nbformat": 4,
 "nbformat_minor": 2
}
