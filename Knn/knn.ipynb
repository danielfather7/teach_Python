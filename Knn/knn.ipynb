{
 "cells": [
  {
   "cell_type": "code",
   "execution_count": 1,
   "metadata": {
    "collapsed": false
   },
   "outputs": [],
   "source": [
    "import pandas as pd"
   ]
  },
  {
   "cell_type": "code",
   "execution_count": 2,
   "metadata": {
    "collapsed": false
   },
   "outputs": [],
   "source": [
    "def knn0(datacsv,testcsv):\n",
    "    global data,test,i,d,ac\n",
    "    data=pd.read_csv(datacsv)\n",
    "    test=pd.read_csv(testcsv)\n",
    "    test['pre']='0'\n",
    "    i = pd.DataFrame()\n",
    "    d = pd.DataFrame()\n",
    " \n",
    "    return\n"
   ]
  },
  {
   "cell_type": "code",
   "execution_count": null,
   "metadata": {
    "collapsed": false
   },
   "outputs": [],
   "source": []
  },
  {
   "cell_type": "code",
   "execution_count": null,
   "metadata": {
    "collapsed": false
   },
   "outputs": [],
   "source": []
  },
  {
   "cell_type": "code",
   "execution_count": 3,
   "metadata": {
    "collapsed": false
   },
   "outputs": [],
   "source": [
    "def knn1():\n",
    "    for a in range(len(test.index)):\n",
    "        global d\n",
    "        data[a] = ((data.rWC-test.rWC[a])**2+(data.rCh-test.rCh[a])**2)**0.5\n",
    "        #print(data)\n",
    "        d = data\n",
    "    return d\n",
    "\n"
   ]
  },
  {
   "cell_type": "code",
   "execution_count": null,
   "metadata": {
    "collapsed": false
   },
   "outputs": [],
   "source": []
  },
  {
   "cell_type": "code",
   "execution_count": 62,
   "metadata": {
    "collapsed": false
   },
   "outputs": [],
   "source": [
    "def knn2(k):\n",
    "    global test,d,ac\n",
    "    for a in range(len(test.index)):\n",
    "        i = data.sort_values([a], ascending=True).head(n=k)\n",
    "        test.loc[a,'pre'] = pd.value_counts(i['Type']).idxmax()\n",
    "        if test.loc[a,'pre'] == test.loc[a,'Type']:\n",
    "            ac +=1 \n",
    "    return "
   ]
  },
  {
   "cell_type": "code",
   "execution_count": 63,
   "metadata": {
    "collapsed": false
   },
   "outputs": [],
   "source": [
    "knn2(3)"
   ]
  },
  {
   "cell_type": "code",
   "execution_count": 92,
   "metadata": {
    "collapsed": false
   },
   "outputs": [],
   "source": [
    "def knn(datacsv,testcsv,k):\n",
    "    global test,ac\n",
    "    knn0(datacsv,testcsv)\n",
    "    knn1()\n",
    "    for ii in range(1,k+1): \n",
    "        ac = 0\n",
    "        knn2(ii)\n",
    "        print(test,ac)\n",
    "    return \n"
   ]
  },
  {
   "cell_type": "code",
   "execution_count": 93,
   "metadata": {
    "collapsed": false
   },
   "outputs": [
    {
     "name": "stdout",
     "output_type": "stream",
     "text": [
      "    rWC   rCh Atom Type  pre\n",
      "0  0.51  1.12   X1  Alk  Alk\n",
      "1  0.37  0.77   X2   TM   TM\n",
      "2  0.62  0.35   X3   PT   PT\n",
      "3  0.62  0.62   X4   TM   TM\n",
      "4  0.62  0.93   X5  Alk   TM 4\n",
      "    rWC   rCh Atom Type  pre\n",
      "0  0.51  1.12   X1  Alk  Alk\n",
      "1  0.37  0.77   X2   TM  Alk\n",
      "2  0.62  0.35   X3   PT   PT\n",
      "3  0.62  0.62   X4   TM   PT\n",
      "4  0.62  0.93   X5  Alk  Alk 3\n"
     ]
    }
   ],
   "source": [
    "knn('atomsradii.csv','testing.csv',2)"
   ]
  },
  {
   "cell_type": "markdown",
   "metadata": {},
   "source": []
  },
  {
   "cell_type": "code",
   "execution_count": null,
   "metadata": {
    "collapsed": true
   },
   "outputs": [],
   "source": []
  }
 ],
 "metadata": {
  "kernelspec": {
   "display_name": "Python 3",
   "language": "python",
   "name": "python3"
  },
  "language_info": {
   "codemirror_mode": {
    "name": "ipython",
    "version": 3
   },
   "file_extension": ".py",
   "mimetype": "text/x-python",
   "name": "python",
   "nbconvert_exporter": "python",
   "pygments_lexer": "ipython3",
   "version": "3.6.0"
  }
 },
 "nbformat": 4,
 "nbformat_minor": 2
}
