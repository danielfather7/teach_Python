{
 "cells": [
  {
   "cell_type": "code",
   "execution_count": 1,
   "metadata": {
    "collapsed": true
   },
   "outputs": [],
   "source": [
    "import pandas as pd"
   ]
  },
  {
   "cell_type": "code",
   "execution_count": 2,
   "metadata": {
    "collapsed": true
   },
   "outputs": [],
   "source": [
    "def datainput(datacsv,testcsv):\n",
    "    data=pd.read_csv(datacsv)\n",
    "    test=pd.read_csv(testcsv)\n",
    "    return data,test"
   ]
  },
  {
   "cell_type": "code",
   "execution_count": 3,
   "metadata": {
    "collapsed": true
   },
   "outputs": [],
   "source": [
    "def distance(data,test):\n",
    "    d = pd.DataFrame()\n",
    "    for a in range(len(test.index)):\n",
    "        data[a] = ((data.rWC-test.rWC[a])**2+(data.rCh-test.rCh[a])**2)**0.5\n",
    "        d = data\n",
    "    return d"
   ]
  },
  {
   "cell_type": "code",
   "execution_count": null,
   "metadata": {
    "collapsed": false
   },
   "outputs": [],
   "source": [
    "\n",
    "    "
   ]
  },
  {
   "cell_type": "code",
   "execution_count": 4,
   "metadata": {
    "collapsed": false
   },
   "outputs": [],
   "source": [
    "def acck(test,d,k):\n",
    "    ac = 0\n",
    "    acc = 0\n",
    "    i = pd.DataFrame()\n",
    "    test['pre']='0'\n",
    "    for a in range(len(test.index)):        \n",
    "        for ik in reversed(range(1,k+1)):\n",
    "            i = d.sort_values([a], ascending=True).head(n=ik)\n",
    "            test.loc[a,'pre'] = pd.value_counts(i['Type']).idxmax()\n",
    "            if (len(pd.value_counts(i['Type']))) == 1 or (pd.value_counts(i['Type'])[0] > pd.value_counts(i['Type'])[1]):\n",
    "                break    \n",
    "        if test.loc[a,'pre'] == test.loc[a,'Type']:\n",
    "            ac +=1\n",
    "            acc = ac/len(test.index)\n",
    "    return test,acc\n"
   ]
  },
  {
   "cell_type": "code",
   "execution_count": 5,
   "metadata": {
    "collapsed": true
   },
   "outputs": [],
   "source": [
    "def knn(datacsv,testcsv,k):\n",
    "    data,test = datainput('atomsradii.csv','testing.csv')\n",
    "    d = distance(data,test)\n",
    "    dic={}\n",
    "    for ii in range(1,k+1): \n",
    "        te,ack = acck(test,d,ii)\n",
    "        key={ii:ack}\n",
    "        dic.update(key)\n",
    "    return te,dic\n"
   ]
  },
  {
   "cell_type": "code",
   "execution_count": 6,
   "metadata": {
    "collapsed": false
   },
   "outputs": [
    {
     "data": {
      "text/plain": [
       "(    rWC   rCh Atom Type  pre\n",
       " 0  0.51  1.12   X1  Alk  Alk\n",
       " 1  0.37  0.77   X2   TM  Alk\n",
       " 2  0.62  0.35   X3   PT  Alk\n",
       " 3  0.62  0.62   X4   TM  Alk\n",
       " 4  0.62  0.93   X5  Alk  Alk,\n",
       " {1: 0.8,\n",
       "  2: 0.8,\n",
       "  3: 0.6,\n",
       "  4: 0.6,\n",
       "  5: 0.6,\n",
       "  6: 0.6,\n",
       "  7: 0.6,\n",
       "  8: 0.6,\n",
       "  9: 0.6,\n",
       "  10: 0.6,\n",
       "  11: 0.6,\n",
       "  12: 0.6,\n",
       "  13: 0.4,\n",
       "  14: 0.4})"
      ]
     },
     "execution_count": 6,
     "metadata": {},
     "output_type": "execute_result"
    }
   ],
   "source": [
    "knn('atomsradii.csv','testing.csv',14)"
   ]
  },
  {
   "cell_type": "code",
   "execution_count": null,
   "metadata": {
    "collapsed": true
   },
   "outputs": [],
   "source": []
  },
  {
   "cell_type": "code",
   "execution_count": null,
   "metadata": {
    "collapsed": true
   },
   "outputs": [],
   "source": []
  },
  {
   "cell_type": "code",
   "execution_count": null,
   "metadata": {
    "collapsed": true
   },
   "outputs": [],
   "source": []
  }
 ],
 "metadata": {
  "kernelspec": {
   "display_name": "Python 3",
   "language": "python",
   "name": "python3"
  },
  "language_info": {
   "codemirror_mode": {
    "name": "ipython",
    "version": 3
   },
   "file_extension": ".py",
   "mimetype": "text/x-python",
   "name": "python",
   "nbconvert_exporter": "python",
   "pygments_lexer": "ipython3",
   "version": "3.6.0"
  }
 },
 "nbformat": 4,
 "nbformat_minor": 2
}
