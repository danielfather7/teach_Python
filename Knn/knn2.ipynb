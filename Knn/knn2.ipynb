{
 "cells": [
  {
   "cell_type": "code",
   "execution_count": 1,
   "metadata": {
    "collapsed": true
   },
   "outputs": [],
   "source": [
    "import pandas as pd"
   ]
  },
  {
   "cell_type": "code",
   "execution_count": 34,
   "metadata": {
    "collapsed": true
   },
   "outputs": [],
   "source": [
    "def datainput(datacsv,testcsv):\n",
    "    data_fram = pd.read_csv(datacsv)\n",
    "    test_fram = pd.read_csv(testcsv)\n",
    "    print(test_fram)\n",
    "    return data_fram,test_fram"
   ]
  },
  {
   "cell_type": "code",
   "execution_count": 35,
   "metadata": {
    "collapsed": true
   },
   "outputs": [],
   "source": [
    "def distance(data_fram,test_fram):\n",
    "    for a in range(len(test_fram.index)):\n",
    "        data_fram[a] = ((data_fram.rWC-test_fram.rWC[a])**2+(data_fram.rCh-test_fram.rCh[a])**2)**0.5\n",
    "        print(data_fram)\n",
    "    return data_fram"
   ]
  },
  {
   "cell_type": "code",
   "execution_count": null,
   "metadata": {
    "collapsed": false
   },
   "outputs": [],
   "source": [
    "\n",
    "    "
   ]
  },
  {
   "cell_type": "code",
   "execution_count": 60,
   "metadata": {
    "collapsed": false
   },
   "outputs": [],
   "source": [
    "def accuracy (test_fram,data_fram,k):\n",
    "    ac = 0\n",
    "    acpercentage = 0\n",
    "    data_fram_sort = pd.DataFrame()\n",
    "    test_fram['pre'] = '0'\n",
    "    for a in range(len(test_fram.index)):        \n",
    "        for ik in reversed(range(1, k+1)):\n",
    "            data_fram_sort = data_fram.sort_values([a], ascending=True).head(n=ik)\n",
    "            test_fram.loc[a,'pre'] = pd.value_counts(data_fram_sort['Type']).idxmax()\n",
    "            if (len(pd.value_counts(data_fram_sort['Type']))) == 1 or (pd.value_counts(data_fram_sort['Type'])[0] > pd.value_counts(data_fram_sort['Type'])[1]):\n",
    "                break    \n",
    "        if test_fram.loc[a,'pre'] == test_fram.loc[a,'Type']:\n",
    "            ac += 1\n",
    "            acpercentage = ac/len(test_fram.index)\n",
    "    return test_fram,acpercentage\n"
   ]
  },
  {
   "cell_type": "code",
   "execution_count": 63,
   "metadata": {
    "collapsed": true
   },
   "outputs": [],
   "source": [
    "def knn(datacsv,testcsv,k):\n",
    "    data,test = datainput('atomsradii.csv','testing.csv')\n",
    "    data_fram = distance(data,test)\n",
    "    accuracy_dic = {}\n",
    "    for ii in range(1,k+1): \n",
    "        test_pred,ack = accuracy(test,data_fram,ii)\n",
    "        key = {ii:ack}\n",
    "        accuracy_dic.update(key)\n",
    "    return test,accuracy_dic\n"
   ]
  },
  {
   "cell_type": "code",
   "execution_count": 64,
   "metadata": {
    "collapsed": false
   },
   "outputs": [
    {
     "name": "stdout",
     "output_type": "stream",
     "text": [
      "    rWC   rCh Atom Type\n",
      "0  0.51  1.12   X1  Alk\n",
      "1  0.37  0.77   X2   TM\n",
      "2  0.62  0.35   X3   PT\n",
      "3  0.62  0.62   X4   TM\n",
      "4  0.62  0.93   X5  Alk\n",
      "     rWC   rCh Atom Type         0\n",
      "0   0.78  0.50    B   PT  0.676240\n",
      "1   0.90  0.67   Si   PT  0.595483\n",
      "2   0.97  0.65   Ga   PT  0.657647\n",
      "3   1.04  0.76   Al   PT  0.640703\n",
      "4   1.10  0.79   Ir   PT  0.676018\n",
      "5   0.32  0.62   Zn   TM  0.534883\n",
      "6   0.45  0.68   Cd   TM  0.444072\n",
      "7   0.14  0.66   Be  Alk  0.590339\n",
      "8   0.25  0.87   Mg  Alk  0.360694\n",
      "9   0.19  0.99   Li  Alk  0.345398\n",
      "10  0.28  1.01   Na  Alk  0.254951\n",
      "11  0.54  1.23   Ca  Alk  0.114018\n",
      "12  0.59  1.34    K  Alk  0.234094\n",
      "13  0.69  1.36   Sr  Alk  0.300000\n",
      "14  0.74  1.45   Rb  Alk  0.402244\n",
      "     rWC   rCh Atom Type         0         1\n",
      "0   0.78  0.50    B   PT  0.676240  0.490918\n",
      "1   0.90  0.67   Si   PT  0.595483  0.539351\n",
      "2   0.97  0.65   Ga   PT  0.657647  0.611882\n",
      "3   1.04  0.76   Al   PT  0.640703  0.670075\n",
      "4   1.10  0.79   Ir   PT  0.676018  0.730274\n",
      "5   0.32  0.62   Zn   TM  0.534883  0.158114\n",
      "6   0.45  0.68   Cd   TM  0.444072  0.120416\n",
      "7   0.14  0.66   Be  Alk  0.590339  0.254951\n",
      "8   0.25  0.87   Mg  Alk  0.360694  0.156205\n",
      "9   0.19  0.99   Li  Alk  0.345398  0.284253\n",
      "10  0.28  1.01   Na  Alk  0.254951  0.256320\n",
      "11  0.54  1.23   Ca  Alk  0.114018  0.490408\n",
      "12  0.59  1.34    K  Alk  0.234094  0.610983\n",
      "13  0.69  1.36   Sr  Alk  0.300000  0.671193\n",
      "14  0.74  1.45   Rb  Alk  0.402244  0.774145\n",
      "     rWC   rCh Atom Type         0         1         2\n",
      "0   0.78  0.50    B   PT  0.676240  0.490918  0.219317\n",
      "1   0.90  0.67   Si   PT  0.595483  0.539351  0.425206\n",
      "2   0.97  0.65   Ga   PT  0.657647  0.611882  0.460977\n",
      "3   1.04  0.76   Al   PT  0.640703  0.670075  0.586941\n",
      "4   1.10  0.79   Ir   PT  0.676018  0.730274  0.651153\n",
      "5   0.32  0.62   Zn   TM  0.534883  0.158114  0.403609\n",
      "6   0.45  0.68   Cd   TM  0.444072  0.120416  0.371214\n",
      "7   0.14  0.66   Be  Alk  0.590339  0.254951  0.571402\n",
      "8   0.25  0.87   Mg  Alk  0.360694  0.156205  0.638201\n",
      "9   0.19  0.99   Li  Alk  0.345398  0.284253  0.771038\n",
      "10  0.28  1.01   Na  Alk  0.254951  0.256320  0.742428\n",
      "11  0.54  1.23   Ca  Alk  0.114018  0.490408  0.883629\n",
      "12  0.59  1.34    K  Alk  0.234094  0.610983  0.990454\n",
      "13  0.69  1.36   Sr  Alk  0.300000  0.671193  1.012423\n",
      "14  0.74  1.45   Rb  Alk  0.402244  0.774145  1.106526\n",
      "     rWC   rCh Atom Type         0         1         2         3\n",
      "0   0.78  0.50    B   PT  0.676240  0.490918  0.219317  0.200000\n",
      "1   0.90  0.67   Si   PT  0.595483  0.539351  0.425206  0.284429\n",
      "2   0.97  0.65   Ga   PT  0.657647  0.611882  0.460977  0.351283\n",
      "3   1.04  0.76   Al   PT  0.640703  0.670075  0.586941  0.442719\n",
      "4   1.10  0.79   Ir   PT  0.676018  0.730274  0.651153  0.509215\n",
      "5   0.32  0.62   Zn   TM  0.534883  0.158114  0.403609  0.300000\n",
      "6   0.45  0.68   Cd   TM  0.444072  0.120416  0.371214  0.180278\n",
      "7   0.14  0.66   Be  Alk  0.590339  0.254951  0.571402  0.481664\n",
      "8   0.25  0.87   Mg  Alk  0.360694  0.156205  0.638201  0.446542\n",
      "9   0.19  0.99   Li  Alk  0.345398  0.284253  0.771038  0.567274\n",
      "10  0.28  1.01   Na  Alk  0.254951  0.256320  0.742428  0.517397\n",
      "11  0.54  1.23   Ca  Alk  0.114018  0.490408  0.883629  0.615224\n",
      "12  0.59  1.34    K  Alk  0.234094  0.610983  0.990454  0.720625\n",
      "13  0.69  1.36   Sr  Alk  0.300000  0.671193  1.012423  0.743303\n",
      "14  0.74  1.45   Rb  Alk  0.402244  0.774145  1.106526  0.838630\n",
      "     rWC   rCh Atom Type         0         1         2         3         4\n",
      "0   0.78  0.50    B   PT  0.676240  0.490918  0.219317  0.200000  0.458803\n",
      "1   0.90  0.67   Si   PT  0.595483  0.539351  0.425206  0.284429  0.382099\n",
      "2   0.97  0.65   Ga   PT  0.657647  0.611882  0.460977  0.351283  0.448219\n",
      "3   1.04  0.76   Al   PT  0.640703  0.670075  0.586941  0.442719  0.453100\n",
      "4   1.10  0.79   Ir   PT  0.676018  0.730274  0.651153  0.509215  0.500000\n",
      "5   0.32  0.62   Zn   TM  0.534883  0.158114  0.403609  0.300000  0.431393\n",
      "6   0.45  0.68   Cd   TM  0.444072  0.120416  0.371214  0.180278  0.302324\n",
      "7   0.14  0.66   Be  Alk  0.590339  0.254951  0.571402  0.481664  0.550727\n",
      "8   0.25  0.87   Mg  Alk  0.360694  0.156205  0.638201  0.446542  0.374833\n",
      "9   0.19  0.99   Li  Alk  0.345398  0.284253  0.771038  0.567274  0.434166\n",
      "10  0.28  1.01   Na  Alk  0.254951  0.256320  0.742428  0.517397  0.349285\n",
      "11  0.54  1.23   Ca  Alk  0.114018  0.490408  0.883629  0.615224  0.310483\n",
      "12  0.59  1.34    K  Alk  0.234094  0.610983  0.990454  0.720625  0.411096\n",
      "13  0.69  1.36   Sr  Alk  0.300000  0.671193  1.012423  0.743303  0.435660\n",
      "14  0.74  1.45   Rb  Alk  0.402244  0.774145  1.106526  0.838630  0.533667\n"
     ]
    },
    {
     "data": {
      "text/plain": [
       "(    rWC   rCh Atom Type  pre\n",
       " 0  0.51  1.12   X1  Alk  Alk\n",
       " 1  0.37  0.77   X2   TM   TM\n",
       " 2  0.62  0.35   X3   PT   TM\n",
       " 3  0.62  0.62   X4   TM   PT\n",
       " 4  0.62  0.93   X5  Alk  Alk, {1: 0.8, 2: 0.8, 3: 0.6})"
      ]
     },
     "execution_count": 64,
     "metadata": {},
     "output_type": "execute_result"
    }
   ],
   "source": [
    "knn('atomsradii.csv','testing.csv',3)"
   ]
  },
  {
   "cell_type": "code",
   "execution_count": null,
   "metadata": {
    "collapsed": true
   },
   "outputs": [],
   "source": []
  },
  {
   "cell_type": "code",
   "execution_count": null,
   "metadata": {
    "collapsed": true
   },
   "outputs": [],
   "source": []
  },
  {
   "cell_type": "code",
   "execution_count": null,
   "metadata": {
    "collapsed": true
   },
   "outputs": [],
   "source": []
  }
 ],
 "metadata": {
  "kernelspec": {
   "display_name": "Python 3",
   "language": "python",
   "name": "python3"
  },
  "language_info": {
   "codemirror_mode": {
    "name": "ipython",
    "version": 3
   },
   "file_extension": ".py",
   "mimetype": "text/x-python",
   "name": "python",
   "nbconvert_exporter": "python",
   "pygments_lexer": "ipython3",
   "version": "3.6.0"
  }
 },
 "nbformat": 4,
 "nbformat_minor": 2
}
