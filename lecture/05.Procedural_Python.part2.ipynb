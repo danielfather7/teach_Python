{
 "cells": [
  {
   "cell_type": "markdown",
   "metadata": {},
   "source": [
    "# Procedural programming in python\n",
    "\n",
    "## Topics\n",
    "\n",
    "* Flow control, part 2\n",
    " * Functions\n",
    " * In class exercise:\n",
    "   * Functionalize this!\n",
    " * From nothing to something:\n",
    "   * Pairwise correlation between rows in a pandas dataframe\n",
    "   * Sketch of the process\n",
    "   * In class exercise:\n",
    "     * Write the code!\n",
    "   * Rejoining, sharing ideas, problems, thoughts"
   ]
  },
  {
   "cell_type": "markdown",
   "metadata": {},
   "source": [
    "<hr>"
   ]
  },
  {
   "cell_type": "markdown",
   "metadata": {},
   "source": [
    "<hr>\n",
    "## Flow control\n",
    "\n",
    "<img src=\"https://docs.oracle.com/cd/B19306_01/appdev.102/b14261/lnpls008.gif\">Flow control figure</img>\n",
    "\n",
    "Flow control refers how to programs do loops, conditional execution, and order of functional operations.  "
   ]
  },
  {
   "cell_type": "markdown",
   "metadata": {},
   "source": [
    "### If\n",
    "If statements can be use to execute some lines or block of code if a particular condition is satisfied.  E.g. Let's print something based on the entries in the list."
   ]
  },
  {
   "cell_type": "code",
   "execution_count": null,
   "metadata": {
    "collapsed": false
   },
   "outputs": [],
   "source": [
    "instructors = ['Dave', 'Jim', 'Dorkus the Clown']\n",
    "\n",
    "if 'Dorkus the Clown' in instructors:\n",
    "    print('#fakeinstructor')"
   ]
  },
  {
   "cell_type": "markdown",
   "metadata": {},
   "source": [
    "There is a special do nothing word: `pass` that skips over some arm of a conditional, e.g."
   ]
  },
  {
   "cell_type": "code",
   "execution_count": null,
   "metadata": {
    "collapsed": false
   },
   "outputs": [],
   "source": [
    "if 'Jim' in instructors:\n",
    "    print(\"Congratulations!  Jim is teaching, your class won't stink!\")\n",
    "else:\n",
    "    pass"
   ]
  },
  {
   "cell_type": "markdown",
   "metadata": {},
   "source": [
    "## For\n",
    "\n",
    "For loops are the standard loop, though `while` is also common.  For has the general form:\n",
    "```\n",
    "for items in list:\n",
    "    do stuff\n",
    "```\n",
    "\n",
    "For loops and collections like tuples, lists and dictionaries are natural friends."
   ]
  },
  {
   "cell_type": "code",
   "execution_count": null,
   "metadata": {
    "collapsed": false
   },
   "outputs": [],
   "source": [
    "for instructor in instructors:\n",
    "    print(instructor)"
   ]
  },
  {
   "cell_type": "markdown",
   "metadata": {},
   "source": [
    "You can combine loops and conditionals:"
   ]
  },
  {
   "cell_type": "code",
   "execution_count": null,
   "metadata": {
    "collapsed": false
   },
   "outputs": [],
   "source": [
    "for instructor in instructors:\n",
    "    if instructor.endswith('Clown'):\n",
    "        print(instructor + \" doesn't sound like a real instructor name!\")\n",
    "    else:\n",
    "        print(instructor + \" is so smart... all those gooey brains!\")"
   ]
  },
  {
   "cell_type": "markdown",
   "metadata": {},
   "source": [
    "### range()\n",
    "\n",
    "Since for operates over lists, it is common to want to do something like:\n",
    "```\n",
    "NOTE: C-like\n",
    "for (i = 0; i < 3; ++i) {\n",
    "    print(i);\n",
    "}\n",
    "```\n",
    "\n",
    "The Python equivalent is:\n",
    "\n",
    "```\n",
    "for i in [0, 1, 2]:\n",
    "    do something with i\n",
    "```\n",
    "\n",
    "What happens when the range you want to sample is big, e.g.\n",
    "```\n",
    "NOTE: C-like\n",
    "for (i = 0; i < 1000000000; ++i) {\n",
    "    print(i);\n",
    "}\n",
    "```\n",
    "\n",
    "That would be a real pain in the rear to have to write out the entire list from 1 to 1000000000.\n",
    "\n",
    "Enter, the `range()` function.  E.g.\n",
    " ```range(3) is [0, 1, 2]```"
   ]
  },
  {
   "cell_type": "code",
   "execution_count": 1,
   "metadata": {
    "collapsed": false
   },
   "outputs": [
    {
     "name": "stdout",
     "output_type": "stream",
     "text": [
      "45\n"
     ]
    }
   ],
   "source": [
    "sum = 0\n",
    "for i in range(10):\n",
    "    sum += i\n",
    "print(sum)"
   ]
  },
  {
   "cell_type": "code",
   "execution_count": null,
   "metadata": {
    "collapsed": false
   },
   "outputs": [],
   "source": [
    "data.head()"
   ]
  },
  {
   "cell_type": "markdown",
   "metadata": {},
   "source": [
    "### Now, use your code from above for the following URLs and filenames\n",
    "\n",
    "| URL | filename | csv_filename |\n",
    "|-----|----------|--------------|\n",
    "| http://faculty.washington.edu/dacb/HCEPDB_moldata_set1.zip | HCEPDB_moldata_set1.zip | HCEPDB_moldata_set1.csv |\n",
    "| http://faculty.washington.edu/dacb/HCEPDB_moldata_set2.zip | HCEPDB_moldata_set2.zip | HCEPDB_moldata_set2.csv |\n",
    "| http://faculty.washington.edu/dacb/HCEPDB_moldata_set3.zip | HCEPDB_moldata_set3.zip | HCEPDB_moldata_set3.csv |\n",
    "\n",
    "What pieces of the data structures and flow control that we talked about earlier can you use?"
   ]
  },
  {
   "cell_type": "code",
   "execution_count": null,
   "metadata": {
    "collapsed": true
   },
   "outputs": [],
   "source": []
  },
  {
   "cell_type": "code",
   "execution_count": null,
   "metadata": {
    "collapsed": true
   },
   "outputs": [],
   "source": []
  },
  {
   "cell_type": "code",
   "execution_count": null,
   "metadata": {
    "collapsed": true
   },
   "outputs": [],
   "source": []
  },
  {
   "cell_type": "code",
   "execution_count": null,
   "metadata": {
    "collapsed": true
   },
   "outputs": [],
   "source": []
  },
  {
   "cell_type": "code",
   "execution_count": null,
   "metadata": {
    "collapsed": true
   },
   "outputs": [],
   "source": []
  },
  {
   "cell_type": "code",
   "execution_count": null,
   "metadata": {
    "collapsed": true
   },
   "outputs": [],
   "source": []
  },
  {
   "cell_type": "code",
   "execution_count": null,
   "metadata": {
    "collapsed": true
   },
   "outputs": [],
   "source": []
  },
  {
   "cell_type": "code",
   "execution_count": null,
   "metadata": {
    "collapsed": true
   },
   "outputs": [],
   "source": []
  },
  {
   "cell_type": "markdown",
   "metadata": {},
   "source": [
    "How did you solve this problem?"
   ]
  },
  {
   "cell_type": "markdown",
   "metadata": {},
   "source": []
  },
  {
   "cell_type": "markdown",
   "metadata": {},
   "source": [
    "<hr>"
   ]
  },
  {
   "cell_type": "markdown",
   "metadata": {},
   "source": [
    "### Functions\n",
    "\n",
    "For loops let you repeat some code for every item in a list.  Functions are similar in that they run the same lines of code for new values of some variable.  They are different in that functions are not limited to looping over items.\n",
    "\n",
    "Functions are a critical part of writing easy to read, reusable code.\n",
    "\n",
    "Create a function like:\n",
    "```\n",
    "def function_name (parameters):\n",
    "    \"\"\"\n",
    "    docstring\n",
    "    \"\"\"\n",
    "    function expressions\n",
    "    return [variable]\n",
    "```\n",
    "\n",
    "_Note:_ Sometimes I use the word argument in place of parameter.\n",
    "\n",
    "Here is a simple example.  It prints a string that was passed in and returns nothing."
   ]
  },
  {
   "cell_type": "code",
   "execution_count": 20,
   "metadata": {
    "collapsed": true
   },
   "outputs": [],
   "source": [
    "def print_string(str):\n",
    "    \"\"\"This prints out a string passed as the parameter.\"\"\"\n",
    "    print(str)\n",
    "    for c in str:\n",
    "        print(c)\n",
    "        if c == 'r':\n",
    "            break\n",
    "    print(\"done\")\n",
    "    return\n"
   ]
  },
  {
   "cell_type": "code",
   "execution_count": 21,
   "metadata": {
    "collapsed": false
   },
   "outputs": [
    {
     "name": "stdout",
     "output_type": "stream",
     "text": [
      "string\n",
      "s\n",
      "t\n",
      "r\n",
      "done\n"
     ]
    }
   ],
   "source": [
    "print_string(\"string\")"
   ]
  },
  {
   "cell_type": "markdown",
   "metadata": {},
   "source": [
    "To call the function, use:\n",
    "```\n",
    "print_string(\"Dave is awesome!\")\n",
    "```\n",
    "\n",
    "_Note:_ The function has to be defined before you can call it!"
   ]
  },
  {
   "cell_type": "code",
   "execution_count": null,
   "metadata": {
    "collapsed": false
   },
   "outputs": [],
   "source": [
    "print_string(\"Dave is awesome!\")"
   ]
  },
  {
   "cell_type": "markdown",
   "metadata": {},
   "source": [
    "If you don't provide an argument or too many, you get an error."
   ]
  },
  {
   "cell_type": "code",
   "execution_count": 22,
   "metadata": {
    "collapsed": false
   },
   "outputs": [
    {
     "ename": "TypeError",
     "evalue": "print_string() missing 1 required positional argument: 'str'",
     "output_type": "error",
     "traceback": [
      "\u001b[0;31m---------------------------------------------------------------------------\u001b[0m",
      "\u001b[0;31mTypeError\u001b[0m                                 Traceback (most recent call last)",
      "\u001b[0;32m<ipython-input-22-ad26026057f7>\u001b[0m in \u001b[0;36m<module>\u001b[0;34m()\u001b[0m\n\u001b[0;32m----> 1\u001b[0;31m \u001b[0mprint_string\u001b[0m\u001b[0;34m(\u001b[0m\u001b[0;34m)\u001b[0m\u001b[0;34m\u001b[0m\u001b[0m\n\u001b[0m",
      "\u001b[0;31mTypeError\u001b[0m: print_string() missing 1 required positional argument: 'str'"
     ]
    }
   ],
   "source": [
    "print_string()"
   ]
  },
  {
   "cell_type": "markdown",
   "metadata": {},
   "source": [
    "Parameters (or arguments) in Python are all passed by reference.  This means that if you modify the parameters in the function, they are modified outside of the function.\n",
    "\n",
    "See the following example:\n",
    "\n",
    "```\n",
    "def change_list(my_list):\n",
    "   \"\"\"This changes a passed list into this function\"\"\"\n",
    "   my_list.append('four');\n",
    "   print('list inside the function: ', my_list)\n",
    "   return\n",
    "\n",
    "my_list = [1, 2, 3];\n",
    "print('list before the function: ', my_list)\n",
    "change_list(my_list);\n",
    "print('list after the function: ', my_list)\n",
    "```"
   ]
  },
  {
   "cell_type": "code",
   "execution_count": 23,
   "metadata": {
    "collapsed": false
   },
   "outputs": [
    {
     "name": "stdout",
     "output_type": "stream",
     "text": [
      "list before the function:  [1, 2, 3]\n",
      "list inside the function:  [1, 2, 3, 'four']\n",
      "list after the function:  [1, 2, 3, 'four']\n"
     ]
    }
   ],
   "source": [
    "def change_list(my_list):\n",
    "   \"\"\"This changes a passed list into this function\"\"\"\n",
    "   my_list.append('four');\n",
    "   print('list inside the function: ', my_list)\n",
    "   return\n",
    "\n",
    "my_list = [1, 2, 3];\n",
    "print('list before the function: ', my_list)\n",
    "change_list(my_list);\n",
    "print('list after the function: ', my_list)"
   ]
  },
  {
   "cell_type": "markdown",
   "metadata": {},
   "source": [
    "Variables have scope: `global` and `local`\n",
    "\n",
    "In a function, new variables that you create are not saved when the function returns - these are `local` variables.  Variables defined outside of the function can be accessed but not changed - these are `global` variables, _Note_ there is a way to do this with the `global` keyword.  Generally, the use of `global` variables is not encouraged, instead use parameters.\n",
    "\n",
    "```\n",
    "my_global_1 = 'bad idea'\n",
    "my_global_2 = 'another bad one'\n",
    "my_global_3 = 'better idea'\n",
    "\n",
    "def my_function():\n",
    "    print(my_global_1)\n",
    "    my_global_2 = 'broke your global, man!'\n",
    "    global my_global_3\n",
    "    my_global_3 = 'still a better idea'\n",
    "    return\n",
    "    \n",
    "my_function()\n",
    "print(my_global_2)\n",
    "print(my_global_3)\n",
    "```"
   ]
  },
  {
   "cell_type": "code",
   "execution_count": 25,
   "metadata": {
    "collapsed": false
   },
   "outputs": [
    {
     "name": "stdout",
     "output_type": "stream",
     "text": [
      "bad idea\n",
      "broke your global, man!\n",
      "another bad one\n",
      "still a better idea\n"
     ]
    }
   ],
   "source": [
    "my_global_1 = 'bad idea'\n",
    "my_global_2 = 'another bad one'\n",
    "my_global_3 = 'better idea'\n",
    "\n",
    "def my_function():\n",
    "    print(my_global_1)\n",
    "    my_global_2 = 'broke your global, man!'\n",
    "    print(my_global_2)\n",
    "    global my_global_3\n",
    "    my_global_3 = 'still a better idea'\n",
    "    return\n",
    "\n",
    "my_function()\n",
    "print(my_global_2)\n",
    "print(my_global_3)"
   ]
  },
  {
   "cell_type": "markdown",
   "metadata": {},
   "source": [
    "In general, you want to use parameters to provide data to a function and return a result with the `return`. E.g.\n",
    "\n",
    "```\n",
    "def sum(x, y):\n",
    "    my_sum = x + y\n",
    "    return my_sum\n",
    "```\n",
    "\n",
    "If you are going to return multiple objects, what data structure that we talked about can be used?  Give and example below."
   ]
  },
  {
   "cell_type": "code",
   "execution_count": 30,
   "metadata": {
    "collapsed": true
   },
   "outputs": [],
   "source": [
    "def a_function(parameter):\n",
    "    return None\n",
    "\n"
   ]
  },
  {
   "cell_type": "code",
   "execution_count": 31,
   "metadata": {
    "collapsed": false
   },
   "outputs": [
    {
     "name": "stdout",
     "output_type": "stream",
     "text": [
      "None\n"
     ]
    }
   ],
   "source": [
    "foo = a_function('bar')\n",
    "print(foo)"
   ]
  },
  {
   "cell_type": "markdown",
   "metadata": {},
   "source": [
    "### Parameters have three different types:\n",
    "\n",
    "| type | behavior |\n",
    "|------|----------|\n",
    "| required | positional, must be present or error, e.g. `my_func(first_name, last_name)` |\n",
    "| keyword | position independent, e.g. `my_func(first_name, last_name)` can be called `my_func(first_name='Dave', last_name='Beck')` or `my_func(last_name='Beck', first_name='Dave')` |\n",
    "| default | keyword params that default to a value if not provided |\n"
   ]
  },
  {
   "cell_type": "code",
   "execution_count": 32,
   "metadata": {
    "collapsed": true
   },
   "outputs": [],
   "source": [
    "def print_name(first, last='the Clown'):\n",
    "    print('Your name is %s %s' % (first, last))\n",
    "    return"
   ]
  },
  {
   "cell_type": "markdown",
   "metadata": {},
   "source": [
    "Take a minute and play around with the above function.  Which are required?  Keyword?  Default?"
   ]
  },
  {
   "cell_type": "code",
   "execution_count": 34,
   "metadata": {
    "collapsed": false
   },
   "outputs": [],
   "source": [
    "def massive_correlation_analysis(data, method='pearson'):\n",
    "    pass\n",
    "    return"
   ]
  },
  {
   "cell_type": "markdown",
   "metadata": {},
   "source": [
    "Functions can contain any code that you put anywhere else including:\n",
    "* if...elif...else\n",
    "* for...else\n",
    "* while\n",
    "* other function calls"
   ]
  },
  {
   "cell_type": "code",
   "execution_count": 39,
   "metadata": {
    "collapsed": false
   },
   "outputs": [],
   "source": [
    "def print_name_age(first, last, age):\n",
    "    print_name(first, last)\n",
    "    print('Your age is %d' % (age))\n",
    "    print('Your age is ' + str(age))\n",
    "    if age > 35:\n",
    "        print('You are really old.')\n",
    "    return"
   ]
  },
  {
   "cell_type": "code",
   "execution_count": 40,
   "metadata": {
    "collapsed": false
   },
   "outputs": [
    {
     "name": "stdout",
     "output_type": "stream",
     "text": [
      "Your name is Dave Beck\n",
      "Your age is 40\n",
      "Your age is 40\n",
      "You are really old.\n"
     ]
    }
   ],
   "source": [
    "print_name_age(age=40, last='Beck', first='Dave')\n"
   ]
  },
  {
   "cell_type": "markdown",
   "metadata": {},
   "source": [
    "Once you have some code that is functionalized and not going to change, you can move it to a file that ends in `.py`, check it into version control, import it into your notebook and use it!\n",
    "\n",
    "Let's do this now for the above two functions.\n",
    "\n",
    "...\n",
    "\n",
    "\n",
    "    See you after the break!"
   ]
  },
  {
   "cell_type": "markdown",
   "metadata": {},
   "source": [
    "Import the function..."
   ]
  },
  {
   "cell_type": "code",
   "execution_count": null,
   "metadata": {
    "collapsed": false
   },
   "outputs": [],
   "source": []
  },
  {
   "cell_type": "markdown",
   "metadata": {},
   "source": [
    "Call them!"
   ]
  },
  {
   "cell_type": "code",
   "execution_count": null,
   "metadata": {
    "collapsed": false
   },
   "outputs": [],
   "source": []
  },
  {
   "cell_type": "markdown",
   "metadata": {},
   "source": [
    "<hr>\n",
    "## Hacky Hack Time with Functions!\n",
    "\n",
    "Notes from last class:\n",
    "* The `os` package has tools for checking if a file exists: ``os.path.exists``\n",
    "```\n",
    "import os\n",
    "filename = 'HCEPDB_moldata.zip'\n",
    "if os.path.exists(filename):\n",
    "    print(\"wahoo!\")\n",
    "```\n",
    "* Use the `requests` package to get the file given a url (got this from the requests docs)\n",
    "```\n",
    "import requests\n",
    "url = 'http://faculty.washington.edu/dacb/HCEPDB_moldata.zip'\n",
    "req = requests.get(url)\n",
    "assert req.status_code == 200 # if the download failed, this line will generate an error\n",
    "with open(filename, 'wb') as f:\n",
    "    f.write(req.content)\n",
    "```\n",
    "* Use the `zipfile` package to decompress the file while reading it into `pandas`\n",
    "```\n",
    "import pandas as pd\n",
    "import zipfile\n",
    "csv_filename = 'HCEPDB_moldata.csv'\n",
    "zf = zipfile.ZipFile(filename)\n",
    "data = pd.read_csv(zf.open(csv_filename))\n",
    "```\n",
    "\n",
    "Here was my solution\n",
    "```\n",
    "import os\n",
    "import requests\n",
    "import pandas as pd\n",
    "import zipfile\n",
    "\n",
    "filename = 'HCEPDB_moldata.zip'\n",
    "url = 'http://faculty.washington.edu/dacb/HCEPDB_moldata.zip'\n",
    "csv_filename = 'HCEPDB_moldata.csv'\n",
    "\n",
    "if os.path.exists(filename):\n",
    "    pass\n",
    "else:\n",
    "    req = requests.get(url)\n",
    "    assert req.status_code == 200 # if the download failed, this line will generate an error\n",
    "    with open(filename, 'wb') as f:\n",
    "        f.write(req.content)\n",
    "\n",
    "zf = zipfile.ZipFile(filename)\n",
    "data = pd.read_csv(zf.open(csv_filename))\n",
    "```\n",
    "\n",
    "## In class exercise\n",
    "### 5-10 minutes\n",
    "#### Objective: How would you functionalize the code for downloading, unzipping, and making a dataframe?\n",
    "#### Bonus!  Add the the code to a file `HCEPDB_utils.py` and import it!"
   ]
  },
  {
   "cell_type": "code",
   "execution_count": null,
   "metadata": {
    "collapsed": false
   },
   "outputs": [],
   "source": [
    "def download_if_not_exists(filename):\n",
    "    if os.path.exists(filename):\n",
    "        pass\n",
    "    else:\n",
    "        req = requests.get(url)\n",
    "        assert req.status_code == 200 # if the download failed, this line will generate an error\n",
    "        with open(filename, 'wb') as f:\n",
    "            f.write(req.content)"
   ]
  },
  {
   "cell_type": "code",
   "execution_count": null,
   "metadata": {
    "collapsed": true
   },
   "outputs": [],
   "source": []
  },
  {
   "cell_type": "code",
   "execution_count": null,
   "metadata": {
    "collapsed": true
   },
   "outputs": [],
   "source": []
  },
  {
   "cell_type": "code",
   "execution_count": null,
   "metadata": {
    "collapsed": true
   },
   "outputs": [],
   "source": []
  },
  {
   "cell_type": "code",
   "execution_count": null,
   "metadata": {
    "collapsed": true
   },
   "outputs": [],
   "source": []
  },
  {
   "cell_type": "markdown",
   "metadata": {},
   "source": [
    "How many functions did you use?"
   ]
  },
  {
   "cell_type": "markdown",
   "metadata": {},
   "source": []
  },
  {
   "cell_type": "markdown",
   "metadata": {},
   "source": [
    "Why did you choose to use functions for these pieces?"
   ]
  },
  {
   "cell_type": "markdown",
   "metadata": {},
   "source": []
  },
  {
   "cell_type": "markdown",
   "metadata": {},
   "source": [
    "<HR>\n",
    "## From something to nothing\n",
    "\n",
    "### Task: Compute the pairwise Pearson correlation between rows in a dataframe.\n",
    "\n",
    "Let's say we have three molecules (A, B, C) with three measurements each (v1, v2, v3).  So for each molecule we have a vector of measurements:\n",
    "\n",
    "$$X=\\begin{bmatrix}\n",
    "         X_{v_{1}} \\\\\n",
    "         X_{v_{2}} \\\\\n",
    "         X_{v_{3}} \\\\\n",
    "        \\end{bmatrix} $$\n",
    "        \n",
    "Where X is a molecule and the components are the values for each of the measurements.  These make up the rows in our matrix.\n",
    "\n",
    "Often, we want to compare molecules to determine how similar or different they are.  One measure is the Pearson correlation.\n",
    "\n",
    "Pearson correlation: <img src=\"https://wikimedia.org/api/rest_v1/media/math/render/svg/01d103c10e6d4f477953a9b48c69d19a954d978a\"/>\n",
    "\n",
    "Expressed graphically, when you plot the paired measurements for two samples (in this case molecules) against each other you can see positively correlated, no correlation, and negatively correlated.  Eg.\n",
    "<img src=\"http://www.statisticshowto.com/wp-content/uploads/2012/10/pearson-2-small.png\"/>\n",
    "\n",
    "\n",
    "Simple input dataframe (_note_ when you are writing code it is always a good idea to have a simple test case where you can readily compute by hand or know the output):\n",
    "\n",
    "| index | v1 | v2 | v3 |\n",
    "|-------|----|----|----|\n",
    "| A     | -1 | 0  | 1  |\n",
    "| B     | 1  | 0  | -1 |\n",
    "| C     | .5 | 0  | .5 |\n",
    "\n",
    "* If the above is a dataframe what shape and size is the output?"
   ]
  },
  {
   "cell_type": "markdown",
   "metadata": {},
   "source": []
  },
  {
   "cell_type": "markdown",
   "metadata": {},
   "source": [
    "* Whare are some unique features of the output?"
   ]
  },
  {
   "cell_type": "markdown",
   "metadata": {},
   "source": []
  },
  {
   "cell_type": "markdown",
   "metadata": {},
   "source": [
    "For our test case, what will the output be?"
   ]
  },
  {
   "cell_type": "markdown",
   "metadata": {
    "collapsed": true
   },
   "source": [
    "|   | A | B | C |\n",
    "|---|---|---|---|\n",
    "| A | 1 | -1 | 0 |\n",
    "| B | -1 | 1 | 0 |\n",
    "| C | 0 | 0 | 1 |"
   ]
  },
  {
   "cell_type": "markdown",
   "metadata": {},
   "source": [
    "### Let's sketch the idea..."
   ]
  },
  {
   "cell_type": "markdown",
   "metadata": {},
   "source": []
  },
  {
   "cell_type": "code",
   "execution_count": null,
   "metadata": {
    "collapsed": true
   },
   "outputs": [],
   "source": []
  },
  {
   "cell_type": "code",
   "execution_count": null,
   "metadata": {
    "collapsed": true
   },
   "outputs": [],
   "source": []
  },
  {
   "cell_type": "markdown",
   "metadata": {},
   "source": [
    "## In class exercise\n",
    "### 20-30 minutes\n",
    "#### Objectives: \n",
    "1. Write code using functions to compute the pairwise Pearson correlation between rows in a pandas dataframe.  You will have to use ``for`` and possibly ``if``.\n",
    "2. Use a cell to test each function with an input that yields an expected output.  Think about the shape and values of the outputs.\n",
    "3. Put the code in a ``.py`` file in the directory with the Jupyter notebook, import and run!"
   ]
  },
  {
   "cell_type": "code",
   "execution_count": null,
   "metadata": {
    "collapsed": true
   },
   "outputs": [],
   "source": []
  },
  {
   "cell_type": "code",
   "execution_count": null,
   "metadata": {
    "collapsed": true
   },
   "outputs": [],
   "source": []
  },
  {
   "cell_type": "code",
   "execution_count": null,
   "metadata": {
    "collapsed": true
   },
   "outputs": [],
   "source": []
  },
  {
   "cell_type": "code",
   "execution_count": null,
   "metadata": {
    "collapsed": true
   },
   "outputs": [],
   "source": []
  },
  {
   "cell_type": "code",
   "execution_count": null,
   "metadata": {
    "collapsed": true
   },
   "outputs": [],
   "source": []
  },
  {
   "cell_type": "code",
   "execution_count": 1,
   "metadata": {
    "collapsed": true
   },
   "outputs": [],
   "source": [
    "import pandas as pd\n",
    "import math"
   ]
  },
  {
   "cell_type": "code",
   "execution_count": 7,
   "metadata": {
    "collapsed": false
   },
   "outputs": [
    {
     "name": "stderr",
     "output_type": "stream",
     "text": [
      "/Users/Mandy/anaconda/lib/python3.6/site-packages/IPython/core/interactiveshell.py:2717: DtypeWarning: Columns (0,3,4,5,6,7,8,9) have mixed types. Specify dtype option on import or set low_memory=False.\n",
      "  interactivity=interactivity, compiler=compiler, result=result)\n"
     ]
    }
   ],
   "source": [
    "df = pd.read_csv('HCEPDB_moldata.csv')"
   ]
  },
  {
   "cell_type": "code",
   "execution_count": 8,
   "metadata": {
    "collapsed": false
   },
   "outputs": [
    {
     "data": {
      "text/html": [
       "<div>\n",
       "<table border=\"1\" class=\"dataframe\">\n",
       "  <thead>\n",
       "    <tr style=\"text-align: right;\">\n",
       "      <th></th>\n",
       "      <th>0</th>\n",
       "      <th>1</th>\n",
       "      <th>2</th>\n",
       "      <th>3</th>\n",
       "      <th>4</th>\n",
       "      <th>5</th>\n",
       "      <th>6</th>\n",
       "      <th>7</th>\n",
       "      <th>8</th>\n",
       "      <th>9</th>\n",
       "      <th>10</th>\n",
       "    </tr>\n",
       "  </thead>\n",
       "  <tbody>\n",
       "    <tr>\n",
       "      <th>0</th>\n",
       "      <td>id</td>\n",
       "      <td>SMILES_str</td>\n",
       "      <td>stoich_str</td>\n",
       "      <td>mass</td>\n",
       "      <td>pce</td>\n",
       "      <td>voc</td>\n",
       "      <td>jsc</td>\n",
       "      <td>e_homo_alpha</td>\n",
       "      <td>e_gap_alpha</td>\n",
       "      <td>e_lumo_alpha</td>\n",
       "      <td>tmp_smiles_str</td>\n",
       "    </tr>\n",
       "    <tr>\n",
       "      <th>1</th>\n",
       "      <td>655365</td>\n",
       "      <td>C1C=CC=C1c1cc2[se]c3c4occc4c4nsnc4c3c2cn1</td>\n",
       "      <td>C18H9N3OSSe</td>\n",
       "      <td>394.3151</td>\n",
       "      <td>5.16195320211971</td>\n",
       "      <td>0.86760078740294</td>\n",
       "      <td>91.5675749599</td>\n",
       "      <td>-5.46760078740294</td>\n",
       "      <td>2.02294443593306</td>\n",
       "      <td>-3.44465635146988</td>\n",
       "      <td>C1=CC=C(C1)c1cc2[se]c3c4occc4c4nsnc4c3c2cn1</td>\n",
       "    </tr>\n",
       "    <tr>\n",
       "      <th>2</th>\n",
       "      <td>1245190</td>\n",
       "      <td>C1C=CC=C1c1cc2[se]c3c(ncc4ccccc34)c2c2=C[SiH2]...</td>\n",
       "      <td>C22H15NSeSi</td>\n",
       "      <td>400.4135</td>\n",
       "      <td>5.2613977233692</td>\n",
       "      <td>0.50482419467609</td>\n",
       "      <td>160.40154923845</td>\n",
       "      <td>-5.10482419467609</td>\n",
       "      <td>1.63075003826037</td>\n",
       "      <td>-3.47407415641572</td>\n",
       "      <td>C1=CC=C(C1)c1cc2[se]c3c(ncc4ccccc34)c2c2=C[SiH...</td>\n",
       "    </tr>\n",
       "    <tr>\n",
       "      <th>3</th>\n",
       "      <td>21847</td>\n",
       "      <td>C1C=c2ccc3c4c[nH]cc4c4c5[SiH2]C(=Cc5oc4c3c2=C1...</td>\n",
       "      <td>C24H17NOSi</td>\n",
       "      <td>363.4903</td>\n",
       "      <td>0</td>\n",
       "      <td>0</td>\n",
       "      <td>197.47477990435</td>\n",
       "      <td>-4.53952567287262</td>\n",
       "      <td>1.46215815756611</td>\n",
       "      <td>-3.07736751530651</td>\n",
       "      <td>C1=CC=C(C1)C1=Cc2oc3c(c2[SiH2]1)c1c[nH]cc1c1cc...</td>\n",
       "    </tr>\n",
       "    <tr>\n",
       "      <th>4</th>\n",
       "      <td>65553</td>\n",
       "      <td>[SiH2]1C=CC2=C1C=C([SiH2]2)C1=Cc2[se]ccc2[SiH2]1</td>\n",
       "      <td>C12H12SeSi3</td>\n",
       "      <td>319.4448</td>\n",
       "      <td>6.13829369542661</td>\n",
       "      <td>0.63027445338351</td>\n",
       "      <td>149.88754514825</td>\n",
       "      <td>-5.23027445338351</td>\n",
       "      <td>1.6822495770534</td>\n",
       "      <td>-3.54802487633011</td>\n",
       "      <td>C1=CC2=C([SiH2]1)C=C([SiH2]2)C1=Cc2[se]ccc2[Si...</td>\n",
       "    </tr>\n",
       "    <tr>\n",
       "      <th>5</th>\n",
       "      <td>720918</td>\n",
       "      <td>C1C=c2c3ccsc3c3[se]c4cc(oc4c3c2=C1)C1=CC=CC1</td>\n",
       "      <td>C20H12OSSe</td>\n",
       "      <td>379.3398</td>\n",
       "      <td>1.99136566470237</td>\n",
       "      <td>0.242119009470801</td>\n",
       "      <td>126.58134716045</td>\n",
       "      <td>-4.8421190094708</td>\n",
       "      <td>1.80943882203271</td>\n",
       "      <td>-3.03268018743809</td>\n",
       "      <td>C1=CC=C(C1)c1cc2[se]c3c4sccc4c4=CCC=c4c3c2o1</td>\n",
       "    </tr>\n",
       "    <tr>\n",
       "      <th>6</th>\n",
       "      <td>1310744</td>\n",
       "      <td>C1C=CC=C1c1cc2[se]c3c(c4nsnc4c4ccncc34)c2c2ccc...</td>\n",
       "      <td>C24H13N3SSe</td>\n",
       "      <td>454.4137</td>\n",
       "      <td>5.60513478857347</td>\n",
       "      <td>0.95191087183926</td>\n",
       "      <td>90.62277586765</td>\n",
       "      <td>-5.55191087183926</td>\n",
       "      <td>2.02971670891245</td>\n",
       "      <td>-3.52219416292681</td>\n",
       "      <td>C1=CC=C(C1)c1cc2[se]c3c(c4nsnc4c4ccncc34)c2c2c...</td>\n",
       "    </tr>\n",
       "    <tr>\n",
       "      <th>7</th>\n",
       "      <td>196637</td>\n",
       "      <td>C1C=CC=C1c1cc2[se]c3cc4ccsc4cc3c2[se]1</td>\n",
       "      <td>C17H10SSe2</td>\n",
       "      <td>404.252</td>\n",
       "      <td>2.64443641930939</td>\n",
       "      <td>0.587932414406801</td>\n",
       "      <td>69.2234614721</td>\n",
       "      <td>-5.1879324144068</td>\n",
       "      <td>2.20110577558483</td>\n",
       "      <td>-2.98682663882197</td>\n",
       "      <td>C1=CC=C(C1)c1cc2[se]c3cc4ccsc4cc3c2[se]1</td>\n",
       "    </tr>\n",
       "    <tr>\n",
       "      <th>8</th>\n",
       "      <td>262174</td>\n",
       "      <td>C1C=CC=C1c1cc2[se]c3c4occc4c4cscc4c3c2[se]1</td>\n",
       "      <td>C19H10OSSe2</td>\n",
       "      <td>444.273</td>\n",
       "      <td>2.52305655873057</td>\n",
       "      <td>0.39767026257405</td>\n",
       "      <td>97.64532544975</td>\n",
       "      <td>-4.99767026257405</td>\n",
       "      <td>1.98212181531837</td>\n",
       "      <td>-3.01554844725568</td>\n",
       "      <td>C1=CC=C(C1)c1cc2[se]c3c4occc4c4cscc4c3c2[se]1</td>\n",
       "    </tr>\n",
       "    <tr>\n",
       "      <th>9</th>\n",
       "      <td>393249</td>\n",
       "      <td>C1C=CC=C1c1cc2[se]c3cc4cccnc4cc3c2c2ccccc12</td>\n",
       "      <td>C24H15NSe</td>\n",
       "      <td>396.3495</td>\n",
       "      <td>3.1158951050846</td>\n",
       "      <td>0.86913959183236</td>\n",
       "      <td>55.174814587685</td>\n",
       "      <td>-5.46913959183236</td>\n",
       "      <td>2.33181477476568</td>\n",
       "      <td>-3.13732481706668</td>\n",
       "      <td>C1=CC=C(C1)c1cc2[se]c3cc4cccnc4cc3c2c2ccccc12</td>\n",
       "    </tr>\n",
       "    <tr>\n",
       "      <th>10</th>\n",
       "      <td>35</td>\n",
       "      <td>C1C2=C([SiH2]C=C2)C=C1c1cc2occc2c2cscc12</td>\n",
       "      <td>C17H12OSSi</td>\n",
       "      <td>292.4328</td>\n",
       "      <td>2.74321377891055</td>\n",
       "      <td>0.38710624740493</td>\n",
       "      <td>109.06290475405</td>\n",
       "      <td>-4.98710624740493</td>\n",
       "      <td>1.90996574187542</td>\n",
       "      <td>-3.07714050552951</td>\n",
       "      <td>C1=CC2=C([SiH2]1)C=C(C2)c1cc2occc2c2cscc12</td>\n",
       "    </tr>\n",
       "    <tr>\n",
       "      <th>11</th>\n",
       "      <td>1048612</td>\n",
       "      <td>C1C=CC=C1C1=Cc2sc3cc4C=C[SiH2]c4cc3c2C1</td>\n",
       "      <td>C18H14SSi</td>\n",
       "      <td>290.4606</td>\n",
       "      <td>2.40841131373757</td>\n",
       "      <td>0.43131491941631</td>\n",
       "      <td>85.9377076701</td>\n",
       "      <td>-5.03131491941631</td>\n",
       "      <td>2.06584966433715</td>\n",
       "      <td>-2.96546525507916</td>\n",
       "      <td>C1=CC=C(C1)C1=Cc2sc3cc4C=C[SiH2]c4cc3c2C1</td>\n",
       "    </tr>\n",
       "    <tr>\n",
       "      <th>12</th>\n",
       "      <td>917542</td>\n",
       "      <td>C1C=c2ccc3[se]c4c5[se]c(cc5[se]c4c3c2=C1)C1=CC...</td>\n",
       "      <td>C20H12Se3</td>\n",
       "      <td>489.1948</td>\n",
       "      <td>2.84327790532769</td>\n",
       "      <td>0.3025906196108</td>\n",
       "      <td>144.6143656087</td>\n",
       "      <td>-4.9025906196108</td>\n",
       "      <td>1.70819762918304</td>\n",
       "      <td>-3.19439299042776</td>\n",
       "      <td>C1=CC=C(C1)c1cc2[se]c3c([se]c4ccc5=CCC=c5c34)c...</td>\n",
       "    </tr>\n",
       "    <tr>\n",
       "      <th>13</th>\n",
       "      <td>1441831</td>\n",
       "      <td>C1C=CC=C1C1=Cc2ncc3c4[se]ccc4cnc3c2C1</td>\n",
       "      <td>C18H12N2Se</td>\n",
       "      <td>335.2668</td>\n",
       "      <td>2.68724019638341</td>\n",
       "      <td>0.67549682028117</td>\n",
       "      <td>61.225277938305</td>\n",
       "      <td>-5.27549682028117</td>\n",
       "      <td>2.27095328753055</td>\n",
       "      <td>-3.00454353275062</td>\n",
       "      <td>C1=CC=C(C1)C1=Cc2ncc3c4[se]ccc4cnc3c2C1</td>\n",
       "    </tr>\n",
       "    <tr>\n",
       "      <th>14</th>\n",
       "      <td>1376296</td>\n",
       "      <td>C1C=CC=C1C1=Cc2c(C1)c1[se]c3ccc4cscc4c3c1c1=C[...</td>\n",
       "      <td>C24H16SSeSi</td>\n",
       "      <td>443.5024</td>\n",
       "      <td>2.8446368983132</td>\n",
       "      <td>0.18920592502927</td>\n",
       "      <td>231.38739350415</td>\n",
       "      <td>-4.78920592502927</td>\n",
       "      <td>1.31233370868624</td>\n",
       "      <td>-3.47687221634303</td>\n",
       "      <td>C1=CC=C(C1)C1=Cc2c(C1)c1[se]c3ccc4cscc4c3c1c1=...</td>\n",
       "    </tr>\n",
       "    <tr>\n",
       "      <th>15</th>\n",
       "      <td>1638442</td>\n",
       "      <td>C1C=c2ccc3cnc4c5[SiH2]C(=Cc5c5nsnc5c4c3c2=C1)C...</td>\n",
       "      <td>C23H15N3SSi</td>\n",
       "      <td>393.5445</td>\n",
       "      <td>6.46251246238048</td>\n",
       "      <td>0.60240460581576</td>\n",
       "      <td>165.1051792767</td>\n",
       "      <td>-5.20240460581576</td>\n",
       "      <td>1.60316496595707</td>\n",
       "      <td>-3.59923963985869</td>\n",
       "      <td>C1=CC=C(C1)C1=Cc2c([SiH2]1)c1ncc3ccc4=CCC=c4c3...</td>\n",
       "    </tr>\n",
       "    <tr>\n",
       "      <th>16</th>\n",
       "      <td>98350</td>\n",
       "      <td>C1C=CC=C1C1=Cc2ccc3c4CC=Cc4c4cscc4c3c2[SiH2]1</td>\n",
       "      <td>C22H16SSi</td>\n",
       "      <td>340.5204</td>\n",
       "      <td>2.63146328874209</td>\n",
       "      <td>0.410851163619401</td>\n",
       "      <td>98.57354638625</td>\n",
       "      <td>-5.0108511636194</td>\n",
       "      <td>1.97570703051256</td>\n",
       "      <td>-3.03514413310684</td>\n",
       "      <td>C1=CC=C(C1)C1=Cc2ccc3c4CC=Cc4c4cscc4c3c2[SiH2]1</td>\n",
       "    </tr>\n",
       "    <tr>\n",
       "      <th>17</th>\n",
       "      <td>2162747</td>\n",
       "      <td>C1C=CC=C1C1=Cc2c([SiH2]1)c1c3c[nH]cc3c3ccc4=C[...</td>\n",
       "      <td>C27H19NOSi2</td>\n",
       "      <td>429.6251</td>\n",
       "      <td>2.03915811352424</td>\n",
       "      <td>0.14074406290405</td>\n",
       "      <td>222.981280483</td>\n",
       "      <td>-4.74074406290405</td>\n",
       "      <td>1.36113723091331</td>\n",
       "      <td>-3.37960683199074</td>\n",
       "      <td>C1=CC=C(C1)C1=Cc2c([SiH2]1)c1c3c[nH]cc3c3ccc4=...</td>\n",
       "    </tr>\n",
       "    <tr>\n",
       "      <th>18</th>\n",
       "      <td>557119</td>\n",
       "      <td>C1C=c2c3C=C(Cc3c3occc3c2=C1)C1=CC=CC1</td>\n",
       "      <td>C19H14O</td>\n",
       "      <td>258.3186</td>\n",
       "      <td>0.237204563447386</td>\n",
       "      <td>0.0249623237532005</td>\n",
       "      <td>146.24654523115</td>\n",
       "      <td>-4.6249623237532</td>\n",
       "      <td>1.70041519990913</td>\n",
       "      <td>-2.92454712384407</td>\n",
       "      <td>C1=CC=C(C1)C1=Cc2c(C1)c1occc1c1=CCC=c21</td>\n",
       "    </tr>\n",
       "    <tr>\n",
       "      <th>19</th>\n",
       "      <td>753728</td>\n",
       "      <td>C1C=CC=C1C1=Cc2c([SiH2]1)c1cc3ncccc3cc1c1c[nH]...</td>\n",
       "      <td>C22H16N2Si</td>\n",
       "      <td>336.4684</td>\n",
       "      <td>3.10383123118601</td>\n",
       "      <td>0.409504148061471</td>\n",
       "      <td>116.65070843205</td>\n",
       "      <td>-5.00950414806147</td>\n",
       "      <td>1.8634156621733</td>\n",
       "      <td>-3.14608848588817</td>\n",
       "      <td>C1=CC=C(C1)C1=Cc2c([SiH2]1)c1cc3ncccc3cc1c1c[n...</td>\n",
       "    </tr>\n",
       "    <tr>\n",
       "      <th>20</th>\n",
       "      <td>819265</td>\n",
       "      <td>C1C=CC=C1C1=Cc2c([SiH2]1)c1c(c3cscc23)c2[se]cc...</td>\n",
       "      <td>C23H16SSeSi2</td>\n",
       "      <td>459.5774</td>\n",
       "      <td>5.38525291629117</td>\n",
       "      <td>0.368606419249421</td>\n",
       "      <td>224.8489157226</td>\n",
       "      <td>-4.96860641924942</td>\n",
       "      <td>1.35230882836041</td>\n",
       "      <td>-3.61629759088901</td>\n",
       "      <td>C1=CC=C(C1)C1=Cc2c([SiH2]1)c1c(c3cscc23)c2[se]...</td>\n",
       "    </tr>\n",
       "    <tr>\n",
       "      <th>21</th>\n",
       "      <td>1278019</td>\n",
       "      <td>C1C=CC=C1C1=Cc2c([SiH2]1)c1c(c3[SiH2]C=Cc3c3=C...</td>\n",
       "      <td>C23H18OSi3</td>\n",
       "      <td>394.6522</td>\n",
       "      <td>5.48948942078778</td>\n",
       "      <td>0.30124157478828</td>\n",
       "      <td>280.45593203485</td>\n",
       "      <td>-4.90124157478828</td>\n",
       "      <td>1.13561905617574</td>\n",
       "      <td>-3.76562251861254</td>\n",
       "      <td>C1=CC=C(C1)C1=Cc2c([SiH2]1)c1c(c3[SiH2]C=Cc3c3...</td>\n",
       "    </tr>\n",
       "    <tr>\n",
       "      <th>22</th>\n",
       "      <td>2096063</td>\n",
       "      <td>C1C=CC=C1c1cc2[se]c3c(c2c2cscc12)c1ccccc1c1ccc...</td>\n",
       "      <td>C27H14N2S2Se</td>\n",
       "      <td>509.5136</td>\n",
       "      <td>6.20409348575883</td>\n",
       "      <td>0.570054683857091</td>\n",
       "      <td>167.49791375135</td>\n",
       "      <td>-5.17005468385709</td>\n",
       "      <td>1.59307772190982</td>\n",
       "      <td>-3.57697696194727</td>\n",
       "      <td>C1=CC=C(C1)c1cc2[se]c3c(c2c2cscc12)c1ccccc1c1c...</td>\n",
       "    </tr>\n",
       "    <tr>\n",
       "      <th>23</th>\n",
       "      <td>2752585</td>\n",
       "      <td>C1C=CC=C1C1=Cc2c(C1)c1c(c3c[nH]cc23)c2c3c[nH]c...</td>\n",
       "      <td>C28H20N2Si</td>\n",
       "      <td>412.566</td>\n",
       "      <td>0</td>\n",
       "      <td>0</td>\n",
       "      <td>198.7499142499</td>\n",
       "      <td>-4.49944701123171</td>\n",
       "      <td>1.45720787683099</td>\n",
       "      <td>-3.04223913440072</td>\n",
       "      <td>C1=CC=C(C1)C1=Cc2c(C1)c1c(c3c[nH]cc23)c2c3c[nH...</td>\n",
       "    </tr>\n",
       "    <tr>\n",
       "      <th>24</th>\n",
       "      <td>1572945</td>\n",
       "      <td>C1C=CC=C1C1=Cc2[se]c3c4sccc4c4ccccc4c3c2C1</td>\n",
       "      <td>C22H14SSe</td>\n",
       "      <td>389.3786</td>\n",
       "      <td>2.16725162664095</td>\n",
       "      <td>0.33062319718781</td>\n",
       "      <td>100.8843043156</td>\n",
       "      <td>-4.93062319718781</td>\n",
       "      <td>1.96125330337018</td>\n",
       "      <td>-2.96936989381763</td>\n",
       "      <td>C1=CC=C(C1)C1=Cc2[se]c3c4sccc4c4ccccc4c3c2C1</td>\n",
       "    </tr>\n",
       "    <tr>\n",
       "      <th>25</th>\n",
       "      <td>2359381</td>\n",
       "      <td>C1C=CC=C1C1=Cc2c(C1)c1c3cscc3c3ccc4nsnc4c3c1c1...</td>\n",
       "      <td>C26H14N2OS2</td>\n",
       "      <td>434.5416</td>\n",
       "      <td>4.11298236915351</td>\n",
       "      <td>0.29954882002972</td>\n",
       "      <td>211.3181606601</td>\n",
       "      <td>-4.89954882002972</td>\n",
       "      <td>1.40922933873152</td>\n",
       "      <td>-3.4903194812982</td>\n",
       "      <td>C1=CC=C(C1)C1=Cc2c(C1)c1c3cscc3c3ccc4nsnc4c3c1...</td>\n",
       "    </tr>\n",
       "    <tr>\n",
       "      <th>26</th>\n",
       "      <td>1540183</td>\n",
       "      <td>C1C=CC=C1c1cc2[se]c3c([se]c4ccc5cscc5c34)c2cn1</td>\n",
       "      <td>C20H11NSSe2</td>\n",
       "      <td>455.2999</td>\n",
       "      <td>3.21256529851421</td>\n",
       "      <td>0.68356751158616</td>\n",
       "      <td>72.32994545335</td>\n",
       "      <td>-5.28356751158616</td>\n",
       "      <td>2.17471153849587</td>\n",
       "      <td>-3.10885597309029</td>\n",
       "      <td>C1=CC=C(C1)c1cc2[se]c3c([se]c4ccc5cscc5c34)c2cn1</td>\n",
       "    </tr>\n",
       "    <tr>\n",
       "      <th>27</th>\n",
       "      <td>1638500</td>\n",
       "      <td>C1C=CC=C1c1cc2[se]c3ccc4ccccc4c3c2c2cocc12</td>\n",
       "      <td>C23H14OSe</td>\n",
       "      <td>385.3226</td>\n",
       "      <td>3.08884387902497</td>\n",
       "      <td>0.48226213429058</td>\n",
       "      <td>98.57354638625</td>\n",
       "      <td>-5.08226213429058</td>\n",
       "      <td>1.97723538425119</td>\n",
       "      <td>-3.10502675003939</td>\n",
       "      <td>C1=CC=C(C1)c1cc2[se]c3ccc4ccccc4c3c2c2cocc12</td>\n",
       "    </tr>\n",
       "    <tr>\n",
       "      <th>28</th>\n",
       "      <td>2621542</td>\n",
       "      <td>C1C=c2c3ccccc3c3c4ccccc4c4C=C(Cc4c3c2=C1)C1=CC...</td>\n",
       "      <td>C29H20</td>\n",
       "      <td>368.477</td>\n",
       "      <td>2.55288566054067</td>\n",
       "      <td>0.34111463011233</td>\n",
       "      <td>115.18040593475</td>\n",
       "      <td>-4.94111463011233</td>\n",
       "      <td>1.87275914683688</td>\n",
       "      <td>-3.06835548327545</td>\n",
       "      <td>C1=CC=C(C1)C1=Cc2c(C1)c1c(c3ccccc23)c2ccccc2c2...</td>\n",
       "    </tr>\n",
       "    <tr>\n",
       "      <th>29</th>\n",
       "      <td>98411</td>\n",
       "      <td>C1C=CC=C1c1cc2[se]c3cc4cccnc4cc3c2c2cscc12</td>\n",
       "      <td>C22H13NSSe</td>\n",
       "      <td>402.3777</td>\n",
       "      <td>4.24735634211112</td>\n",
       "      <td>0.65395973081254</td>\n",
       "      <td>99.9574755777</td>\n",
       "      <td>-5.25395973081254</td>\n",
       "      <td>1.96724506127822</td>\n",
       "      <td>-3.28671466953432</td>\n",
       "      <td>C1=CC=C(C1)c1cc2[se]c3cc4cccnc4cc3c2c2cscc12</td>\n",
       "    </tr>\n",
       "    <tr>\n",
       "      <th>...</th>\n",
       "      <td>...</td>\n",
       "      <td>...</td>\n",
       "      <td>...</td>\n",
       "      <td>...</td>\n",
       "      <td>...</td>\n",
       "      <td>...</td>\n",
       "      <td>...</td>\n",
       "      <td>...</td>\n",
       "      <td>...</td>\n",
       "      <td>...</td>\n",
       "      <td>...</td>\n",
       "    </tr>\n",
       "    <tr>\n",
       "      <th>2322820</th>\n",
       "      <td>2705444</td>\n",
       "      <td>[SiH2]1ccc2csc(c12)-c1sc(c2[SiH2]ccc12)-c1ccc(...</td>\n",
       "      <td>C25H17NS3Si2</td>\n",
       "      <td>483.786</td>\n",
       "      <td>2.97681</td>\n",
       "      <td>0.892533</td>\n",
       "      <td>51.3304</td>\n",
       "      <td>-5.49253</td>\n",
       "      <td>2.37349</td>\n",
       "      <td>-3.11904</td>\n",
       "      <td>c1sc(c2[SiH2]ccc12)-c1sc(c2[SiH2]ccc12)-c1ccc(...</td>\n",
       "    </tr>\n",
       "    <tr>\n",
       "      <th>2322821</th>\n",
       "      <td>2925216</td>\n",
       "      <td>[SiH2]1ccc2csc(c12)-c1sc(-c2sc(-c3scc4occc34)c...</td>\n",
       "      <td>C24H12O2S5Si</td>\n",
       "      <td>520.773</td>\n",
       "      <td>3.68731</td>\n",
       "      <td>0.323482</td>\n",
       "      <td>175.432</td>\n",
       "      <td>-4.92348</td>\n",
       "      <td>1.55837</td>\n",
       "      <td>-3.36511</td>\n",
       "      <td>c1sc(c2[SiH2]ccc12)-c1sc(-c2sc(-c3scc4occc34)c...</td>\n",
       "    </tr>\n",
       "    <tr>\n",
       "      <th>2322822</th>\n",
       "      <td>2742210</td>\n",
       "      <td>[SiH2]1ccc2csc(c12)-c1sc(-c2sc(-c3scc4ccoc34)c...</td>\n",
       "      <td>C24H12O2S5Si</td>\n",
       "      <td>520.773</td>\n",
       "      <td>3.03641</td>\n",
       "      <td>0.280599</td>\n",
       "      <td>166.541</td>\n",
       "      <td>-4.8806</td>\n",
       "      <td>1.59642</td>\n",
       "      <td>-3.28418</td>\n",
       "      <td>c1sc(c2[SiH2]ccc12)-c1sc(-c2sc(-c3scc4ccoc34)c...</td>\n",
       "    </tr>\n",
       "    <tr>\n",
       "      <th>2322823</th>\n",
       "      <td>3092419</td>\n",
       "      <td>[SiH2]1ccc2csc(c12)-c1sc(c2[SiH2]ccc12)-c1ccc(...</td>\n",
       "      <td>C23H15N3S3Si2</td>\n",
       "      <td>485.762</td>\n",
       "      <td>5.76643</td>\n",
       "      <td>1.00011</td>\n",
       "      <td>88.7372</td>\n",
       "      <td>-5.60011</td>\n",
       "      <td>2.04536</td>\n",
       "      <td>-3.55475</td>\n",
       "      <td>c1sc(c2[SiH2]ccc12)-c1sc(c2[SiH2]ccc12)-c1ccc(...</td>\n",
       "    </tr>\n",
       "    <tr>\n",
       "      <th>2322824</th>\n",
       "      <td>1253317</td>\n",
       "      <td>[SiH2]1ccc2csc(c12)-c1sc(c2[SiH2]ccc12)-c1ccc(...</td>\n",
       "      <td>C23H17NS2Si2</td>\n",
       "      <td>427.698</td>\n",
       "      <td>2.56918</td>\n",
       "      <td>1.02184</td>\n",
       "      <td>38.6953</td>\n",
       "      <td>-5.62184</td>\n",
       "      <td>2.52339</td>\n",
       "      <td>-3.09845</td>\n",
       "      <td>c1sc(c2[SiH2]ccc12)-c1sc(c2[SiH2]ccc12)-c1ccc(...</td>\n",
       "    </tr>\n",
       "    <tr>\n",
       "      <th>2322825</th>\n",
       "      <td>1841096</td>\n",
       "      <td>[SiH2]1ccc2csc(c12)-c1sc(c2[SiH2]ccc12)-c1ccc(...</td>\n",
       "      <td>C25H17NOS2Si2</td>\n",
       "      <td>467.719</td>\n",
       "      <td>3.65147</td>\n",
       "      <td>0.838712</td>\n",
       "      <td>67.0043</td>\n",
       "      <td>-5.43871</td>\n",
       "      <td>2.22052</td>\n",
       "      <td>-3.21819</td>\n",
       "      <td>c1sc(c2[SiH2]ccc12)-c1sc(c2[SiH2]ccc12)-c1ccc(...</td>\n",
       "    </tr>\n",
       "    <tr>\n",
       "      <th>2322826</th>\n",
       "      <td>2770889</td>\n",
       "      <td>C1ccc2c1c(sc2-c1scc2cc[SiH2]c12)-c1ccc(-c2cccc...</td>\n",
       "      <td>C26H17NS3Si</td>\n",
       "      <td>467.711</td>\n",
       "      <td>3.2944</td>\n",
       "      <td>0.667854</td>\n",
       "      <td>75.9176</td>\n",
       "      <td>-5.26785</td>\n",
       "      <td>2.14341</td>\n",
       "      <td>-3.12444</td>\n",
       "      <td>c1sc(c2[SiH2]ccc12)-c1sc(c2Cccc12)-c1ccc(-c2cc...</td>\n",
       "    </tr>\n",
       "    <tr>\n",
       "      <th>2322827</th>\n",
       "      <td>1816522</td>\n",
       "      <td>C1ccc2c1c(sc2-c1scc2cc[SiH2]c12)-c1sc(-c2ccccc...</td>\n",
       "      <td>C25H16S4Si</td>\n",
       "      <td>472.751</td>\n",
       "      <td>3.29743</td>\n",
       "      <td>0.473489</td>\n",
       "      <td>107.18</td>\n",
       "      <td>-5.07349</td>\n",
       "      <td>1.92114</td>\n",
       "      <td>-3.15235</td>\n",
       "      <td>c1sc(c2[SiH2]ccc12)-c1sc(c2Cccc12)-c1sc(-c2ccc...</td>\n",
       "    </tr>\n",
       "    <tr>\n",
       "      <th>2322828</th>\n",
       "      <td>1810382</td>\n",
       "      <td>[SiH2]1ccc2csc(c12)-c1sc(c2[SiH2]ccc12)-c1ccc(...</td>\n",
       "      <td>C25H17NOS2Si2</td>\n",
       "      <td>467.719</td>\n",
       "      <td>3.58162</td>\n",
       "      <td>0.762095</td>\n",
       "      <td>72.3299</td>\n",
       "      <td>-5.3621</td>\n",
       "      <td>2.17184</td>\n",
       "      <td>-3.19025</td>\n",
       "      <td>c1sc(c2[SiH2]ccc12)-c1sc(c2[SiH2]ccc12)-c1ccc(...</td>\n",
       "    </tr>\n",
       "    <tr>\n",
       "      <th>2322829</th>\n",
       "      <td>1648591</td>\n",
       "      <td>[SiH2]1ccc2csc(c12)-c1sc(-c2sc(-c3scc4ccoc34)c...</td>\n",
       "      <td>C24H12O3S4Si</td>\n",
       "      <td>504.706</td>\n",
       "      <td>2.78056</td>\n",
       "      <td>0.264955</td>\n",
       "      <td>161.513</td>\n",
       "      <td>-4.86495</td>\n",
       "      <td>1.61888</td>\n",
       "      <td>-3.24608</td>\n",
       "      <td>c1sc(c2[SiH2]ccc12)-c1sc(-c2sc(-c3scc4ccoc34)c...</td>\n",
       "    </tr>\n",
       "    <tr>\n",
       "      <th>2322830</th>\n",
       "      <td>2705360</td>\n",
       "      <td>[SiH2]1ccc2csc(c12)-c1sc(-c2sc(-c3scc4ccoc34)c...</td>\n",
       "      <td>C24H13NO2S4Si</td>\n",
       "      <td>503.722</td>\n",
       "      <td>1.0633</td>\n",
       "      <td>0.0871941</td>\n",
       "      <td>187.68</td>\n",
       "      <td>-4.68719</td>\n",
       "      <td>1.50298</td>\n",
       "      <td>-3.18421</td>\n",
       "      <td>c1sc(c2[SiH2]ccc12)-c1sc(-c2sc(-c3scc4ccoc34)c...</td>\n",
       "    </tr>\n",
       "    <tr>\n",
       "      <th>2322831</th>\n",
       "      <td>2349009</td>\n",
       "      <td>C1ccc2csc(c12)-c1ccc(cn1)-c1sc(-c2scc3cc[SiH2]...</td>\n",
       "      <td>C24H17NS3Si2</td>\n",
       "      <td>471.775</td>\n",
       "      <td>2.8029</td>\n",
       "      <td>0.911719</td>\n",
       "      <td>47.3144</td>\n",
       "      <td>-5.51172</td>\n",
       "      <td>2.42118</td>\n",
       "      <td>-3.09054</td>\n",
       "      <td>c1sc(c2[SiH2]ccc12)-c1sc(c2[SiH2]ccc12)-c1ccc(...</td>\n",
       "    </tr>\n",
       "    <tr>\n",
       "      <th>2322832</th>\n",
       "      <td>3091107</td>\n",
       "      <td>[SiH2]1ccc2csc(c12)-c1sc(-c2sc(-c3scc4ccsc34)c...</td>\n",
       "      <td>C24H14OS5Si2</td>\n",
       "      <td>534.876</td>\n",
       "      <td>3.77035</td>\n",
       "      <td>0.412894</td>\n",
       "      <td>140.537</td>\n",
       "      <td>-5.01289</td>\n",
       "      <td>1.73206</td>\n",
       "      <td>-3.28083</td>\n",
       "      <td>c1sc(c2[SiH2]ccc12)-c1sc(-c2sc(-c3scc4ccsc34)c...</td>\n",
       "    </tr>\n",
       "    <tr>\n",
       "      <th>2322833</th>\n",
       "      <td>8152</td>\n",
       "      <td>[SiH2]1ccc2csc(c12)-c1sc(-c2scc3cc[se]c23)c2[s...</td>\n",
       "      <td>C18H10S3Se2Si</td>\n",
       "      <td>508.481</td>\n",
       "      <td>2.88742</td>\n",
       "      <td>0.549016</td>\n",
       "      <td>80.9417</td>\n",
       "      <td>-5.14902</td>\n",
       "      <td>2.10191</td>\n",
       "      <td>-3.0471</td>\n",
       "      <td>c1sc(c2[SiH2]ccc12)-c1sc(-c2scc3cc[se]c23)c2[s...</td>\n",
       "    </tr>\n",
       "    <tr>\n",
       "      <th>2322834</th>\n",
       "      <td>1781722</td>\n",
       "      <td>[SiH2]1ccc2csc(c12)-c1sc(c2[SiH2]ccc12)-c1ccc(...</td>\n",
       "      <td>C23H16N2S3Si2</td>\n",
       "      <td>472.763</td>\n",
       "      <td>2.81402</td>\n",
       "      <td>0.556938</td>\n",
       "      <td>77.7621</td>\n",
       "      <td>-5.15694</td>\n",
       "      <td>2.1271</td>\n",
       "      <td>-3.02984</td>\n",
       "      <td>c1sc(c2[SiH2]ccc12)-c1sc(c2[SiH2]ccc12)-c1ccc(...</td>\n",
       "    </tr>\n",
       "    <tr>\n",
       "      <th>2322835</th>\n",
       "      <td>2470223</td>\n",
       "      <td>[SiH2]1ccc2csc(c12)-c1sc(-c2sc(-c3scc4sccc34)c...</td>\n",
       "      <td>C24H13NS6Si</td>\n",
       "      <td>535.856</td>\n",
       "      <td>2.44574</td>\n",
       "      <td>0.20756</td>\n",
       "      <td>181.349</td>\n",
       "      <td>-4.80756</td>\n",
       "      <td>1.5331</td>\n",
       "      <td>-3.27446</td>\n",
       "      <td>c1sc(c2[SiH2]ccc12)-c1sc(-c2sc(-c3scc4sccc34)c...</td>\n",
       "    </tr>\n",
       "    <tr>\n",
       "      <th>2322836</th>\n",
       "      <td>2469856</td>\n",
       "      <td>C1ccc2c1c(sc2-c1sc(-c2scc3cc[SiH2]c23)c2ccoc12...</td>\n",
       "      <td>C25H15NOS4Si</td>\n",
       "      <td>501.75</td>\n",
       "      <td>2.14342</td>\n",
       "      <td>0.22746</td>\n",
       "      <td>145.027</td>\n",
       "      <td>-4.82746</td>\n",
       "      <td>1.70726</td>\n",
       "      <td>-3.1202</td>\n",
       "      <td>c1sc(c2[SiH2]ccc12)-c1sc(-c2sc(c3Cccc23)-c2scc...</td>\n",
       "    </tr>\n",
       "    <tr>\n",
       "      <th>2322837</th>\n",
       "      <td>1912803</td>\n",
       "      <td>[SiH2]1ccc2csc(c12)-c1sc(-c2sc(-c3scc4ccoc34)c...</td>\n",
       "      <td>C24H12O3S4Si</td>\n",
       "      <td>504.706</td>\n",
       "      <td>2.6569</td>\n",
       "      <td>0.274521</td>\n",
       "      <td>148.952</td>\n",
       "      <td>-4.87452</td>\n",
       "      <td>1.68676</td>\n",
       "      <td>-3.18776</td>\n",
       "      <td>c1sc(c2[SiH2]ccc12)-c1sc(-c2sc(-c3scc4ccoc34)c...</td>\n",
       "    </tr>\n",
       "    <tr>\n",
       "      <th>2322838</th>\n",
       "      <td>1216485</td>\n",
       "      <td>[SiH2]1ccc2csc(c12)-c1sc(c2[SiH2]ccc12)-c1cccc...</td>\n",
       "      <td>C18H12N2S3Si2</td>\n",
       "      <td>408.677</td>\n",
       "      <td>7.59421</td>\n",
       "      <td>0.993521</td>\n",
       "      <td>117.64</td>\n",
       "      <td>-5.59352</td>\n",
       "      <td>1.85748</td>\n",
       "      <td>-3.73604</td>\n",
       "      <td>c1sc(c2[SiH2]ccc12)-c1sc(c2[SiH2]ccc12)-c1cccc...</td>\n",
       "    </tr>\n",
       "    <tr>\n",
       "      <th>2322839</th>\n",
       "      <td>2619366</td>\n",
       "      <td>C1cc2c(ccc(-c3ccccc3)c2c1)-c1sc(-c2scc3cc[SiH2...</td>\n",
       "      <td>C28H20S2Si</td>\n",
       "      <td>448.684</td>\n",
       "      <td>3.74322</td>\n",
       "      <td>0.466049</td>\n",
       "      <td>123.612</td>\n",
       "      <td>-5.06605</td>\n",
       "      <td>1.824</td>\n",
       "      <td>-3.24204</td>\n",
       "      <td>c1sc(c2[SiH2]ccc12)-c1sc(c2Cccc12)-c1ccc(-c2cc...</td>\n",
       "    </tr>\n",
       "    <tr>\n",
       "      <th>2322840</th>\n",
       "      <td>1703911</td>\n",
       "      <td>C1cc2c(ccc(-c3cccnc3)c2c1)-c1sc(-c2scc3cc[SiH2...</td>\n",
       "      <td>C26H19NS2Si2</td>\n",
       "      <td>465.747</td>\n",
       "      <td>4.88105</td>\n",
       "      <td>0.657693</td>\n",
       "      <td>114.219</td>\n",
       "      <td>-5.25769</td>\n",
       "      <td>1.87628</td>\n",
       "      <td>-3.38141</td>\n",
       "      <td>c1sc(c2[SiH2]ccc12)-c1sc(c2[SiH2]ccc12)-c1ccc(...</td>\n",
       "    </tr>\n",
       "    <tr>\n",
       "      <th>2322841</th>\n",
       "      <td>1814506</td>\n",
       "      <td>[SiH2]1ccc2csc(c12)-c1sc(-c2sc(c3[SiH2]ccc23)-...</td>\n",
       "      <td>C23H16N2S3Si2</td>\n",
       "      <td>472.763</td>\n",
       "      <td>3.35318</td>\n",
       "      <td>0.461167</td>\n",
       "      <td>111.904</td>\n",
       "      <td>-5.06117</td>\n",
       "      <td>1.892</td>\n",
       "      <td>-3.16917</td>\n",
       "      <td>c1sc(c2[SiH2]ccc12)-c1sc(-c2sc(c3[SiH2]ccc23)-...</td>\n",
       "    </tr>\n",
       "    <tr>\n",
       "      <th>2322842</th>\n",
       "      <td>2559314</td>\n",
       "      <td>[SiH2]1ccc2csc(c12)-c1sc(-c2sc(c3[SiH2]ccc23)-...</td>\n",
       "      <td>C23H15NOS3Si2</td>\n",
       "      <td>473.748</td>\n",
       "      <td>4.26338</td>\n",
       "      <td>0.688326</td>\n",
       "      <td>95.3251</td>\n",
       "      <td>-5.28833</td>\n",
       "      <td>1.99871</td>\n",
       "      <td>-3.28961</td>\n",
       "      <td>c1sc(c2[SiH2]ccc12)-c1sc(-c2sc(c3[SiH2]ccc23)-...</td>\n",
       "    </tr>\n",
       "    <tr>\n",
       "      <th>2322843</th>\n",
       "      <td>2351086</td>\n",
       "      <td>[SiH2]1ccc2csc(c12)-c1sc(c2[SiH2]ccc12)-c1ccc(...</td>\n",
       "      <td>C24H16N2S3Si2</td>\n",
       "      <td>484.774</td>\n",
       "      <td>6.66266</td>\n",
       "      <td>0.85006</td>\n",
       "      <td>120.627</td>\n",
       "      <td>-5.45006</td>\n",
       "      <td>1.83969</td>\n",
       "      <td>-3.61037</td>\n",
       "      <td>c1sc(c2[SiH2]ccc12)-c1sc(c2[SiH2]ccc12)-c1ccc(...</td>\n",
       "    </tr>\n",
       "    <tr>\n",
       "      <th>2322844</th>\n",
       "      <td>1712111</td>\n",
       "      <td>[SiH2]1ccc2csc(c12)-c1sc(-c2sc(-c3scc4ccsc34)c...</td>\n",
       "      <td>C24H12OS6Si</td>\n",
       "      <td>536.84</td>\n",
       "      <td>2.95171</td>\n",
       "      <td>0.279912</td>\n",
       "      <td>162.293</td>\n",
       "      <td>-4.87991</td>\n",
       "      <td>1.61514</td>\n",
       "      <td>-3.26477</td>\n",
       "      <td>c1sc(c2[SiH2]ccc12)-c1sc(-c2sc(-c3scc4ccsc34)c...</td>\n",
       "    </tr>\n",
       "    <tr>\n",
       "      <th>2322845</th>\n",
       "      <td>2543603</td>\n",
       "      <td>[SiH2]1ccc2csc(c12)-c1sc(c2[SiH2]ccc12)-c1cnc(...</td>\n",
       "      <td>C22H14N4S3Si2</td>\n",
       "      <td>486.751</td>\n",
       "      <td>0</td>\n",
       "      <td>0</td>\n",
       "      <td>0</td>\n",
       "      <td>-5.63251</td>\n",
       "      <td>1.45408</td>\n",
       "      <td>-4.17843</td>\n",
       "      <td>c1sc(c2[SiH2]ccc12)-c1sc(c2[SiH2]ccc12)-c1cnc(...</td>\n",
       "    </tr>\n",
       "    <tr>\n",
       "      <th>2322846</th>\n",
       "      <td>2304057</td>\n",
       "      <td>[SiH2]1ccc2csc(c12)-c1sc(c2[SiH2]ccc12)-c1ccc(...</td>\n",
       "      <td>C22H14N4S3Si2</td>\n",
       "      <td>486.751</td>\n",
       "      <td>9.33549</td>\n",
       "      <td>1.12074</td>\n",
       "      <td>128.197</td>\n",
       "      <td>-5.72074</td>\n",
       "      <td>1.7986</td>\n",
       "      <td>-3.92214</td>\n",
       "      <td>c1sc(c2[SiH2]ccc12)-c1sc(c2[SiH2]ccc12)-c1ccc(...</td>\n",
       "    </tr>\n",
       "    <tr>\n",
       "      <th>2322847</th>\n",
       "      <td>2007035</td>\n",
       "      <td>[SiH2]1ccc2csc(c12)-c1sc(c2[SiH2]ccc12)-c1ccc(...</td>\n",
       "      <td>C26H18S3Si2</td>\n",
       "      <td>482.798</td>\n",
       "      <td>2.49821</td>\n",
       "      <td>0.834995</td>\n",
       "      <td>46.0461</td>\n",
       "      <td>-5.435</td>\n",
       "      <td>2.43316</td>\n",
       "      <td>-3.00184</td>\n",
       "      <td>c1sc(c2[SiH2]ccc12)-c1sc(c2[SiH2]ccc12)-c1ccc(...</td>\n",
       "    </tr>\n",
       "    <tr>\n",
       "      <th>2322848</th>\n",
       "      <td>1961981</td>\n",
       "      <td>C1ccc2c1c(sc2-c1scc2cc[SiH2]c12)-c1ccc(cc1)-c1...</td>\n",
       "      <td>C25H16S3SeSi</td>\n",
       "      <td>519.645</td>\n",
       "      <td>2.67907</td>\n",
       "      <td>0.659243</td>\n",
       "      <td>62.544</td>\n",
       "      <td>-5.25924</td>\n",
       "      <td>2.25847</td>\n",
       "      <td>-3.00077</td>\n",
       "      <td>c1sc(c2[SiH2]ccc12)-c1sc(c2Cccc12)-c1ccc(cc1)-...</td>\n",
       "    </tr>\n",
       "    <tr>\n",
       "      <th>2322849</th>\n",
       "      <td>2754558</td>\n",
       "      <td>[SiH2]1ccc2csc(c12)-c1sc(-c2sc(-c3scc4ccsc34)c...</td>\n",
       "      <td>C24H13NOS5Si</td>\n",
       "      <td>519.789</td>\n",
       "      <td>1.2724</td>\n",
       "      <td>0.102802</td>\n",
       "      <td>190.49</td>\n",
       "      <td>-4.7028</td>\n",
       "      <td>1.49095</td>\n",
       "      <td>-3.21185</td>\n",
       "      <td>c1sc(c2[SiH2]ccc12)-c1sc(-c2sc(-c3scc4ccsc34)c...</td>\n",
       "    </tr>\n",
       "  </tbody>\n",
       "</table>\n",
       "<p>2322850 rows × 11 columns</p>\n",
       "</div>"
      ],
      "text/plain": [
       "              0                                                  1   \\\n",
       "0             id                                         SMILES_str   \n",
       "1         655365          C1C=CC=C1c1cc2[se]c3c4occc4c4nsnc4c3c2cn1   \n",
       "2        1245190  C1C=CC=C1c1cc2[se]c3c(ncc4ccccc34)c2c2=C[SiH2]...   \n",
       "3          21847  C1C=c2ccc3c4c[nH]cc4c4c5[SiH2]C(=Cc5oc4c3c2=C1...   \n",
       "4          65553   [SiH2]1C=CC2=C1C=C([SiH2]2)C1=Cc2[se]ccc2[SiH2]1   \n",
       "5         720918       C1C=c2c3ccsc3c3[se]c4cc(oc4c3c2=C1)C1=CC=CC1   \n",
       "6        1310744  C1C=CC=C1c1cc2[se]c3c(c4nsnc4c4ccncc34)c2c2ccc...   \n",
       "7         196637             C1C=CC=C1c1cc2[se]c3cc4ccsc4cc3c2[se]1   \n",
       "8         262174        C1C=CC=C1c1cc2[se]c3c4occc4c4cscc4c3c2[se]1   \n",
       "9         393249        C1C=CC=C1c1cc2[se]c3cc4cccnc4cc3c2c2ccccc12   \n",
       "10            35           C1C2=C([SiH2]C=C2)C=C1c1cc2occc2c2cscc12   \n",
       "11       1048612            C1C=CC=C1C1=Cc2sc3cc4C=C[SiH2]c4cc3c2C1   \n",
       "12        917542  C1C=c2ccc3[se]c4c5[se]c(cc5[se]c4c3c2=C1)C1=CC...   \n",
       "13       1441831              C1C=CC=C1C1=Cc2ncc3c4[se]ccc4cnc3c2C1   \n",
       "14       1376296  C1C=CC=C1C1=Cc2c(C1)c1[se]c3ccc4cscc4c3c1c1=C[...   \n",
       "15       1638442  C1C=c2ccc3cnc4c5[SiH2]C(=Cc5c5nsnc5c4c3c2=C1)C...   \n",
       "16         98350      C1C=CC=C1C1=Cc2ccc3c4CC=Cc4c4cscc4c3c2[SiH2]1   \n",
       "17       2162747  C1C=CC=C1C1=Cc2c([SiH2]1)c1c3c[nH]cc3c3ccc4=C[...   \n",
       "18        557119              C1C=c2c3C=C(Cc3c3occc3c2=C1)C1=CC=CC1   \n",
       "19        753728  C1C=CC=C1C1=Cc2c([SiH2]1)c1cc3ncccc3cc1c1c[nH]...   \n",
       "20        819265  C1C=CC=C1C1=Cc2c([SiH2]1)c1c(c3cscc23)c2[se]cc...   \n",
       "21       1278019  C1C=CC=C1C1=Cc2c([SiH2]1)c1c(c3[SiH2]C=Cc3c3=C...   \n",
       "22       2096063  C1C=CC=C1c1cc2[se]c3c(c2c2cscc12)c1ccccc1c1ccc...   \n",
       "23       2752585  C1C=CC=C1C1=Cc2c(C1)c1c(c3c[nH]cc23)c2c3c[nH]c...   \n",
       "24       1572945         C1C=CC=C1C1=Cc2[se]c3c4sccc4c4ccccc4c3c2C1   \n",
       "25       2359381  C1C=CC=C1C1=Cc2c(C1)c1c3cscc3c3ccc4nsnc4c3c1c1...   \n",
       "26       1540183     C1C=CC=C1c1cc2[se]c3c([se]c4ccc5cscc5c34)c2cn1   \n",
       "27       1638500         C1C=CC=C1c1cc2[se]c3ccc4ccccc4c3c2c2cocc12   \n",
       "28       2621542  C1C=c2c3ccccc3c3c4ccccc4c4C=C(Cc4c3c2=C1)C1=CC...   \n",
       "29         98411         C1C=CC=C1c1cc2[se]c3cc4cccnc4cc3c2c2cscc12   \n",
       "...          ...                                                ...   \n",
       "2322820  2705444  [SiH2]1ccc2csc(c12)-c1sc(c2[SiH2]ccc12)-c1ccc(...   \n",
       "2322821  2925216  [SiH2]1ccc2csc(c12)-c1sc(-c2sc(-c3scc4occc34)c...   \n",
       "2322822  2742210  [SiH2]1ccc2csc(c12)-c1sc(-c2sc(-c3scc4ccoc34)c...   \n",
       "2322823  3092419  [SiH2]1ccc2csc(c12)-c1sc(c2[SiH2]ccc12)-c1ccc(...   \n",
       "2322824  1253317  [SiH2]1ccc2csc(c12)-c1sc(c2[SiH2]ccc12)-c1ccc(...   \n",
       "2322825  1841096  [SiH2]1ccc2csc(c12)-c1sc(c2[SiH2]ccc12)-c1ccc(...   \n",
       "2322826  2770889  C1ccc2c1c(sc2-c1scc2cc[SiH2]c12)-c1ccc(-c2cccc...   \n",
       "2322827  1816522  C1ccc2c1c(sc2-c1scc2cc[SiH2]c12)-c1sc(-c2ccccc...   \n",
       "2322828  1810382  [SiH2]1ccc2csc(c12)-c1sc(c2[SiH2]ccc12)-c1ccc(...   \n",
       "2322829  1648591  [SiH2]1ccc2csc(c12)-c1sc(-c2sc(-c3scc4ccoc34)c...   \n",
       "2322830  2705360  [SiH2]1ccc2csc(c12)-c1sc(-c2sc(-c3scc4ccoc34)c...   \n",
       "2322831  2349009  C1ccc2csc(c12)-c1ccc(cn1)-c1sc(-c2scc3cc[SiH2]...   \n",
       "2322832  3091107  [SiH2]1ccc2csc(c12)-c1sc(-c2sc(-c3scc4ccsc34)c...   \n",
       "2322833     8152  [SiH2]1ccc2csc(c12)-c1sc(-c2scc3cc[se]c23)c2[s...   \n",
       "2322834  1781722  [SiH2]1ccc2csc(c12)-c1sc(c2[SiH2]ccc12)-c1ccc(...   \n",
       "2322835  2470223  [SiH2]1ccc2csc(c12)-c1sc(-c2sc(-c3scc4sccc34)c...   \n",
       "2322836  2469856  C1ccc2c1c(sc2-c1sc(-c2scc3cc[SiH2]c23)c2ccoc12...   \n",
       "2322837  1912803  [SiH2]1ccc2csc(c12)-c1sc(-c2sc(-c3scc4ccoc34)c...   \n",
       "2322838  1216485  [SiH2]1ccc2csc(c12)-c1sc(c2[SiH2]ccc12)-c1cccc...   \n",
       "2322839  2619366  C1cc2c(ccc(-c3ccccc3)c2c1)-c1sc(-c2scc3cc[SiH2...   \n",
       "2322840  1703911  C1cc2c(ccc(-c3cccnc3)c2c1)-c1sc(-c2scc3cc[SiH2...   \n",
       "2322841  1814506  [SiH2]1ccc2csc(c12)-c1sc(-c2sc(c3[SiH2]ccc23)-...   \n",
       "2322842  2559314  [SiH2]1ccc2csc(c12)-c1sc(-c2sc(c3[SiH2]ccc23)-...   \n",
       "2322843  2351086  [SiH2]1ccc2csc(c12)-c1sc(c2[SiH2]ccc12)-c1ccc(...   \n",
       "2322844  1712111  [SiH2]1ccc2csc(c12)-c1sc(-c2sc(-c3scc4ccsc34)c...   \n",
       "2322845  2543603  [SiH2]1ccc2csc(c12)-c1sc(c2[SiH2]ccc12)-c1cnc(...   \n",
       "2322846  2304057  [SiH2]1ccc2csc(c12)-c1sc(c2[SiH2]ccc12)-c1ccc(...   \n",
       "2322847  2007035  [SiH2]1ccc2csc(c12)-c1sc(c2[SiH2]ccc12)-c1ccc(...   \n",
       "2322848  1961981  C1ccc2c1c(sc2-c1scc2cc[SiH2]c12)-c1ccc(cc1)-c1...   \n",
       "2322849  2754558  [SiH2]1ccc2csc(c12)-c1sc(-c2sc(-c3scc4ccsc34)c...   \n",
       "\n",
       "                    2         3                  4                   5   \\\n",
       "0           stoich_str      mass                pce                 voc   \n",
       "1          C18H9N3OSSe  394.3151   5.16195320211971    0.86760078740294   \n",
       "2          C22H15NSeSi  400.4135    5.2613977233692    0.50482419467609   \n",
       "3           C24H17NOSi  363.4903                  0                   0   \n",
       "4          C12H12SeSi3  319.4448   6.13829369542661    0.63027445338351   \n",
       "5           C20H12OSSe  379.3398   1.99136566470237   0.242119009470801   \n",
       "6          C24H13N3SSe  454.4137   5.60513478857347    0.95191087183926   \n",
       "7           C17H10SSe2   404.252   2.64443641930939   0.587932414406801   \n",
       "8          C19H10OSSe2   444.273   2.52305655873057    0.39767026257405   \n",
       "9            C24H15NSe  396.3495    3.1158951050846    0.86913959183236   \n",
       "10          C17H12OSSi  292.4328   2.74321377891055    0.38710624740493   \n",
       "11           C18H14SSi  290.4606   2.40841131373757    0.43131491941631   \n",
       "12           C20H12Se3  489.1948   2.84327790532769     0.3025906196108   \n",
       "13          C18H12N2Se  335.2668   2.68724019638341    0.67549682028117   \n",
       "14         C24H16SSeSi  443.5024    2.8446368983132    0.18920592502927   \n",
       "15         C23H15N3SSi  393.5445   6.46251246238048    0.60240460581576   \n",
       "16           C22H16SSi  340.5204   2.63146328874209   0.410851163619401   \n",
       "17         C27H19NOSi2  429.6251   2.03915811352424    0.14074406290405   \n",
       "18             C19H14O  258.3186  0.237204563447386  0.0249623237532005   \n",
       "19          C22H16N2Si  336.4684   3.10383123118601   0.409504148061471   \n",
       "20        C23H16SSeSi2  459.5774   5.38525291629117   0.368606419249421   \n",
       "21          C23H18OSi3  394.6522   5.48948942078778    0.30124157478828   \n",
       "22        C27H14N2S2Se  509.5136   6.20409348575883   0.570054683857091   \n",
       "23          C28H20N2Si   412.566                  0                   0   \n",
       "24           C22H14SSe  389.3786   2.16725162664095    0.33062319718781   \n",
       "25         C26H14N2OS2  434.5416   4.11298236915351    0.29954882002972   \n",
       "26         C20H11NSSe2  455.2999   3.21256529851421    0.68356751158616   \n",
       "27           C23H14OSe  385.3226   3.08884387902497    0.48226213429058   \n",
       "28              C29H20   368.477   2.55288566054067    0.34111463011233   \n",
       "29          C22H13NSSe  402.3777   4.24735634211112    0.65395973081254   \n",
       "...                ...       ...                ...                 ...   \n",
       "2322820   C25H17NS3Si2   483.786            2.97681            0.892533   \n",
       "2322821   C24H12O2S5Si   520.773            3.68731            0.323482   \n",
       "2322822   C24H12O2S5Si   520.773            3.03641            0.280599   \n",
       "2322823  C23H15N3S3Si2   485.762            5.76643             1.00011   \n",
       "2322824   C23H17NS2Si2   427.698            2.56918             1.02184   \n",
       "2322825  C25H17NOS2Si2   467.719            3.65147            0.838712   \n",
       "2322826    C26H17NS3Si   467.711             3.2944            0.667854   \n",
       "2322827     C25H16S4Si   472.751            3.29743            0.473489   \n",
       "2322828  C25H17NOS2Si2   467.719            3.58162            0.762095   \n",
       "2322829   C24H12O3S4Si   504.706            2.78056            0.264955   \n",
       "2322830  C24H13NO2S4Si   503.722             1.0633           0.0871941   \n",
       "2322831   C24H17NS3Si2   471.775             2.8029            0.911719   \n",
       "2322832   C24H14OS5Si2   534.876            3.77035            0.412894   \n",
       "2322833  C18H10S3Se2Si   508.481            2.88742            0.549016   \n",
       "2322834  C23H16N2S3Si2   472.763            2.81402            0.556938   \n",
       "2322835    C24H13NS6Si   535.856            2.44574             0.20756   \n",
       "2322836   C25H15NOS4Si    501.75            2.14342             0.22746   \n",
       "2322837   C24H12O3S4Si   504.706             2.6569            0.274521   \n",
       "2322838  C18H12N2S3Si2   408.677            7.59421            0.993521   \n",
       "2322839     C28H20S2Si   448.684            3.74322            0.466049   \n",
       "2322840   C26H19NS2Si2   465.747            4.88105            0.657693   \n",
       "2322841  C23H16N2S3Si2   472.763            3.35318            0.461167   \n",
       "2322842  C23H15NOS3Si2   473.748            4.26338            0.688326   \n",
       "2322843  C24H16N2S3Si2   484.774            6.66266             0.85006   \n",
       "2322844    C24H12OS6Si    536.84            2.95171            0.279912   \n",
       "2322845  C22H14N4S3Si2   486.751                  0                   0   \n",
       "2322846  C22H14N4S3Si2   486.751            9.33549             1.12074   \n",
       "2322847    C26H18S3Si2   482.798            2.49821            0.834995   \n",
       "2322848   C25H16S3SeSi   519.645            2.67907            0.659243   \n",
       "2322849   C24H13NOS5Si   519.789             1.2724            0.102802   \n",
       "\n",
       "                      6                  7                 8   \\\n",
       "0                    jsc       e_homo_alpha       e_gap_alpha   \n",
       "1          91.5675749599  -5.46760078740294  2.02294443593306   \n",
       "2        160.40154923845  -5.10482419467609  1.63075003826037   \n",
       "3        197.47477990435  -4.53952567287262  1.46215815756611   \n",
       "4        149.88754514825  -5.23027445338351   1.6822495770534   \n",
       "5        126.58134716045   -4.8421190094708  1.80943882203271   \n",
       "6         90.62277586765  -5.55191087183926  2.02971670891245   \n",
       "7          69.2234614721   -5.1879324144068  2.20110577558483   \n",
       "8         97.64532544975  -4.99767026257405  1.98212181531837   \n",
       "9        55.174814587685  -5.46913959183236  2.33181477476568   \n",
       "10       109.06290475405  -4.98710624740493  1.90996574187542   \n",
       "11         85.9377076701  -5.03131491941631  2.06584966433715   \n",
       "12        144.6143656087   -4.9025906196108  1.70819762918304   \n",
       "13       61.225277938305  -5.27549682028117  2.27095328753055   \n",
       "14       231.38739350415  -4.78920592502927  1.31233370868624   \n",
       "15        165.1051792767  -5.20240460581576  1.60316496595707   \n",
       "16        98.57354638625   -5.0108511636194  1.97570703051256   \n",
       "17         222.981280483  -4.74074406290405  1.36113723091331   \n",
       "18       146.24654523115   -4.6249623237532  1.70041519990913   \n",
       "19       116.65070843205  -5.00950414806147   1.8634156621733   \n",
       "20        224.8489157226  -4.96860641924942  1.35230882836041   \n",
       "21       280.45593203485  -4.90124157478828  1.13561905617574   \n",
       "22       167.49791375135  -5.17005468385709  1.59307772190982   \n",
       "23        198.7499142499  -4.49944701123171  1.45720787683099   \n",
       "24        100.8843043156  -4.93062319718781  1.96125330337018   \n",
       "25        211.3181606601  -4.89954882002972  1.40922933873152   \n",
       "26        72.32994545335  -5.28356751158616  2.17471153849587   \n",
       "27        98.57354638625  -5.08226213429058  1.97723538425119   \n",
       "28       115.18040593475  -4.94111463011233  1.87275914683688   \n",
       "29         99.9574755777  -5.25395973081254  1.96724506127822   \n",
       "...                  ...                ...               ...   \n",
       "2322820          51.3304           -5.49253           2.37349   \n",
       "2322821          175.432           -4.92348           1.55837   \n",
       "2322822          166.541            -4.8806           1.59642   \n",
       "2322823          88.7372           -5.60011           2.04536   \n",
       "2322824          38.6953           -5.62184           2.52339   \n",
       "2322825          67.0043           -5.43871           2.22052   \n",
       "2322826          75.9176           -5.26785           2.14341   \n",
       "2322827           107.18           -5.07349           1.92114   \n",
       "2322828          72.3299            -5.3621           2.17184   \n",
       "2322829          161.513           -4.86495           1.61888   \n",
       "2322830           187.68           -4.68719           1.50298   \n",
       "2322831          47.3144           -5.51172           2.42118   \n",
       "2322832          140.537           -5.01289           1.73206   \n",
       "2322833          80.9417           -5.14902           2.10191   \n",
       "2322834          77.7621           -5.15694            2.1271   \n",
       "2322835          181.349           -4.80756            1.5331   \n",
       "2322836          145.027           -4.82746           1.70726   \n",
       "2322837          148.952           -4.87452           1.68676   \n",
       "2322838           117.64           -5.59352           1.85748   \n",
       "2322839          123.612           -5.06605             1.824   \n",
       "2322840          114.219           -5.25769           1.87628   \n",
       "2322841          111.904           -5.06117             1.892   \n",
       "2322842          95.3251           -5.28833           1.99871   \n",
       "2322843          120.627           -5.45006           1.83969   \n",
       "2322844          162.293           -4.87991           1.61514   \n",
       "2322845                0           -5.63251           1.45408   \n",
       "2322846          128.197           -5.72074            1.7986   \n",
       "2322847          46.0461             -5.435           2.43316   \n",
       "2322848           62.544           -5.25924           2.25847   \n",
       "2322849           190.49            -4.7028           1.49095   \n",
       "\n",
       "                        9                                                  10  \n",
       "0             e_lumo_alpha                                     tmp_smiles_str  \n",
       "1        -3.44465635146988        C1=CC=C(C1)c1cc2[se]c3c4occc4c4nsnc4c3c2cn1  \n",
       "2        -3.47407415641572  C1=CC=C(C1)c1cc2[se]c3c(ncc4ccccc34)c2c2=C[SiH...  \n",
       "3        -3.07736751530651  C1=CC=C(C1)C1=Cc2oc3c(c2[SiH2]1)c1c[nH]cc1c1cc...  \n",
       "4        -3.54802487633011  C1=CC2=C([SiH2]1)C=C([SiH2]2)C1=Cc2[se]ccc2[Si...  \n",
       "5        -3.03268018743809       C1=CC=C(C1)c1cc2[se]c3c4sccc4c4=CCC=c4c3c2o1  \n",
       "6        -3.52219416292681  C1=CC=C(C1)c1cc2[se]c3c(c4nsnc4c4ccncc34)c2c2c...  \n",
       "7        -2.98682663882197           C1=CC=C(C1)c1cc2[se]c3cc4ccsc4cc3c2[se]1  \n",
       "8        -3.01554844725568      C1=CC=C(C1)c1cc2[se]c3c4occc4c4cscc4c3c2[se]1  \n",
       "9        -3.13732481706668      C1=CC=C(C1)c1cc2[se]c3cc4cccnc4cc3c2c2ccccc12  \n",
       "10       -3.07714050552951         C1=CC2=C([SiH2]1)C=C(C2)c1cc2occc2c2cscc12  \n",
       "11       -2.96546525507916          C1=CC=C(C1)C1=Cc2sc3cc4C=C[SiH2]c4cc3c2C1  \n",
       "12       -3.19439299042776  C1=CC=C(C1)c1cc2[se]c3c([se]c4ccc5=CCC=c5c34)c...  \n",
       "13       -3.00454353275062            C1=CC=C(C1)C1=Cc2ncc3c4[se]ccc4cnc3c2C1  \n",
       "14       -3.47687221634303  C1=CC=C(C1)C1=Cc2c(C1)c1[se]c3ccc4cscc4c3c1c1=...  \n",
       "15       -3.59923963985869  C1=CC=C(C1)C1=Cc2c([SiH2]1)c1ncc3ccc4=CCC=c4c3...  \n",
       "16       -3.03514413310684    C1=CC=C(C1)C1=Cc2ccc3c4CC=Cc4c4cscc4c3c2[SiH2]1  \n",
       "17       -3.37960683199074  C1=CC=C(C1)C1=Cc2c([SiH2]1)c1c3c[nH]cc3c3ccc4=...  \n",
       "18       -2.92454712384407            C1=CC=C(C1)C1=Cc2c(C1)c1occc1c1=CCC=c21  \n",
       "19       -3.14608848588817  C1=CC=C(C1)C1=Cc2c([SiH2]1)c1cc3ncccc3cc1c1c[n...  \n",
       "20       -3.61629759088901  C1=CC=C(C1)C1=Cc2c([SiH2]1)c1c(c3cscc23)c2[se]...  \n",
       "21       -3.76562251861254  C1=CC=C(C1)C1=Cc2c([SiH2]1)c1c(c3[SiH2]C=Cc3c3...  \n",
       "22       -3.57697696194727  C1=CC=C(C1)c1cc2[se]c3c(c2c2cscc12)c1ccccc1c1c...  \n",
       "23       -3.04223913440072  C1=CC=C(C1)C1=Cc2c(C1)c1c(c3c[nH]cc23)c2c3c[nH...  \n",
       "24       -2.96936989381763       C1=CC=C(C1)C1=Cc2[se]c3c4sccc4c4ccccc4c3c2C1  \n",
       "25        -3.4903194812982  C1=CC=C(C1)C1=Cc2c(C1)c1c3cscc3c3ccc4nsnc4c3c1...  \n",
       "26       -3.10885597309029   C1=CC=C(C1)c1cc2[se]c3c([se]c4ccc5cscc5c34)c2cn1  \n",
       "27       -3.10502675003939       C1=CC=C(C1)c1cc2[se]c3ccc4ccccc4c3c2c2cocc12  \n",
       "28       -3.06835548327545  C1=CC=C(C1)C1=Cc2c(C1)c1c(c3ccccc23)c2ccccc2c2...  \n",
       "29       -3.28671466953432       C1=CC=C(C1)c1cc2[se]c3cc4cccnc4cc3c2c2cscc12  \n",
       "...                    ...                                                ...  \n",
       "2322820           -3.11904  c1sc(c2[SiH2]ccc12)-c1sc(c2[SiH2]ccc12)-c1ccc(...  \n",
       "2322821           -3.36511  c1sc(c2[SiH2]ccc12)-c1sc(-c2sc(-c3scc4occc34)c...  \n",
       "2322822           -3.28418  c1sc(c2[SiH2]ccc12)-c1sc(-c2sc(-c3scc4ccoc34)c...  \n",
       "2322823           -3.55475  c1sc(c2[SiH2]ccc12)-c1sc(c2[SiH2]ccc12)-c1ccc(...  \n",
       "2322824           -3.09845  c1sc(c2[SiH2]ccc12)-c1sc(c2[SiH2]ccc12)-c1ccc(...  \n",
       "2322825           -3.21819  c1sc(c2[SiH2]ccc12)-c1sc(c2[SiH2]ccc12)-c1ccc(...  \n",
       "2322826           -3.12444  c1sc(c2[SiH2]ccc12)-c1sc(c2Cccc12)-c1ccc(-c2cc...  \n",
       "2322827           -3.15235  c1sc(c2[SiH2]ccc12)-c1sc(c2Cccc12)-c1sc(-c2ccc...  \n",
       "2322828           -3.19025  c1sc(c2[SiH2]ccc12)-c1sc(c2[SiH2]ccc12)-c1ccc(...  \n",
       "2322829           -3.24608  c1sc(c2[SiH2]ccc12)-c1sc(-c2sc(-c3scc4ccoc34)c...  \n",
       "2322830           -3.18421  c1sc(c2[SiH2]ccc12)-c1sc(-c2sc(-c3scc4ccoc34)c...  \n",
       "2322831           -3.09054  c1sc(c2[SiH2]ccc12)-c1sc(c2[SiH2]ccc12)-c1ccc(...  \n",
       "2322832           -3.28083  c1sc(c2[SiH2]ccc12)-c1sc(-c2sc(-c3scc4ccsc34)c...  \n",
       "2322833            -3.0471  c1sc(c2[SiH2]ccc12)-c1sc(-c2scc3cc[se]c23)c2[s...  \n",
       "2322834           -3.02984  c1sc(c2[SiH2]ccc12)-c1sc(c2[SiH2]ccc12)-c1ccc(...  \n",
       "2322835           -3.27446  c1sc(c2[SiH2]ccc12)-c1sc(-c2sc(-c3scc4sccc34)c...  \n",
       "2322836            -3.1202  c1sc(c2[SiH2]ccc12)-c1sc(-c2sc(c3Cccc23)-c2scc...  \n",
       "2322837           -3.18776  c1sc(c2[SiH2]ccc12)-c1sc(-c2sc(-c3scc4ccoc34)c...  \n",
       "2322838           -3.73604  c1sc(c2[SiH2]ccc12)-c1sc(c2[SiH2]ccc12)-c1cccc...  \n",
       "2322839           -3.24204  c1sc(c2[SiH2]ccc12)-c1sc(c2Cccc12)-c1ccc(-c2cc...  \n",
       "2322840           -3.38141  c1sc(c2[SiH2]ccc12)-c1sc(c2[SiH2]ccc12)-c1ccc(...  \n",
       "2322841           -3.16917  c1sc(c2[SiH2]ccc12)-c1sc(-c2sc(c3[SiH2]ccc23)-...  \n",
       "2322842           -3.28961  c1sc(c2[SiH2]ccc12)-c1sc(-c2sc(c3[SiH2]ccc23)-...  \n",
       "2322843           -3.61037  c1sc(c2[SiH2]ccc12)-c1sc(c2[SiH2]ccc12)-c1ccc(...  \n",
       "2322844           -3.26477  c1sc(c2[SiH2]ccc12)-c1sc(-c2sc(-c3scc4ccsc34)c...  \n",
       "2322845           -4.17843  c1sc(c2[SiH2]ccc12)-c1sc(c2[SiH2]ccc12)-c1cnc(...  \n",
       "2322846           -3.92214  c1sc(c2[SiH2]ccc12)-c1sc(c2[SiH2]ccc12)-c1ccc(...  \n",
       "2322847           -3.00184  c1sc(c2[SiH2]ccc12)-c1sc(c2[SiH2]ccc12)-c1ccc(...  \n",
       "2322848           -3.00077  c1sc(c2[SiH2]ccc12)-c1sc(c2Cccc12)-c1ccc(cc1)-...  \n",
       "2322849           -3.21185  c1sc(c2[SiH2]ccc12)-c1sc(-c2sc(-c3scc4ccsc34)c...  \n",
       "\n",
       "[2322850 rows x 11 columns]"
      ]
     },
     "execution_count": 8,
     "metadata": {},
     "output_type": "execute_result"
    }
   ],
   "source": [
    "df"
   ]
  },
  {
   "cell_type": "code",
   "execution_count": null,
   "metadata": {
    "collapsed": false
   },
   "outputs": [],
   "source": [
    "\n",
    "    "
   ]
  },
  {
   "cell_type": "code",
   "execution_count": 4,
   "metadata": {
    "collapsed": true
   },
   "outputs": [],
   "source": [
    "def typ(x,y):\n",
    "    sol = x.mean() + y.mean()\n",
    "    return sol"
   ]
  },
  {
   "cell_type": "code",
   "execution_count": 7,
   "metadata": {
    "collapsed": false
   },
   "outputs": [
    {
     "data": {
      "text/plain": [
       "419.48866167769404"
      ]
     },
     "execution_count": 7,
     "metadata": {},
     "output_type": "execute_result"
    }
   ],
   "source": [
    "typ(df['mass'],df['pce'])\n"
   ]
  },
  {
   "cell_type": "code",
   "execution_count": null,
   "metadata": {
    "collapsed": true
   },
   "outputs": [],
   "source": []
  }
 ],
 "metadata": {
  "kernelspec": {
   "display_name": "Python 3",
   "language": "python",
   "name": "python3"
  },
  "language_info": {
   "codemirror_mode": {
    "name": "ipython",
    "version": 3
   },
   "file_extension": ".py",
   "mimetype": "text/x-python",
   "name": "python",
   "nbconvert_exporter": "python",
   "pygments_lexer": "ipython3",
   "version": "3.6.0"
  }
 },
 "nbformat": 4,
 "nbformat_minor": 0
}
