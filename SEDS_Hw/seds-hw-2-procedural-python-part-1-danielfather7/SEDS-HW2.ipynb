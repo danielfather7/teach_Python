{
 "cells": [
  {
   "cell_type": "markdown",
   "metadata": {},
   "source": [
    "## Part 1 : For a single file"
   ]
  },
  {
   "cell_type": "code",
   "execution_count": 1,
   "metadata": {
    "collapsed": false
   },
   "outputs": [
    {
     "name": "stdout",
     "output_type": "stream",
     "text": [
      "File already exists.\n"
     ]
    }
   ],
   "source": [
    "import os\n",
    "filename = 'HCEPDB_moldata.zip'\n",
    "if os.path.exists(filename):\n",
    "    print('File already exists.') \n",
    "else:\n",
    "    print(\"File doesn't exist.\")"
   ]
  },
  {
   "cell_type": "code",
   "execution_count": 2,
   "metadata": {
    "collapsed": true
   },
   "outputs": [],
   "source": [
    "import requests \n",
    "url = 'http://faculty.washington.edu/dacb/HCEPDB_moldata.zip'\n",
    "req = requests.get(url)\n",
    "assert req.status_code == 200\n",
    "with open(filename, 'wb') as f:\n",
    "    f.write(req.content)"
   ]
  },
  {
   "cell_type": "code",
   "execution_count": 3,
   "metadata": {
    "collapsed": false
   },
   "outputs": [],
   "source": [
    "import zipfile\n",
    "import pandas as pd\n",
    "csv_filename = 'HCEPDB_moldata.csv'\n",
    "zf = zipfile.ZipFile(filename)\n",
    "data = pd.read_csv(zf.open(csv_filename))"
   ]
  },
  {
   "cell_type": "code",
   "execution_count": 4,
   "metadata": {
    "collapsed": false
   },
   "outputs": [
    {
     "data": {
      "text/html": [
       "<div>\n",
       "<table border=\"1\" class=\"dataframe\">\n",
       "  <thead>\n",
       "    <tr style=\"text-align: right;\">\n",
       "      <th></th>\n",
       "      <th>id</th>\n",
       "      <th>SMILES_str</th>\n",
       "      <th>stoich_str</th>\n",
       "      <th>mass</th>\n",
       "      <th>pce</th>\n",
       "      <th>voc</th>\n",
       "      <th>jsc</th>\n",
       "      <th>e_homo_alpha</th>\n",
       "      <th>e_gap_alpha</th>\n",
       "      <th>e_lumo_alpha</th>\n",
       "      <th>tmp_smiles_str</th>\n",
       "    </tr>\n",
       "  </thead>\n",
       "  <tbody>\n",
       "    <tr>\n",
       "      <th>0</th>\n",
       "      <td>655365</td>\n",
       "      <td>C1C=CC=C1c1cc2[se]c3c4occc4c4nsnc4c3c2cn1</td>\n",
       "      <td>C18H9N3OSSe</td>\n",
       "      <td>394.3151</td>\n",
       "      <td>5.161953</td>\n",
       "      <td>0.867601</td>\n",
       "      <td>91.567575</td>\n",
       "      <td>-5.467601</td>\n",
       "      <td>2.022944</td>\n",
       "      <td>-3.444656</td>\n",
       "      <td>C1=CC=C(C1)c1cc2[se]c3c4occc4c4nsnc4c3c2cn1</td>\n",
       "    </tr>\n",
       "    <tr>\n",
       "      <th>1</th>\n",
       "      <td>1245190</td>\n",
       "      <td>C1C=CC=C1c1cc2[se]c3c(ncc4ccccc34)c2c2=C[SiH2]...</td>\n",
       "      <td>C22H15NSeSi</td>\n",
       "      <td>400.4135</td>\n",
       "      <td>5.261398</td>\n",
       "      <td>0.504824</td>\n",
       "      <td>160.401549</td>\n",
       "      <td>-5.104824</td>\n",
       "      <td>1.630750</td>\n",
       "      <td>-3.474074</td>\n",
       "      <td>C1=CC=C(C1)c1cc2[se]c3c(ncc4ccccc34)c2c2=C[SiH...</td>\n",
       "    </tr>\n",
       "    <tr>\n",
       "      <th>2</th>\n",
       "      <td>21847</td>\n",
       "      <td>C1C=c2ccc3c4c[nH]cc4c4c5[SiH2]C(=Cc5oc4c3c2=C1...</td>\n",
       "      <td>C24H17NOSi</td>\n",
       "      <td>363.4903</td>\n",
       "      <td>0.000000</td>\n",
       "      <td>0.000000</td>\n",
       "      <td>197.474780</td>\n",
       "      <td>-4.539526</td>\n",
       "      <td>1.462158</td>\n",
       "      <td>-3.077368</td>\n",
       "      <td>C1=CC=C(C1)C1=Cc2oc3c(c2[SiH2]1)c1c[nH]cc1c1cc...</td>\n",
       "    </tr>\n",
       "    <tr>\n",
       "      <th>3</th>\n",
       "      <td>65553</td>\n",
       "      <td>[SiH2]1C=CC2=C1C=C([SiH2]2)C1=Cc2[se]ccc2[SiH2]1</td>\n",
       "      <td>C12H12SeSi3</td>\n",
       "      <td>319.4448</td>\n",
       "      <td>6.138294</td>\n",
       "      <td>0.630274</td>\n",
       "      <td>149.887545</td>\n",
       "      <td>-5.230274</td>\n",
       "      <td>1.682250</td>\n",
       "      <td>-3.548025</td>\n",
       "      <td>C1=CC2=C([SiH2]1)C=C([SiH2]2)C1=Cc2[se]ccc2[Si...</td>\n",
       "    </tr>\n",
       "    <tr>\n",
       "      <th>4</th>\n",
       "      <td>720918</td>\n",
       "      <td>C1C=c2c3ccsc3c3[se]c4cc(oc4c3c2=C1)C1=CC=CC1</td>\n",
       "      <td>C20H12OSSe</td>\n",
       "      <td>379.3398</td>\n",
       "      <td>1.991366</td>\n",
       "      <td>0.242119</td>\n",
       "      <td>126.581347</td>\n",
       "      <td>-4.842119</td>\n",
       "      <td>1.809439</td>\n",
       "      <td>-3.032680</td>\n",
       "      <td>C1=CC=C(C1)c1cc2[se]c3c4sccc4c4=CCC=c4c3c2o1</td>\n",
       "    </tr>\n",
       "  </tbody>\n",
       "</table>\n",
       "</div>"
      ],
      "text/plain": [
       "        id                                         SMILES_str   stoich_str  \\\n",
       "0   655365          C1C=CC=C1c1cc2[se]c3c4occc4c4nsnc4c3c2cn1  C18H9N3OSSe   \n",
       "1  1245190  C1C=CC=C1c1cc2[se]c3c(ncc4ccccc34)c2c2=C[SiH2]...  C22H15NSeSi   \n",
       "2    21847  C1C=c2ccc3c4c[nH]cc4c4c5[SiH2]C(=Cc5oc4c3c2=C1...   C24H17NOSi   \n",
       "3    65553   [SiH2]1C=CC2=C1C=C([SiH2]2)C1=Cc2[se]ccc2[SiH2]1  C12H12SeSi3   \n",
       "4   720918       C1C=c2c3ccsc3c3[se]c4cc(oc4c3c2=C1)C1=CC=CC1   C20H12OSSe   \n",
       "\n",
       "       mass       pce       voc         jsc  e_homo_alpha  e_gap_alpha  \\\n",
       "0  394.3151  5.161953  0.867601   91.567575     -5.467601     2.022944   \n",
       "1  400.4135  5.261398  0.504824  160.401549     -5.104824     1.630750   \n",
       "2  363.4903  0.000000  0.000000  197.474780     -4.539526     1.462158   \n",
       "3  319.4448  6.138294  0.630274  149.887545     -5.230274     1.682250   \n",
       "4  379.3398  1.991366  0.242119  126.581347     -4.842119     1.809439   \n",
       "\n",
       "   e_lumo_alpha                                     tmp_smiles_str  \n",
       "0     -3.444656        C1=CC=C(C1)c1cc2[se]c3c4occc4c4nsnc4c3c2cn1  \n",
       "1     -3.474074  C1=CC=C(C1)c1cc2[se]c3c(ncc4ccccc34)c2c2=C[SiH...  \n",
       "2     -3.077368  C1=CC=C(C1)C1=Cc2oc3c(c2[SiH2]1)c1c[nH]cc1c1cc...  \n",
       "3     -3.548025  C1=CC2=C([SiH2]1)C=C([SiH2]2)C1=Cc2[se]ccc2[Si...  \n",
       "4     -3.032680       C1=CC=C(C1)c1cc2[se]c3c4sccc4c4=CCC=c4c3c2o1  "
      ]
     },
     "execution_count": 4,
     "metadata": {},
     "output_type": "execute_result"
    }
   ],
   "source": [
    "data.head()"
   ]
  },
  {
   "cell_type": "markdown",
   "metadata": {},
   "source": [
    "## Part 2 : For three or more files"
   ]
  },
  {
   "cell_type": "markdown",
   "metadata": {},
   "source": [
    "### Set 1: download and unzip files, and read data.\n",
    "* Create a list for all files, and two dictionaries to conect to their url and file name of `.csv`. \n",
    "* Check which file exists by using `os.path.exists` in `for` and `if` loop, and print out results.\n",
    "* Only download files which don't exist by putting code in `else` loop.\n",
    "* Add some `print` commands in the loop to show which file is downloading and tell after it is done.\n",
    "* Unzip the files, and use `zf` list and `data` lits to read 3 `.csv` files respectively.\n",
    "* <span style=\"color:red\">Since 3 sets of data are the same kind of data, I first creat a blank data frame outside the `for` loop, and then use `append` command to merge all the data.\n",
    "* Use `shape` and `tail` command to check data."
   ]
  },
  {
   "cell_type": "code",
   "execution_count": 5,
   "metadata": {
    "collapsed": false
   },
   "outputs": [
    {
     "name": "stdout",
     "output_type": "stream",
     "text": [
      "HCEPDB_moldata_set1.zip exists.\n",
      "HCEPDB_moldata_set2.zip doesn't exist.\n",
      "HCEPDB_moldata_set2.zip is downloading.\n",
      "HCEPDB_moldata_set2.zip is downloaded.\n",
      "HCEPDB_moldata_set3.zip exists.\n",
      "\n",
      "Check data\n",
      "shape of HCEPDB_moldata_set1.csv = (1106498, 11) \n",
      "shape of HCEPDB_moldata_set2.csv = (109854, 11) \n",
      "shape of HCEPDB_moldata_set3.csv = (1106497, 11) \n",
      "shape of all data = (2322849, 11)\n",
      "\n",
      "\n"
     ]
    },
    {
     "data": {
      "text/html": [
       "<div>\n",
       "<table border=\"1\" class=\"dataframe\">\n",
       "  <thead>\n",
       "    <tr style=\"text-align: right;\">\n",
       "      <th></th>\n",
       "      <th>id</th>\n",
       "      <th>SMILES_str</th>\n",
       "      <th>stoich_str</th>\n",
       "      <th>mass</th>\n",
       "      <th>pce</th>\n",
       "      <th>voc</th>\n",
       "      <th>jsc</th>\n",
       "      <th>e_homo_alpha</th>\n",
       "      <th>e_gap_alpha</th>\n",
       "      <th>e_lumo_alpha</th>\n",
       "      <th>tmp_smiles_str</th>\n",
       "    </tr>\n",
       "  </thead>\n",
       "  <tbody>\n",
       "    <tr>\n",
       "      <th>2322844</th>\n",
       "      <td>1712111</td>\n",
       "      <td>[SiH2]1ccc2csc(c12)-c1sc(-c2sc(-c3scc4ccsc34)c...</td>\n",
       "      <td>C24H12OS6Si</td>\n",
       "      <td>536.8398</td>\n",
       "      <td>2.951709</td>\n",
       "      <td>0.279912</td>\n",
       "      <td>162.292795</td>\n",
       "      <td>-4.879912</td>\n",
       "      <td>1.615145</td>\n",
       "      <td>-3.264767</td>\n",
       "      <td>c1sc(c2[SiH2]ccc12)-c1sc(-c2sc(-c3scc4ccsc34)c...</td>\n",
       "    </tr>\n",
       "    <tr>\n",
       "      <th>2322845</th>\n",
       "      <td>2304057</td>\n",
       "      <td>[SiH2]1ccc2csc(c12)-c1sc(c2[SiH2]ccc12)-c1ccc(...</td>\n",
       "      <td>C22H14N4S3Si2</td>\n",
       "      <td>486.7506</td>\n",
       "      <td>9.335485</td>\n",
       "      <td>1.120744</td>\n",
       "      <td>128.197094</td>\n",
       "      <td>-5.720744</td>\n",
       "      <td>1.798600</td>\n",
       "      <td>-3.922144</td>\n",
       "      <td>c1sc(c2[SiH2]ccc12)-c1sc(c2[SiH2]ccc12)-c1ccc(...</td>\n",
       "    </tr>\n",
       "    <tr>\n",
       "      <th>2322846</th>\n",
       "      <td>2007035</td>\n",
       "      <td>[SiH2]1ccc2csc(c12)-c1sc(c2[SiH2]ccc12)-c1ccc(...</td>\n",
       "      <td>C26H18S3Si2</td>\n",
       "      <td>482.7982</td>\n",
       "      <td>2.498209</td>\n",
       "      <td>0.834995</td>\n",
       "      <td>46.046052</td>\n",
       "      <td>-5.434995</td>\n",
       "      <td>2.433160</td>\n",
       "      <td>-3.001835</td>\n",
       "      <td>c1sc(c2[SiH2]ccc12)-c1sc(c2[SiH2]ccc12)-c1ccc(...</td>\n",
       "    </tr>\n",
       "    <tr>\n",
       "      <th>2322847</th>\n",
       "      <td>1961981</td>\n",
       "      <td>C1ccc2c1c(sc2-c1scc2cc[SiH2]c12)-c1ccc(cc1)-c1...</td>\n",
       "      <td>C25H16S3SeSi</td>\n",
       "      <td>519.6454</td>\n",
       "      <td>2.679067</td>\n",
       "      <td>0.659243</td>\n",
       "      <td>62.544032</td>\n",
       "      <td>-5.259243</td>\n",
       "      <td>2.258468</td>\n",
       "      <td>-3.000775</td>\n",
       "      <td>c1sc(c2[SiH2]ccc12)-c1sc(c2Cccc12)-c1ccc(cc1)-...</td>\n",
       "    </tr>\n",
       "    <tr>\n",
       "      <th>2322848</th>\n",
       "      <td>2754558</td>\n",
       "      <td>[SiH2]1ccc2csc(c12)-c1sc(-c2sc(-c3scc4ccsc34)c...</td>\n",
       "      <td>C24H13NOS5Si</td>\n",
       "      <td>519.7887</td>\n",
       "      <td>1.272400</td>\n",
       "      <td>0.102802</td>\n",
       "      <td>190.489616</td>\n",
       "      <td>-4.702802</td>\n",
       "      <td>1.490950</td>\n",
       "      <td>-3.211851</td>\n",
       "      <td>c1sc(c2[SiH2]ccc12)-c1sc(-c2sc(-c3scc4ccsc34)c...</td>\n",
       "    </tr>\n",
       "  </tbody>\n",
       "</table>\n",
       "</div>"
      ],
      "text/plain": [
       "              id                                         SMILES_str  \\\n",
       "2322844  1712111  [SiH2]1ccc2csc(c12)-c1sc(-c2sc(-c3scc4ccsc34)c...   \n",
       "2322845  2304057  [SiH2]1ccc2csc(c12)-c1sc(c2[SiH2]ccc12)-c1ccc(...   \n",
       "2322846  2007035  [SiH2]1ccc2csc(c12)-c1sc(c2[SiH2]ccc12)-c1ccc(...   \n",
       "2322847  1961981  C1ccc2c1c(sc2-c1scc2cc[SiH2]c12)-c1ccc(cc1)-c1...   \n",
       "2322848  2754558  [SiH2]1ccc2csc(c12)-c1sc(-c2sc(-c3scc4ccsc34)c...   \n",
       "\n",
       "            stoich_str      mass       pce       voc         jsc  \\\n",
       "2322844    C24H12OS6Si  536.8398  2.951709  0.279912  162.292795   \n",
       "2322845  C22H14N4S3Si2  486.7506  9.335485  1.120744  128.197094   \n",
       "2322846    C26H18S3Si2  482.7982  2.498209  0.834995   46.046052   \n",
       "2322847   C25H16S3SeSi  519.6454  2.679067  0.659243   62.544032   \n",
       "2322848   C24H13NOS5Si  519.7887  1.272400  0.102802  190.489616   \n",
       "\n",
       "         e_homo_alpha  e_gap_alpha  e_lumo_alpha  \\\n",
       "2322844     -4.879912     1.615145     -3.264767   \n",
       "2322845     -5.720744     1.798600     -3.922144   \n",
       "2322846     -5.434995     2.433160     -3.001835   \n",
       "2322847     -5.259243     2.258468     -3.000775   \n",
       "2322848     -4.702802     1.490950     -3.211851   \n",
       "\n",
       "                                            tmp_smiles_str  \n",
       "2322844  c1sc(c2[SiH2]ccc12)-c1sc(-c2sc(-c3scc4ccsc34)c...  \n",
       "2322845  c1sc(c2[SiH2]ccc12)-c1sc(c2[SiH2]ccc12)-c1ccc(...  \n",
       "2322846  c1sc(c2[SiH2]ccc12)-c1sc(c2[SiH2]ccc12)-c1ccc(...  \n",
       "2322847  c1sc(c2[SiH2]ccc12)-c1sc(c2Cccc12)-c1ccc(cc1)-...  \n",
       "2322848  c1sc(c2[SiH2]ccc12)-c1sc(-c2sc(-c3scc4ccsc34)c...  "
      ]
     },
     "execution_count": 5,
     "metadata": {},
     "output_type": "execute_result"
    }
   ],
   "source": [
    "import os\n",
    "import requests\n",
    "import zipfile\n",
    "import pandas as pd\n",
    "\n",
    "zipfiles = ['HCEPDB_moldata_set1.zip','HCEPDB_moldata_set2.zip','HCEPDB_moldata_set3.zip']\n",
    "url = {'HCEPDB_moldata_set1.zip':'http://faculty.washington.edu/dacb/HCEPDB_moldata_set1.zip','HCEPDB_moldata_set2.zip':'http://faculty.washington.edu/dacb/HCEPDB_moldata_set2.zip','HCEPDB_moldata_set3.zip':'http://faculty.washington.edu/dacb/HCEPDB_moldata_set3.zip'}\n",
    "csvfile = {'HCEPDB_moldata_set1.zip':'HCEPDB_moldata_set1.csv','HCEPDB_moldata_set2.zip':'HCEPDB_moldata_set2.csv','HCEPDB_moldata_set3.zip':'HCEPDB_moldata_set3.csv'}\n",
    "zf = []\n",
    "data = []\n",
    "alldata = pd.DataFrame()\n",
    "for i in range(len(zipfiles)):\n",
    "#check whether file exists.\n",
    "    if os.path.exists(zipfiles[i]):\n",
    "        print(zipfiles[i],'exists.')\n",
    "    else:\n",
    "        print(zipfiles[i],\"doesn't exist.\")\n",
    "#Download files.\n",
    "        print(zipfiles[i],'is downloading.')\n",
    "        req = requests.get(url[zipfiles[i]])\n",
    "        assert req.status_code == 200\n",
    "        with open(zipfiles[i], 'wb') as f:\n",
    "            f.write(req.content)\n",
    "        print(zipfiles[i],'is downloaded.')\n",
    "#Unzip and read .csv files.    \n",
    "    zf.append(zipfile.ZipFile(zipfiles[i]))\n",
    "    data.append(pd.read_csv(zf[i].open(csvfile[zipfiles[i]])))\n",
    "    alldata = alldata.append(data[i],ignore_index=True)\n",
    "#Check data\n",
    "print('\\nCheck data')    \n",
    "print('shape of',csvfile[zipfiles[0]],'=',data[0].shape,'\\nshape of',csvfile[zipfiles[1]],'=',data[1].shape,'\\nshape of',csvfile[zipfiles[2]],'=',data[2].shape, '\\nshape of all data =',alldata.shape)\n",
    "print('\\n')\n",
    "alldata.tail()"
   ]
  },
  {
   "cell_type": "markdown",
   "metadata": {},
   "source": [
    "### Set 2: analyza data"
   ]
  },
  {
   "cell_type": "code",
   "execution_count": 6,
   "metadata": {
    "collapsed": false
   },
   "outputs": [
    {
     "name": "stdout",
     "output_type": "stream",
     "text": [
      "standard diviation of mass =  59.85315778069101 , mean of mass =  415.564049928 \n",
      "\n",
      "Count numbers in each group(%)\n",
      " -SD~+SD      0.690258\n",
      "-2SD~-SD     0.139429\n",
      "+SD~+2SD     0.125102\n",
      "-3SD~-2SD    0.028574\n",
      "+2SD~+3SD    0.014762\n",
      "<(-3SD)      0.001354\n",
      ">(+3SD)      0.000521\n",
      "Name: mass_group, dtype: float64 \n",
      "\n",
      "within 1 standard diviation: 0.690257821433 \n",
      "within 2 standard diviation: 0.954789120941 \n",
      "within 3 standard diviation: 0.998125146372 \n",
      "\n",
      "Conclusions: mass is nearly normal distribution!\n"
     ]
    }
   ],
   "source": [
    "import numpy as np\n",
    "import pandas as pd\n",
    "import matplotlib.pyplot as plt\n",
    "%matplotlib inline\n",
    "import math\n",
    "alldata['(xi-x)^2'] = (alldata['mass'] - alldata['mass'].mean())**2\n",
    "SD = math.sqrt(sum(alldata['(xi-x)^2'])/alldata.shape[0])\n",
    "M = alldata['mass'].mean()\n",
    "print('standard diviation of mass = ',SD,', mean of mass = ',M,\"\\n\")\n",
    "alldata['mass_group'] = pd.cut(alldata['mass'],bins=[min(alldata['mass']),M-3*SD,M-2*SD,M-SD,M+SD,M+2*SD,M+3*SD,max(alldata['mass'])],labels=[\"<(-3SD)\",\"-3SD~-2SD\",\"-2SD~-SD\",\"-SD~+SD\",\"+SD~+2SD\",\"+2SD~+3SD\",\">(+3SD)\"])\n",
    "count = pd.value_counts(alldata['mass_group'],normalize=True)\n",
    "print(\"Count numbers in each group(%)\\n\",count,\"\\n\")\n",
    "print(\"within 1 standard diviation:\",count[3],\"\\nwithin 2 standard diviation:\",count[2]+count[3]+count[4],\"\\nwithin 3 standard diviation:\",count[2]+count[3]+count[4]+count[1]+count[5],\"\\n\")\n",
    "print(\"Conclusions: mass is nearly normal distribution!\")"
   ]
  },
  {
   "cell_type": "markdown",
   "metadata": {},
   "source": [
    "## Part 3: Compare Part 1 and Part 2\n"
   ]
  },
  {
   "cell_type": "markdown",
   "metadata": {},
   "source": [
    "In part 2, I can download mutiple files which are not exist yet, and the length of the code is almost as much as part 1, which means it's much shorther than to replicate codes for 3 times. Furthermore, I just have to add a new file to the list `zipfiles` by `append` command, and add its url and .csv filename to dictionaries if there are new collected data files which need to be downloaded. The rest parts of codes are unchanged, which makes it easy to maintain."
   ]
  },
  {
   "cell_type": "code",
   "execution_count": null,
   "metadata": {
    "collapsed": true
   },
   "outputs": [],
   "source": []
  }
 ],
 "metadata": {
  "anaconda-cloud": {},
  "kernelspec": {
   "display_name": "Python [default]",
   "language": "python",
   "name": "python3"
  },
  "language_info": {
   "codemirror_mode": {
    "name": "ipython",
    "version": 3
   },
   "file_extension": ".py",
   "mimetype": "text/x-python",
   "name": "python",
   "nbconvert_exporter": "python",
   "pygments_lexer": "ipython3",
   "version": "3.5.2"
  }
 },
 "nbformat": 4,
 "nbformat_minor": 2
}
