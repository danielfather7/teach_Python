{
 "cells": [
  {
   "cell_type": "markdown",
   "metadata": {},
   "source": [
    "## K-NN Classifier\n",
    "### Import packages and data:"
   ]
  },
  {
   "cell_type": "code",
   "execution_count": 1,
   "metadata": {
    "collapsed": false
   },
   "outputs": [],
   "source": [
    "import knn\n",
    "import pandas as pd"
   ]
  },
  {
   "cell_type": "code",
   "execution_count": 2,
   "metadata": {
    "collapsed": true
   },
   "outputs": [],
   "source": [
    "test = pd.read_csv('testing.csv')\n",
    "data = pd.read_csv('atomsradii.csv')"
   ]
  },
  {
   "cell_type": "code",
   "execution_count": 3,
   "metadata": {
    "collapsed": false
   },
   "outputs": [
    {
     "data": {
      "text/html": [
       "<div>\n",
       "<table border=\"1\" class=\"dataframe\">\n",
       "  <thead>\n",
       "    <tr style=\"text-align: right;\">\n",
       "      <th></th>\n",
       "      <th>rWC</th>\n",
       "      <th>rCh</th>\n",
       "      <th>Atom</th>\n",
       "      <th>Type</th>\n",
       "    </tr>\n",
       "  </thead>\n",
       "  <tbody>\n",
       "    <tr>\n",
       "      <th>0</th>\n",
       "      <td>0.51</td>\n",
       "      <td>1.12</td>\n",
       "      <td>X1</td>\n",
       "      <td>Alk</td>\n",
       "    </tr>\n",
       "    <tr>\n",
       "      <th>1</th>\n",
       "      <td>0.37</td>\n",
       "      <td>0.77</td>\n",
       "      <td>X2</td>\n",
       "      <td>TM</td>\n",
       "    </tr>\n",
       "    <tr>\n",
       "      <th>2</th>\n",
       "      <td>0.62</td>\n",
       "      <td>0.35</td>\n",
       "      <td>X3</td>\n",
       "      <td>PT</td>\n",
       "    </tr>\n",
       "    <tr>\n",
       "      <th>3</th>\n",
       "      <td>0.62</td>\n",
       "      <td>0.62</td>\n",
       "      <td>X4</td>\n",
       "      <td>TM</td>\n",
       "    </tr>\n",
       "    <tr>\n",
       "      <th>4</th>\n",
       "      <td>0.62</td>\n",
       "      <td>0.93</td>\n",
       "      <td>X5</td>\n",
       "      <td>Alk</td>\n",
       "    </tr>\n",
       "  </tbody>\n",
       "</table>\n",
       "</div>"
      ],
      "text/plain": [
       "    rWC   rCh Atom Type\n",
       "0  0.51  1.12   X1  Alk\n",
       "1  0.37  0.77   X2   TM\n",
       "2  0.62  0.35   X3   PT\n",
       "3  0.62  0.62   X4   TM\n",
       "4  0.62  0.93   X5  Alk"
      ]
     },
     "execution_count": 3,
     "metadata": {},
     "output_type": "execute_result"
    }
   ],
   "source": [
    "test"
   ]
  },
  {
   "cell_type": "code",
   "execution_count": 4,
   "metadata": {
    "collapsed": false
   },
   "outputs": [
    {
     "data": {
      "text/html": [
       "<div>\n",
       "<table border=\"1\" class=\"dataframe\">\n",
       "  <thead>\n",
       "    <tr style=\"text-align: right;\">\n",
       "      <th></th>\n",
       "      <th>rWC</th>\n",
       "      <th>rCh</th>\n",
       "      <th>Atom</th>\n",
       "      <th>Type</th>\n",
       "    </tr>\n",
       "  </thead>\n",
       "  <tbody>\n",
       "    <tr>\n",
       "      <th>0</th>\n",
       "      <td>0.78</td>\n",
       "      <td>0.50</td>\n",
       "      <td>B</td>\n",
       "      <td>PT</td>\n",
       "    </tr>\n",
       "    <tr>\n",
       "      <th>1</th>\n",
       "      <td>0.90</td>\n",
       "      <td>0.67</td>\n",
       "      <td>Si</td>\n",
       "      <td>PT</td>\n",
       "    </tr>\n",
       "    <tr>\n",
       "      <th>2</th>\n",
       "      <td>0.97</td>\n",
       "      <td>0.65</td>\n",
       "      <td>Ga</td>\n",
       "      <td>PT</td>\n",
       "    </tr>\n",
       "    <tr>\n",
       "      <th>3</th>\n",
       "      <td>1.04</td>\n",
       "      <td>0.76</td>\n",
       "      <td>Al</td>\n",
       "      <td>PT</td>\n",
       "    </tr>\n",
       "    <tr>\n",
       "      <th>4</th>\n",
       "      <td>1.10</td>\n",
       "      <td>0.79</td>\n",
       "      <td>Ir</td>\n",
       "      <td>PT</td>\n",
       "    </tr>\n",
       "    <tr>\n",
       "      <th>5</th>\n",
       "      <td>0.32</td>\n",
       "      <td>0.62</td>\n",
       "      <td>Zn</td>\n",
       "      <td>TM</td>\n",
       "    </tr>\n",
       "    <tr>\n",
       "      <th>6</th>\n",
       "      <td>0.45</td>\n",
       "      <td>0.68</td>\n",
       "      <td>Cd</td>\n",
       "      <td>TM</td>\n",
       "    </tr>\n",
       "    <tr>\n",
       "      <th>7</th>\n",
       "      <td>0.14</td>\n",
       "      <td>0.66</td>\n",
       "      <td>Be</td>\n",
       "      <td>Alk</td>\n",
       "    </tr>\n",
       "    <tr>\n",
       "      <th>8</th>\n",
       "      <td>0.25</td>\n",
       "      <td>0.87</td>\n",
       "      <td>Mg</td>\n",
       "      <td>Alk</td>\n",
       "    </tr>\n",
       "    <tr>\n",
       "      <th>9</th>\n",
       "      <td>0.19</td>\n",
       "      <td>0.99</td>\n",
       "      <td>Li</td>\n",
       "      <td>Alk</td>\n",
       "    </tr>\n",
       "    <tr>\n",
       "      <th>10</th>\n",
       "      <td>0.28</td>\n",
       "      <td>1.01</td>\n",
       "      <td>Na</td>\n",
       "      <td>Alk</td>\n",
       "    </tr>\n",
       "    <tr>\n",
       "      <th>11</th>\n",
       "      <td>0.54</td>\n",
       "      <td>1.23</td>\n",
       "      <td>Ca</td>\n",
       "      <td>Alk</td>\n",
       "    </tr>\n",
       "    <tr>\n",
       "      <th>12</th>\n",
       "      <td>0.59</td>\n",
       "      <td>1.34</td>\n",
       "      <td>K</td>\n",
       "      <td>Alk</td>\n",
       "    </tr>\n",
       "    <tr>\n",
       "      <th>13</th>\n",
       "      <td>0.69</td>\n",
       "      <td>1.36</td>\n",
       "      <td>Sr</td>\n",
       "      <td>Alk</td>\n",
       "    </tr>\n",
       "    <tr>\n",
       "      <th>14</th>\n",
       "      <td>0.74</td>\n",
       "      <td>1.45</td>\n",
       "      <td>Rb</td>\n",
       "      <td>Alk</td>\n",
       "    </tr>\n",
       "  </tbody>\n",
       "</table>\n",
       "</div>"
      ],
      "text/plain": [
       "     rWC   rCh Atom Type\n",
       "0   0.78  0.50    B   PT\n",
       "1   0.90  0.67   Si   PT\n",
       "2   0.97  0.65   Ga   PT\n",
       "3   1.04  0.76   Al   PT\n",
       "4   1.10  0.79   Ir   PT\n",
       "5   0.32  0.62   Zn   TM\n",
       "6   0.45  0.68   Cd   TM\n",
       "7   0.14  0.66   Be  Alk\n",
       "8   0.25  0.87   Mg  Alk\n",
       "9   0.19  0.99   Li  Alk\n",
       "10  0.28  1.01   Na  Alk\n",
       "11  0.54  1.23   Ca  Alk\n",
       "12  0.59  1.34    K  Alk\n",
       "13  0.69  1.36   Sr  Alk\n",
       "14  0.74  1.45   Rb  Alk"
      ]
     },
     "execution_count": 4,
     "metadata": {},
     "output_type": "execute_result"
    }
   ],
   "source": [
    "data"
   ]
  },
  {
   "cell_type": "markdown",
   "metadata": {},
   "source": [
    "### Functions:\n",
    "#### 1. dist(vec1,vec2): caculate Euclidean distance.\n",
    "* input: 2 same size 1-D arrays.\n",
    "* output: Euclidean distance between them."
   ]
  },
  {
   "cell_type": "code",
   "execution_count": 5,
   "metadata": {
    "collapsed": false
   },
   "outputs": [
    {
     "name": "stdout",
     "output_type": "stream",
     "text": [
      "\n"
     ]
    }
   ],
   "source": [
    "\"\"\"\n",
    "def dist(vec1,vec2):\n",
    "#Use scipy package to calculate Euclidean distance.\n",
    "    from scipy.spatial import distance\n",
    "    return(distance.euclidean(vec1,vec2))\n",
    "\"\"\"\n",
    "print()"
   ]
  },
  {
   "cell_type": "code",
   "execution_count": 6,
   "metadata": {
    "collapsed": false
   },
   "outputs": [
    {
     "data": {
      "text/plain": [
       "0.67623960250786863"
      ]
     },
     "execution_count": 6,
     "metadata": {},
     "output_type": "execute_result"
    }
   ],
   "source": [
    "#Try\n",
    "knn.dist(data.loc[0][0:2],test.loc[0][0:2])"
   ]
  },
  {
   "cell_type": "markdown",
   "metadata": {},
   "source": [
    "#### 2. def sortdist(df, vec): calculate Eulidean distance between input 1-D array and each row in input dataframe.\n",
    "* input: (df: a dataframe; vec: 1-D array with 2 elements)\n",
    "* output: distance is ordered from min to max with its index."
   ]
  },
  {
   "cell_type": "code",
   "execution_count": 7,
   "metadata": {
    "collapsed": false
   },
   "outputs": [
    {
     "name": "stdout",
     "output_type": "stream",
     "text": [
      "\n"
     ]
    }
   ],
   "source": [
    "\"\"\"\n",
    "def sortdist(df, vec):\n",
    "#Use for loop, calculate Eulidean distance between input 1-D array and\n",
    "#each row in input dataframe.\n",
    "    distlist = []\n",
    "    for index, row in df.iterrows():\n",
    "        distlist.append([dist(row[0:2],vec),index])\n",
    "#Output is ordered from min to max with its index.\n",
    "    distlist.sort()\n",
    "    return(distlist)\n",
    "\"\"\"\n",
    "print()"
   ]
  },
  {
   "cell_type": "code",
   "execution_count": 8,
   "metadata": {
    "collapsed": false
   },
   "outputs": [
    {
     "data": {
      "text/plain": [
       "[[0.18681541692269407, 6],\n",
       " [0.21633307652783934, 5],\n",
       " [0.28000000000000003, 0],\n",
       " [0.39395431207184417, 7],\n",
       " [0.43462627624201466, 1],\n",
       " [0.44654227123532214, 8],\n",
       " [0.49335585534176041, 2],\n",
       " [0.55542776307995267, 10],\n",
       " [0.57982756057296891, 9],\n",
       " [0.59933296255086788, 3],\n",
       " [0.66640828326184554, 4],\n",
       " [0.73109506905736954, 11],\n",
       " [0.84480767041972349, 12],\n",
       " [0.88073832663283147, 13],\n",
       " [0.97984692682071517, 14]]"
      ]
     },
     "execution_count": 8,
     "metadata": {},
     "output_type": "execute_result"
    }
   ],
   "source": [
    "#Try\n",
    "knn.sortdist(data,[0.5,0.5])"
   ]
  },
  {
   "cell_type": "markdown",
   "metadata": {},
   "source": [
    "#### 3. classify(k,df,vec): give 1-D array a group by choosing a k value and training dataframe.\n",
    "* input: (k: k values; df: training dataframe, there should be a column named 'Type'; vec: 1-D array with 2 elements)\n",
    "* output: group which vec belongs to.\n",
    "##### Note: If there are 2 or more max values, it will choose the closet point as its group among those max values.(Please example below)"
   ]
  },
  {
   "cell_type": "code",
   "execution_count": 9,
   "metadata": {
    "collapsed": false
   },
   "outputs": [
    {
     "name": "stdout",
     "output_type": "stream",
     "text": [
      "\n"
     ]
    }
   ],
   "source": [
    "\"\"\"\n",
    "def classify(k,df,vec):\n",
    "    import itertools as it\n",
    "    countlist = []\n",
    "    grouplist = []\n",
    "    gpsorted = []\n",
    "    makechoice = []\n",
    "#Choose k numbers of sorted data.\n",
    "    kdistlist = sortdist(df,vec)[0:k]\n",
    "#Find out the group it belongs to.\n",
    "    for i in range(k):\n",
    "        grouplist.append(df.loc[kdistlist[i][1]]['Type'])\n",
    "#Use groupby to get numbers of the same group and unduplicated group name.\n",
    "    gp = sorted(grouplist)\n",
    "#    print(grouplist)\n",
    "    for key, group in it.groupby(gp):\n",
    "        countlist.append(len(list(group)))\n",
    "        gpsorted.append(key)\n",
    "#    print(countlist)\n",
    "#    print(gpsorted)\n",
    "#Use a if loop to deal with 2 or more max values in countlist.\n",
    "    if countlist.count(max(countlist))>1:\n",
    "        for j in range(len(countlist)):\n",
    "            if countlist[j] == max(countlist):\n",
    "                makechoice.append(grouplist.index(gpsorted[j]))\n",
    "#        print(makechoice)\n",
    "#It will choose the group which appeared ahead in grouplist.\n",
    "#(In most case, it is the shortest distance among equal numbers of same\n",
    "#groups.)\n",
    "        group = grouplist[min(makechoice)]\n",
    "    else:\n",
    "        group = gpsorted[countlist.index(max(countlist))]\n",
    "    return group\n",
    "\"\"\"\n",
    "print()"
   ]
  },
  {
   "cell_type": "code",
   "execution_count": 10,
   "metadata": {
    "collapsed": false
   },
   "outputs": [
    {
     "data": {
      "text/plain": [
       "'PT'"
      ]
     },
     "execution_count": 10,
     "metadata": {},
     "output_type": "execute_result"
    }
   ],
   "source": [
    "# Try\n",
    "knn.classify(8,data,[0.5,0.5])"
   ]
  },
  {
   "cell_type": "markdown",
   "metadata": {},
   "source": [
    "In this class, the group types in order of the distance to point [0.5, 0.5] are ['TM', 'TM', 'PT', 'Alk', 'PT', 'Alk', 'PT', 'Alk'] (can be checked by `sortdist` function). There are 2 'TM', 3 'PT', and 3 'Alk'. It will choose 'PT' rather than 'Alk' because the first 'PT' (index = 2) is in front of the first 'Alk' (index = 3), which means the first 'PT' is closer to the point [0.5,0.5]."
   ]
  },
  {
   "cell_type": "markdown",
   "metadata": {},
   "source": [
    "#### 4. knn(traindf,inputdf,k): Knn classfy by a given k.\n",
    "* input: (traindf: training dataframe with a column named 'Type'; inputdf: dataframe which needs to be classified; k: k value)\n",
    "* output: inputdf with a new column named 'Knn Type'."
   ]
  },
  {
   "cell_type": "code",
   "execution_count": 11,
   "metadata": {
    "collapsed": false
   },
   "outputs": [
    {
     "name": "stdout",
     "output_type": "stream",
     "text": [
      "\n"
     ]
    }
   ],
   "source": [
    "\"\"\"\n",
    "def knn(traindf,inputdf,k):\n",
    "#Wrap all functions and append a column called 'Knn Type'.\n",
    "    group = []\n",
    "    for index, row in inputdf.iterrows():\n",
    "        group.append(classify(k,traindf,row[0:2]))\n",
    "    inputdf['Knn Type'] = group\n",
    "    return(inputdf)\n",
    "\"\"\"\n",
    "print()"
   ]
  },
  {
   "cell_type": "code",
   "execution_count": 12,
   "metadata": {
    "collapsed": false
   },
   "outputs": [
    {
     "data": {
      "text/html": [
       "<div>\n",
       "<table border=\"1\" class=\"dataframe\">\n",
       "  <thead>\n",
       "    <tr style=\"text-align: right;\">\n",
       "      <th></th>\n",
       "      <th>rWC</th>\n",
       "      <th>rCh</th>\n",
       "      <th>Atom</th>\n",
       "      <th>Type</th>\n",
       "      <th>Knn Type</th>\n",
       "    </tr>\n",
       "  </thead>\n",
       "  <tbody>\n",
       "    <tr>\n",
       "      <th>0</th>\n",
       "      <td>0.51</td>\n",
       "      <td>1.12</td>\n",
       "      <td>X1</td>\n",
       "      <td>Alk</td>\n",
       "      <td>Alk</td>\n",
       "    </tr>\n",
       "    <tr>\n",
       "      <th>1</th>\n",
       "      <td>0.37</td>\n",
       "      <td>0.77</td>\n",
       "      <td>X2</td>\n",
       "      <td>TM</td>\n",
       "      <td>TM</td>\n",
       "    </tr>\n",
       "    <tr>\n",
       "      <th>2</th>\n",
       "      <td>0.62</td>\n",
       "      <td>0.35</td>\n",
       "      <td>X3</td>\n",
       "      <td>PT</td>\n",
       "      <td>PT</td>\n",
       "    </tr>\n",
       "    <tr>\n",
       "      <th>3</th>\n",
       "      <td>0.62</td>\n",
       "      <td>0.62</td>\n",
       "      <td>X4</td>\n",
       "      <td>TM</td>\n",
       "      <td>TM</td>\n",
       "    </tr>\n",
       "    <tr>\n",
       "      <th>4</th>\n",
       "      <td>0.62</td>\n",
       "      <td>0.93</td>\n",
       "      <td>X5</td>\n",
       "      <td>Alk</td>\n",
       "      <td>Alk</td>\n",
       "    </tr>\n",
       "  </tbody>\n",
       "</table>\n",
       "</div>"
      ],
      "text/plain": [
       "    rWC   rCh Atom Type Knn Type\n",
       "0  0.51  1.12   X1  Alk      Alk\n",
       "1  0.37  0.77   X2   TM       TM\n",
       "2  0.62  0.35   X3   PT       PT\n",
       "3  0.62  0.62   X4   TM       TM\n",
       "4  0.62  0.93   X5  Alk      Alk"
      ]
     },
     "execution_count": 12,
     "metadata": {},
     "output_type": "execute_result"
    }
   ],
   "source": [
    "knn.knn(data, test, 4)"
   ]
  },
  {
   "cell_type": "markdown",
   "metadata": {},
   "source": [
    "#### 5. knnac(traindf,inputdf,k): calculate accuracy by different k value.\n",
    "* input: (traindf: training dataframe with a column named 'Type'; inputdf: dataframe which needs to be classified; k: a list of k value)\n",
    "* output: a dictionary with k as the keys and the training accuracy of the test set."
   ]
  },
  {
   "cell_type": "code",
   "execution_count": 13,
   "metadata": {
    "collapsed": false
   },
   "outputs": [
    {
     "name": "stdout",
     "output_type": "stream",
     "text": [
      "\n"
     ]
    }
   ],
   "source": [
    "\"\"\"\n",
    "def knnac(traindf,inputdf,k):\n",
    "#Creat a dictionary, and calculate accuracy.\n",
    "    k_ac = {}\n",
    "    for i in k:\n",
    "        n = 0\n",
    "        for j in range(inputdf.shape[0]):\n",
    "            if knn(traindf,inputdf,i)['Type'][j] == knn(traindf,inputdf,i)['Knn $\n",
    "                n += 1\n",
    "        k_ac[i] = '{0:.1%}'.format(n/inputdf.shape[0])\n",
    "    return k_ac\n",
    "\"\"\"\n",
    "print()"
   ]
  },
  {
   "cell_type": "code",
   "execution_count": 14,
   "metadata": {
    "collapsed": false
   },
   "outputs": [
    {
     "data": {
      "text/plain": [
       "{1: '80.0%',\n",
       " 2: '80.0%',\n",
       " 3: '60.0%',\n",
       " 4: '100.0%',\n",
       " 5: '60.0%',\n",
       " 6: '60.0%',\n",
       " 7: '60.0%',\n",
       " 8: '60.0%',\n",
       " 9: '60.0%',\n",
       " 10: '60.0%',\n",
       " 11: '60.0%',\n",
       " 12: '60.0%',\n",
       " 13: '40.0%',\n",
       " 14: '40.0%'}"
      ]
     },
     "execution_count": 14,
     "metadata": {},
     "output_type": "execute_result"
    }
   ],
   "source": [
    "#Try\n",
    "knn.knnac(data,test,range(1,data.shape[0]))"
   ]
  },
  {
   "cell_type": "markdown",
   "metadata": {
    "collapsed": true
   },
   "source": [
    "### Unit tests:"
   ]
  },
  {
   "cell_type": "code",
   "execution_count": 15,
   "metadata": {
    "collapsed": true
   },
   "outputs": [],
   "source": [
    "import test_knn as tk"
   ]
  },
  {
   "cell_type": "markdown",
   "metadata": {},
   "source": [
    "#### 1."
   ]
  },
  {
   "cell_type": "code",
   "execution_count": 16,
   "metadata": {
    "collapsed": true
   },
   "outputs": [],
   "source": [
    "tk.test_dist()"
   ]
  },
  {
   "cell_type": "code",
   "execution_count": 17,
   "metadata": {
    "collapsed": false
   },
   "outputs": [
    {
     "name": "stdout",
     "output_type": "stream",
     "text": [
      "\n"
     ]
    }
   ],
   "source": [
    "\"\"\"\n",
    "def test_dist():\n",
    "    import knn\n",
    "    vec1 = [0, 0, 0, 1]\n",
    "    vec2 = [0, 0, 0, 0]\n",
    "    assert int(knn.dist(vec1, vec2)) == 1, \"Distance calculate not correct.\"\n",
    "\"\"\"\n",
    "print()"
   ]
  },
  {
   "cell_type": "markdown",
   "metadata": {},
   "source": [
    "#### 2."
   ]
  },
  {
   "cell_type": "code",
   "execution_count": 18,
   "metadata": {
    "collapsed": true
   },
   "outputs": [],
   "source": [
    "tk.test_sortdist()"
   ]
  },
  {
   "cell_type": "code",
   "execution_count": 19,
   "metadata": {
    "collapsed": false
   },
   "outputs": [
    {
     "name": "stdout",
     "output_type": "stream",
     "text": [
      "\n"
     ]
    }
   ],
   "source": [
    "\"\"\"\n",
    "def test_sortdist():\n",
    "    import knn\n",
    "    import pandas as pd\n",
    "    df = pd.DataFrame([[0,3], [0,1], [0,2]])\n",
    "    vec = [0,0]\n",
    "    assert int(knn.sortdist(df,vec)[0][0]) == 1, \"Sort not handled properly\"\n",
    "    assert int(knn.sortdist(df,vec)[0][1]) == 1, \"Index finding not handled properly.\"\n",
    "\"\"\"\n",
    "print()"
   ]
  },
  {
   "cell_type": "markdown",
   "metadata": {},
   "source": [
    "#### 3."
   ]
  },
  {
   "cell_type": "code",
   "execution_count": 20,
   "metadata": {
    "collapsed": true
   },
   "outputs": [],
   "source": [
    "tk.test_classify()"
   ]
  },
  {
   "cell_type": "code",
   "execution_count": 21,
   "metadata": {
    "collapsed": false
   },
   "outputs": [
    {
     "name": "stdout",
     "output_type": "stream",
     "text": [
      "\n"
     ]
    }
   ],
   "source": [
    "\"\"\"\n",
    "def test_classify():\n",
    "    import knn\n",
    "    import pandas as pd\n",
    "    df = pd.DataFrame([[0,3,'C'], [0,1,'B'], [0,2,'A']],columns = [1,2,'Type'])\n",
    "    vec = [0,0]\n",
    "#Test if there are multiple group type by a given k.\n",
    "    assert knn.classify(1,df,vec) == 'B', \"Group finding not handled properly.\"\n",
    "    assert knn.classify(2,df,vec) == 'B', \"Group finding not handled properly.\"\n",
    "    assert knn.classify(3,df,vec) == 'B', \"Group finding not handled properly.\"\n",
    "\"\"\"\n",
    "print()"
   ]
  },
  {
   "cell_type": "markdown",
   "metadata": {},
   "source": [
    "#### 4."
   ]
  },
  {
   "cell_type": "code",
   "execution_count": 22,
   "metadata": {
    "collapsed": true
   },
   "outputs": [],
   "source": [
    "tk.test_knn()"
   ]
  },
  {
   "cell_type": "code",
   "execution_count": 23,
   "metadata": {
    "collapsed": false
   },
   "outputs": [
    {
     "name": "stdout",
     "output_type": "stream",
     "text": [
      "\n"
     ]
    }
   ],
   "source": [
    "\"\"\"\n",
    "def test_knn():\n",
    "    import knn\n",
    "    import pandas as pd\n",
    "    df1 = pd.DataFrame([[0,3,'C'], [0,1,'B'], [0,2,'A']],columns = [1,2,'Type'])\n",
    "    df2 = pd.DataFrame([[0,3.1], [0,1.1], [0,2.1]])\n",
    "    assert list(knn.knn(df1,df2,1)['Knn Type']) == ['C', 'B', 'A'], \"Knn not handled properly.\"\n",
    "    assert knn.knn(df1,df2,1).shape[1] == 3, \"Column appending not handled properly.\"\n",
    "\"\"\"\n",
    "print()"
   ]
  },
  {
   "cell_type": "markdown",
   "metadata": {},
   "source": [
    "#### 5."
   ]
  },
  {
   "cell_type": "code",
   "execution_count": 24,
   "metadata": {
    "collapsed": true
   },
   "outputs": [],
   "source": [
    "tk.test_knnac()"
   ]
  },
  {
   "cell_type": "code",
   "execution_count": 25,
   "metadata": {
    "collapsed": false
   },
   "outputs": [
    {
     "name": "stdout",
     "output_type": "stream",
     "text": [
      "\n"
     ]
    }
   ],
   "source": [
    "\"\"\"\n",
    "def test_knnac():\n",
    "    import knn\n",
    "    import pandas as pd\n",
    "    df1 = pd.DataFrame([[0,3,'C'], [0,1,'B'], [0,2,'A']],columns = [1,2,'Type'])\n",
    "    df2 = pd.DataFrame([[0,3.1,'C'], [0,1.1,'B'], [0,2.1,'A']],columns = [1,2,'Type'])\n",
    "    assert len(knn.knnac(df1,df2,[1,2,3])) == 3, \"Maybe miss a calculation of a k value.\"\n",
    "    assert knn.knnac(df1,df2,[1,2,3])[1] == '100.0%', \"Accuracy not handled properly.\"\n",
    "    assert type(knn.knnac(df1,df2,[1,2,3])) == dict, \"Dictionary not handled properly\"\n",
    "\"\"\"\n",
    "print()"
   ]
  },
  {
   "cell_type": "code",
   "execution_count": null,
   "metadata": {
    "collapsed": true
   },
   "outputs": [],
   "source": []
  }
 ],
 "metadata": {
  "anaconda-cloud": {},
  "kernelspec": {
   "display_name": "Python [default]",
   "language": "python",
   "name": "python3"
  },
  "language_info": {
   "codemirror_mode": {
    "name": "ipython",
    "version": 3
   },
   "file_extension": ".py",
   "mimetype": "text/x-python",
   "name": "python",
   "nbconvert_exporter": "python",
   "pygments_lexer": "ipython3",
   "version": "3.5.2"
  }
 },
 "nbformat": 4,
 "nbformat_minor": 2
}
